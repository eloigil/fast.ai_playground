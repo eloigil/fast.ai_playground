{
  "nbformat": 4,
  "nbformat_minor": 0,
  "metadata": {
    "colab": {
      "name": "04_mnist_basics.ipynb",
      "provenance": [],
      "collapsed_sections": [],
      "authorship_tag": "ABX9TyPp2f4SnkbQuJNXcIUXK4gR",
      "include_colab_link": true
    },
    "kernelspec": {
      "name": "python3",
      "display_name": "Python 3"
    }
  },
  "cells": [
    {
      "cell_type": "markdown",
      "metadata": {
        "id": "view-in-github",
        "colab_type": "text"
      },
      "source": [
        "<a href=\"https://colab.research.google.com/github/eloigil/fast.ai_playground/blob/main/04_mnist_basics.ipynb\" target=\"_parent\"><img src=\"https://colab.research.google.com/assets/colab-badge.svg\" alt=\"Open In Colab\"/></a>"
      ]
    },
    {
      "cell_type": "code",
      "metadata": {
        "id": "1NYyslslmasF",
        "colab": {
          "base_uri": "https://localhost:8080/"
        },
        "outputId": "4e5d5cbd-5f07-4733-dbdb-1a4974ad919c"
      },
      "source": [
        "!pip install -Uqq fastbook\n",
        "import fastbook\n",
        "fastbook.setup_book()"
      ],
      "execution_count": 1,
      "outputs": [
        {
          "output_type": "stream",
          "text": [
            "\u001b[K     |████████████████████████████████| 727kB 7.7MB/s \n",
            "\u001b[K     |████████████████████████████████| 194kB 16.6MB/s \n",
            "\u001b[K     |████████████████████████████████| 51kB 6.2MB/s \n",
            "\u001b[K     |████████████████████████████████| 1.2MB 23.8MB/s \n",
            "\u001b[K     |████████████████████████████████| 776.8MB 23kB/s \n",
            "\u001b[K     |████████████████████████████████| 12.8MB 47.1MB/s \n",
            "\u001b[K     |████████████████████████████████| 61kB 7.9MB/s \n",
            "\u001b[K     |████████████████████████████████| 51kB 7.2MB/s \n",
            "\u001b[31mERROR: torchtext 0.9.0 has requirement torch==1.8.0, but you'll have torch 1.7.1 which is incompatible.\u001b[0m\n",
            "\u001b[?25hMounted at /content/gdrive\n"
          ],
          "name": "stdout"
        }
      ]
    },
    {
      "cell_type": "code",
      "metadata": {
        "id": "UkZWlyipobf7"
      },
      "source": [
        "from fastai.vision.all import *\n",
        "from fastbook import *\n",
        "\n",
        "matplotlib.rc('image', cmap='Greys')"
      ],
      "execution_count": 2,
      "outputs": []
    },
    {
      "cell_type": "code",
      "metadata": {
        "colab": {
          "base_uri": "https://localhost:8080/",
          "height": 34
        },
        "id": "rVJM2av6od41",
        "outputId": "b38cae7b-582b-4505-c603-dab077a78b2c"
      },
      "source": [
        "path = untar_data(URLs.MNIST_SAMPLE)\n",
        "path"
      ],
      "execution_count": 3,
      "outputs": [
        {
          "output_type": "display_data",
          "data": {
            "text/html": [
              ""
            ],
            "text/plain": [
              "<IPython.core.display.HTML object>"
            ]
          },
          "metadata": {
            "tags": []
          }
        },
        {
          "output_type": "execute_result",
          "data": {
            "text/plain": [
              "Path('/root/.fastai/data/mnist_sample')"
            ]
          },
          "metadata": {
            "tags": []
          },
          "execution_count": 3
        }
      ]
    },
    {
      "cell_type": "code",
      "metadata": {
        "id": "PZvuQVqApKXF"
      },
      "source": [
        "Path.BASE_PATH = path"
      ],
      "execution_count": 4,
      "outputs": []
    },
    {
      "cell_type": "code",
      "metadata": {
        "colab": {
          "base_uri": "https://localhost:8080/"
        },
        "id": "-Xs7JCBapAvi",
        "outputId": "839cb755-2c14-49e8-af4e-1df2c2027465"
      },
      "source": [
        "path.ls()"
      ],
      "execution_count": 5,
      "outputs": [
        {
          "output_type": "execute_result",
          "data": {
            "text/plain": [
              "(#3) [Path('valid'),Path('labels.csv'),Path('train')]"
            ]
          },
          "metadata": {
            "tags": []
          },
          "execution_count": 5
        }
      ]
    },
    {
      "cell_type": "code",
      "metadata": {
        "colab": {
          "base_uri": "https://localhost:8080/"
        },
        "id": "26R_RsARpE30",
        "outputId": "8dffcfa4-78d5-47bf-8bd6-7a867a719e22"
      },
      "source": [
        "(path/'train').ls()"
      ],
      "execution_count": 6,
      "outputs": [
        {
          "output_type": "execute_result",
          "data": {
            "text/plain": [
              "(#2) [Path('train/7'),Path('train/3')]"
            ]
          },
          "metadata": {
            "tags": []
          },
          "execution_count": 6
        }
      ]
    },
    {
      "cell_type": "code",
      "metadata": {
        "id": "FlCGHSUEppQa"
      },
      "source": [
        "threes = (path/'train'/'3').ls().sorted()\n",
        "sevens = (path/'train'/'7').ls().sorted()\n",
        "# print(threes)\n",
        "# print(sevens)"
      ],
      "execution_count": 7,
      "outputs": []
    },
    {
      "cell_type": "code",
      "metadata": {
        "colab": {
          "base_uri": "https://localhost:8080/",
          "height": 45
        },
        "id": "m7JzcZVgp1wZ",
        "outputId": "a9379e2c-039f-4649-c7dd-aa7419a8db39"
      },
      "source": [
        "im3_path = threes[1]\n",
        "im3 = Image.open(im3_path)\n",
        "im3"
      ],
      "execution_count": 8,
      "outputs": [
        {
          "output_type": "execute_result",
          "data": {
            "image/png": "[encoded data removed]",
            "text/plain": [
              "<PIL.PngImagePlugin.PngImageFile image mode=L size=28x28 at 0x7FD21C9F9690>"
            ]
          },
          "metadata": {
            "tags": []
          },
          "execution_count": 8
        }
      ]
    },
    {
      "cell_type": "code",
      "metadata": {
        "colab": {
          "base_uri": "https://localhost:8080/"
        },
        "id": "9UJv1u61qCBy",
        "outputId": "04b06216-26dd-40d0-ff7c-7d0e850e999b"
      },
      "source": [
        "type(im3) #PIL is Pynthon Imaging Library"
      ],
      "execution_count": 9,
      "outputs": [
        {
          "output_type": "execute_result",
          "data": {
            "text/plain": [
              "PIL.PngImagePlugin.PngImageFile"
            ]
          },
          "metadata": {
            "tags": []
          },
          "execution_count": 9
        }
      ]
    },
    {
      "cell_type": "code",
      "metadata": {
        "colab": {
          "base_uri": "https://localhost:8080/"
        },
        "id": "uTW8gO15qfmJ",
        "outputId": "d88790bf-2791-4eb9-d00f-5f78de32007b"
      },
      "source": [
        "# Converting it to NumPy array\n",
        "array(im3)[4:10,4:10] # the 4:10 is just selecting a part of the total array"
      ],
      "execution_count": 10,
      "outputs": [
        {
          "output_type": "execute_result",
          "data": {
            "text/plain": [
              "array([[  0,   0,   0,   0,   0,   0],\n",
              "       [  0,   0,   0,   0,   0,  29],\n",
              "       [  0,   0,   0,  48, 166, 224],\n",
              "       [  0,  93, 244, 249, 253, 187],\n",
              "       [  0, 107, 253, 253, 230,  48],\n",
              "       [  0,   3,  20,  20,  15,   0]], dtype=uint8)"
            ]
          },
          "metadata": {
            "tags": []
          },
          "execution_count": 10
        }
      ]
    },
    {
      "cell_type": "code",
      "metadata": {
        "colab": {
          "base_uri": "https://localhost:8080/"
        },
        "id": "apV_n3r0rA6s",
        "outputId": "0562a44d-1ae3-45b5-8113-3516e7cb4b49"
      },
      "source": [
        "# Converting it to PyTorch tensor\n",
        "tensor(im3)[4:10,4:10]"
      ],
      "execution_count": 11,
      "outputs": [
        {
          "output_type": "execute_result",
          "data": {
            "text/plain": [
              "tensor([[  0,   0,   0,   0,   0,   0],\n",
              "        [  0,   0,   0,   0,   0,  29],\n",
              "        [  0,   0,   0,  48, 166, 224],\n",
              "        [  0,  93, 244, 249, 253, 187],\n",
              "        [  0, 107, 253, 253, 230,  48],\n",
              "        [  0,   3,  20,  20,  15,   0]], dtype=torch.uint8)"
            ]
          },
          "metadata": {
            "tags": []
          },
          "execution_count": 11
        }
      ]
    },
    {
      "cell_type": "code",
      "metadata": {
        "colab": {
          "base_uri": "https://localhost:8080/",
          "height": 271
        },
        "id": "CRjuOYcqrFxH",
        "outputId": "7aed8711-c753-4e14-838c-9a5ab455ff5b"
      },
      "source": [
        "im3_t = tensor(im3)\n",
        "df = pd.DataFrame(im3_t[4:15, 4:22]) #pandas dataframe (cause it has background_gradient)\n",
        "df.style.set_properties(**{'font-size': '6pt'}).background_gradient('Greys')"
      ],
      "execution_count": 12,
      "outputs": [
        {
          "output_type": "execute_result",
          "data": {
            "text/html": [
              "<style  type=\"text/css\" >\n",
              "#T_81b017fc_8060_11eb_bf46_0242ac1c0002row0_col0,#T_81b017fc_8060_11eb_bf46_0242ac1c0002row0_col1,#T_81b017fc_8060_11eb_bf46_0242ac1c0002row0_col2,#T_81b017fc_8060_11eb_bf46_0242ac1c0002row0_col3,#T_81b017fc_8060_11eb_bf46_0242ac1c0002row0_col4,#T_81b017fc_8060_11eb_bf46_0242ac1c0002row0_col5,#T_81b017fc_8060_11eb_bf46_0242ac1c0002row0_col6,#T_81b017fc_8060_11eb_bf46_0242ac1c0002row0_col7,#T_81b017fc_8060_11eb_bf46_0242ac1c0002row0_col8,#T_81b017fc_8060_11eb_bf46_0242ac1c0002row0_col9,#T_81b017fc_8060_11eb_bf46_0242ac1c0002row0_col10,#T_81b017fc_8060_11eb_bf46_0242ac1c0002row0_col11,#T_81b017fc_8060_11eb_bf46_0242ac1c0002row0_col12,#T_81b017fc_8060_11eb_bf46_0242ac1c0002row0_col13,#T_81b017fc_8060_11eb_bf46_0242ac1c0002row0_col14,#T_81b017fc_8060_11eb_bf46_0242ac1c0002row0_col15,#T_81b017fc_8060_11eb_bf46_0242ac1c0002row0_col16,#T_81b017fc_8060_11eb_bf46_0242ac1c0002row0_col17,#T_81b017fc_8060_11eb_bf46_0242ac1c0002row1_col0,#T_81b017fc_8060_11eb_bf46_0242ac1c0002row1_col1,#T_81b017fc_8060_11eb_bf46_0242ac1c0002row1_col2,#T_81b017fc_8060_11eb_bf46_0242ac1c0002row1_col3,#T_81b017fc_8060_11eb_bf46_0242ac1c0002row1_col4,#T_81b017fc_8060_11eb_bf46_0242ac1c0002row1_col15,#T_81b017fc_8060_11eb_bf46_0242ac1c0002row1_col16,#T_81b017fc_8060_11eb_bf46_0242ac1c0002row1_col17,#T_81b017fc_8060_11eb_bf46_0242ac1c0002row2_col0,#T_81b017fc_8060_11eb_bf46_0242ac1c0002row2_col1,#T_81b017fc_8060_11eb_bf46_0242ac1c0002row2_col2,#T_81b017fc_8060_11eb_bf46_0242ac1c0002row2_col15,#T_81b017fc_8060_11eb_bf46_0242ac1c0002row2_col16,#T_81b017fc_8060_11eb_bf46_0242ac1c0002row2_col17,#T_81b017fc_8060_11eb_bf46_0242ac1c0002row3_col0,#T_81b017fc_8060_11eb_bf46_0242ac1c0002row3_col15,#T_81b017fc_8060_11eb_bf46_0242ac1c0002row3_col16,#T_81b017fc_8060_11eb_bf46_0242ac1c0002row3_col17,#T_81b017fc_8060_11eb_bf46_0242ac1c0002row4_col0,#T_81b017fc_8060_11eb_bf46_0242ac1c0002row4_col6,#T_81b017fc_8060_11eb_bf46_0242ac1c0002row4_col7,#T_81b017fc_8060_11eb_bf46_0242ac1c0002row4_col8,#T_81b017fc_8060_11eb_bf46_0242ac1c0002row4_col9,#T_81b017fc_8060_11eb_bf46_0242ac1c0002row4_col10,#T_81b017fc_8060_11eb_bf46_0242ac1c0002row4_col15,#T_81b017fc_8060_11eb_bf46_0242ac1c0002row4_col16,#T_81b017fc_8060_11eb_bf46_0242ac1c0002row4_col17,#T_81b017fc_8060_11eb_bf46_0242ac1c0002row5_col0,#T_81b017fc_8060_11eb_bf46_0242ac1c0002row5_col5,#T_81b017fc_8060_11eb_bf46_0242ac1c0002row5_col6,#T_81b017fc_8060_11eb_bf46_0242ac1c0002row5_col7,#T_81b017fc_8060_11eb_bf46_0242ac1c0002row5_col8,#T_81b017fc_8060_11eb_bf46_0242ac1c0002row5_col9,#T_81b017fc_8060_11eb_bf46_0242ac1c0002row5_col15,#T_81b017fc_8060_11eb_bf46_0242ac1c0002row5_col16,#T_81b017fc_8060_11eb_bf46_0242ac1c0002row5_col17,#T_81b017fc_8060_11eb_bf46_0242ac1c0002row6_col0,#T_81b017fc_8060_11eb_bf46_0242ac1c0002row6_col1,#T_81b017fc_8060_11eb_bf46_0242ac1c0002row6_col2,#T_81b017fc_8060_11eb_bf46_0242ac1c0002row6_col3,#T_81b017fc_8060_11eb_bf46_0242ac1c0002row6_col4,#T_81b017fc_8060_11eb_bf46_0242ac1c0002row6_col5,#T_81b017fc_8060_11eb_bf46_0242ac1c0002row6_col6,#T_81b017fc_8060_11eb_bf46_0242ac1c0002row6_col7,#T_81b017fc_8060_11eb_bf46_0242ac1c0002row6_col8,#T_81b017fc_8060_11eb_bf46_0242ac1c0002row6_col9,#T_81b017fc_8060_11eb_bf46_0242ac1c0002row6_col14,#T_81b017fc_8060_11eb_bf46_0242ac1c0002row6_col15,#T_81b017fc_8060_11eb_bf46_0242ac1c0002row6_col16,#T_81b017fc_8060_11eb_bf46_0242ac1c0002row6_col17,#T_81b017fc_8060_11eb_bf46_0242ac1c0002row7_col0,#T_81b017fc_8060_11eb_bf46_0242ac1c0002row7_col1,#T_81b017fc_8060_11eb_bf46_0242ac1c0002row7_col2,#T_81b017fc_8060_11eb_bf46_0242ac1c0002row7_col3,#T_81b017fc_8060_11eb_bf46_0242ac1c0002row7_col4,#T_81b017fc_8060_11eb_bf46_0242ac1c0002row7_col5,#T_81b017fc_8060_11eb_bf46_0242ac1c0002row7_col6,#T_81b017fc_8060_11eb_bf46_0242ac1c0002row7_col13,#T_81b017fc_8060_11eb_bf46_0242ac1c0002row7_col14,#T_81b017fc_8060_11eb_bf46_0242ac1c0002row7_col15,#T_81b017fc_8060_11eb_bf46_0242ac1c0002row7_col16,#T_81b017fc_8060_11eb_bf46_0242ac1c0002row7_col17,#T_81b017fc_8060_11eb_bf46_0242ac1c0002row8_col0,#T_81b017fc_8060_11eb_bf46_0242ac1c0002row8_col1,#T_81b017fc_8060_11eb_bf46_0242ac1c0002row8_col2,#T_81b017fc_8060_11eb_bf46_0242ac1c0002row8_col3,#T_81b017fc_8060_11eb_bf46_0242ac1c0002row8_col4,#T_81b017fc_8060_11eb_bf46_0242ac1c0002row8_col13,#T_81b017fc_8060_11eb_bf46_0242ac1c0002row8_col14,#T_81b017fc_8060_11eb_bf46_0242ac1c0002row8_col15,#T_81b017fc_8060_11eb_bf46_0242ac1c0002row8_col16,#T_81b017fc_8060_11eb_bf46_0242ac1c0002row8_col17,#T_81b017fc_8060_11eb_bf46_0242ac1c0002row9_col0,#T_81b017fc_8060_11eb_bf46_0242ac1c0002row9_col1,#T_81b017fc_8060_11eb_bf46_0242ac1c0002row9_col2,#T_81b017fc_8060_11eb_bf46_0242ac1c0002row9_col3,#T_81b017fc_8060_11eb_bf46_0242ac1c0002row9_col4,#T_81b017fc_8060_11eb_bf46_0242ac1c0002row9_col16,#T_81b017fc_8060_11eb_bf46_0242ac1c0002row9_col17,#T_81b017fc_8060_11eb_bf46_0242ac1c0002row10_col0,#T_81b017fc_8060_11eb_bf46_0242ac1c0002row10_col1,#T_81b017fc_8060_11eb_bf46_0242ac1c0002row10_col2,#T_81b017fc_8060_11eb_bf46_0242ac1c0002row10_col3,#T_81b017fc_8060_11eb_bf46_0242ac1c0002row10_col4,#T_81b017fc_8060_11eb_bf46_0242ac1c0002row10_col5,#T_81b017fc_8060_11eb_bf46_0242ac1c0002row10_col6,#T_81b017fc_8060_11eb_bf46_0242ac1c0002row10_col17{\n",
              "            font-size:  6pt;\n",
              "            background-color:  #ffffff;\n",
              "            color:  #000000;\n",
              "        }#T_81b017fc_8060_11eb_bf46_0242ac1c0002row1_col5{\n",
              "            font-size:  6pt;\n",
              "            background-color:  #efefef;\n",
              "            color:  #000000;\n",
              "        }#T_81b017fc_8060_11eb_bf46_0242ac1c0002row1_col6,#T_81b017fc_8060_11eb_bf46_0242ac1c0002row1_col13{\n",
              "            font-size:  6pt;\n",
              "            background-color:  #7c7c7c;\n",
              "            color:  #000000;\n",
              "        }#T_81b017fc_8060_11eb_bf46_0242ac1c0002row1_col7{\n",
              "            font-size:  6pt;\n",
              "            background-color:  #4a4a4a;\n",
              "            color:  #f1f1f1;\n",
              "        }#T_81b017fc_8060_11eb_bf46_0242ac1c0002row1_col8,#T_81b017fc_8060_11eb_bf46_0242ac1c0002row1_col9,#T_81b017fc_8060_11eb_bf46_0242ac1c0002row1_col10,#T_81b017fc_8060_11eb_bf46_0242ac1c0002row2_col5,#T_81b017fc_8060_11eb_bf46_0242ac1c0002row2_col6,#T_81b017fc_8060_11eb_bf46_0242ac1c0002row2_col7,#T_81b017fc_8060_11eb_bf46_0242ac1c0002row2_col11,#T_81b017fc_8060_11eb_bf46_0242ac1c0002row2_col12,#T_81b017fc_8060_11eb_bf46_0242ac1c0002row2_col13,#T_81b017fc_8060_11eb_bf46_0242ac1c0002row3_col4,#T_81b017fc_8060_11eb_bf46_0242ac1c0002row3_col12,#T_81b017fc_8060_11eb_bf46_0242ac1c0002row3_col13,#T_81b017fc_8060_11eb_bf46_0242ac1c0002row4_col1,#T_81b017fc_8060_11eb_bf46_0242ac1c0002row4_col2,#T_81b017fc_8060_11eb_bf46_0242ac1c0002row4_col3,#T_81b017fc_8060_11eb_bf46_0242ac1c0002row4_col12,#T_81b017fc_8060_11eb_bf46_0242ac1c0002row4_col13,#T_81b017fc_8060_11eb_bf46_0242ac1c0002row5_col12,#T_81b017fc_8060_11eb_bf46_0242ac1c0002row6_col11,#T_81b017fc_8060_11eb_bf46_0242ac1c0002row9_col11,#T_81b017fc_8060_11eb_bf46_0242ac1c0002row10_col11,#T_81b017fc_8060_11eb_bf46_0242ac1c0002row10_col12,#T_81b017fc_8060_11eb_bf46_0242ac1c0002row10_col13,#T_81b017fc_8060_11eb_bf46_0242ac1c0002row10_col14,#T_81b017fc_8060_11eb_bf46_0242ac1c0002row10_col15,#T_81b017fc_8060_11eb_bf46_0242ac1c0002row10_col16{\n",
              "            font-size:  6pt;\n",
              "            background-color:  #000000;\n",
              "            color:  #f1f1f1;\n",
              "        }#T_81b017fc_8060_11eb_bf46_0242ac1c0002row1_col11{\n",
              "            font-size:  6pt;\n",
              "            background-color:  #606060;\n",
              "            color:  #f1f1f1;\n",
              "        }#T_81b017fc_8060_11eb_bf46_0242ac1c0002row1_col12{\n",
              "            font-size:  6pt;\n",
              "            background-color:  #4d4d4d;\n",
              "            color:  #f1f1f1;\n",
              "        }#T_81b017fc_8060_11eb_bf46_0242ac1c0002row1_col14{\n",
              "            font-size:  6pt;\n",
              "            background-color:  #bbbbbb;\n",
              "            color:  #000000;\n",
              "        }#T_81b017fc_8060_11eb_bf46_0242ac1c0002row2_col3{\n",
              "            font-size:  6pt;\n",
              "            background-color:  #e4e4e4;\n",
              "            color:  #000000;\n",
              "        }#T_81b017fc_8060_11eb_bf46_0242ac1c0002row2_col4,#T_81b017fc_8060_11eb_bf46_0242ac1c0002row8_col6{\n",
              "            font-size:  6pt;\n",
              "            background-color:  #6b6b6b;\n",
              "            color:  #000000;\n",
              "        }#T_81b017fc_8060_11eb_bf46_0242ac1c0002row2_col8,#T_81b017fc_8060_11eb_bf46_0242ac1c0002row2_col14,#T_81b017fc_8060_11eb_bf46_0242ac1c0002row3_col14{\n",
              "            font-size:  6pt;\n",
              "            background-color:  #171717;\n",
              "            color:  #f1f1f1;\n",
              "        }#T_81b017fc_8060_11eb_bf46_0242ac1c0002row2_col9,#T_81b017fc_8060_11eb_bf46_0242ac1c0002row3_col11{\n",
              "            font-size:  6pt;\n",
              "            background-color:  #4b4b4b;\n",
              "            color:  #f1f1f1;\n",
              "        }#T_81b017fc_8060_11eb_bf46_0242ac1c0002row2_col10,#T_81b017fc_8060_11eb_bf46_0242ac1c0002row7_col10,#T_81b017fc_8060_11eb_bf46_0242ac1c0002row8_col8,#T_81b017fc_8060_11eb_bf46_0242ac1c0002row8_col10,#T_81b017fc_8060_11eb_bf46_0242ac1c0002row9_col8,#T_81b017fc_8060_11eb_bf46_0242ac1c0002row9_col10{\n",
              "            font-size:  6pt;\n",
              "            background-color:  #010101;\n",
              "            color:  #f1f1f1;\n",
              "        }#T_81b017fc_8060_11eb_bf46_0242ac1c0002row3_col1{\n",
              "            font-size:  6pt;\n",
              "            background-color:  #272727;\n",
              "            color:  #f1f1f1;\n",
              "        }#T_81b017fc_8060_11eb_bf46_0242ac1c0002row3_col2{\n",
              "            font-size:  6pt;\n",
              "            background-color:  #0a0a0a;\n",
              "            color:  #f1f1f1;\n",
              "        }#T_81b017fc_8060_11eb_bf46_0242ac1c0002row3_col3{\n",
              "            font-size:  6pt;\n",
              "            background-color:  #050505;\n",
              "            color:  #f1f1f1;\n",
              "        }#T_81b017fc_8060_11eb_bf46_0242ac1c0002row3_col5{\n",
              "            font-size:  6pt;\n",
              "            background-color:  #333333;\n",
              "            color:  #f1f1f1;\n",
              "        }#T_81b017fc_8060_11eb_bf46_0242ac1c0002row3_col6{\n",
              "            font-size:  6pt;\n",
              "            background-color:  #e6e6e6;\n",
              "            color:  #000000;\n",
              "        }#T_81b017fc_8060_11eb_bf46_0242ac1c0002row3_col7,#T_81b017fc_8060_11eb_bf46_0242ac1c0002row3_col10{\n",
              "            font-size:  6pt;\n",
              "            background-color:  #fafafa;\n",
              "            color:  #000000;\n",
              "        }#T_81b017fc_8060_11eb_bf46_0242ac1c0002row3_col8{\n",
              "            font-size:  6pt;\n",
              "            background-color:  #fbfbfb;\n",
              "            color:  #000000;\n",
              "        }#T_81b017fc_8060_11eb_bf46_0242ac1c0002row3_col9{\n",
              "            font-size:  6pt;\n",
              "            background-color:  #fdfdfd;\n",
              "            color:  #000000;\n",
              "        }#T_81b017fc_8060_11eb_bf46_0242ac1c0002row4_col4{\n",
              "            font-size:  6pt;\n",
              "            background-color:  #1b1b1b;\n",
              "            color:  #f1f1f1;\n",
              "        }#T_81b017fc_8060_11eb_bf46_0242ac1c0002row4_col5{\n",
              "            font-size:  6pt;\n",
              "            background-color:  #e0e0e0;\n",
              "            color:  #000000;\n",
              "        }#T_81b017fc_8060_11eb_bf46_0242ac1c0002row4_col11{\n",
              "            font-size:  6pt;\n",
              "            background-color:  #4e4e4e;\n",
              "            color:  #f1f1f1;\n",
              "        }#T_81b017fc_8060_11eb_bf46_0242ac1c0002row4_col14{\n",
              "            font-size:  6pt;\n",
              "            background-color:  #767676;\n",
              "            color:  #000000;\n",
              "        }#T_81b017fc_8060_11eb_bf46_0242ac1c0002row5_col1{\n",
              "            font-size:  6pt;\n",
              "            background-color:  #fcfcfc;\n",
              "            color:  #000000;\n",
              "        }#T_81b017fc_8060_11eb_bf46_0242ac1c0002row5_col2,#T_81b017fc_8060_11eb_bf46_0242ac1c0002row5_col3{\n",
              "            font-size:  6pt;\n",
              "            background-color:  #f6f6f6;\n",
              "            color:  #000000;\n",
              "        }#T_81b017fc_8060_11eb_bf46_0242ac1c0002row5_col4,#T_81b017fc_8060_11eb_bf46_0242ac1c0002row7_col7{\n",
              "            font-size:  6pt;\n",
              "            background-color:  #f8f8f8;\n",
              "            color:  #000000;\n",
              "        }#T_81b017fc_8060_11eb_bf46_0242ac1c0002row5_col10,#T_81b017fc_8060_11eb_bf46_0242ac1c0002row10_col7{\n",
              "            font-size:  6pt;\n",
              "            background-color:  #e8e8e8;\n",
              "            color:  #000000;\n",
              "        }#T_81b017fc_8060_11eb_bf46_0242ac1c0002row5_col11{\n",
              "            font-size:  6pt;\n",
              "            background-color:  #222222;\n",
              "            color:  #f1f1f1;\n",
              "        }#T_81b017fc_8060_11eb_bf46_0242ac1c0002row5_col13,#T_81b017fc_8060_11eb_bf46_0242ac1c0002row6_col12{\n",
              "            font-size:  6pt;\n",
              "            background-color:  #090909;\n",
              "            color:  #f1f1f1;\n",
              "        }#T_81b017fc_8060_11eb_bf46_0242ac1c0002row5_col14{\n",
              "            font-size:  6pt;\n",
              "            background-color:  #d0d0d0;\n",
              "            color:  #000000;\n",
              "        }#T_81b017fc_8060_11eb_bf46_0242ac1c0002row6_col10,#T_81b017fc_8060_11eb_bf46_0242ac1c0002row7_col11,#T_81b017fc_8060_11eb_bf46_0242ac1c0002row9_col6{\n",
              "            font-size:  6pt;\n",
              "            background-color:  #060606;\n",
              "            color:  #f1f1f1;\n",
              "        }#T_81b017fc_8060_11eb_bf46_0242ac1c0002row6_col13{\n",
              "            font-size:  6pt;\n",
              "            background-color:  #979797;\n",
              "            color:  #000000;\n",
              "        }#T_81b017fc_8060_11eb_bf46_0242ac1c0002row7_col8{\n",
              "            font-size:  6pt;\n",
              "            background-color:  #b6b6b6;\n",
              "            color:  #000000;\n",
              "        }#T_81b017fc_8060_11eb_bf46_0242ac1c0002row7_col9{\n",
              "            font-size:  6pt;\n",
              "            background-color:  #252525;\n",
              "            color:  #f1f1f1;\n",
              "        }#T_81b017fc_8060_11eb_bf46_0242ac1c0002row7_col12{\n",
              "            font-size:  6pt;\n",
              "            background-color:  #999999;\n",
              "            color:  #000000;\n",
              "        }#T_81b017fc_8060_11eb_bf46_0242ac1c0002row8_col5{\n",
              "            font-size:  6pt;\n",
              "            background-color:  #f9f9f9;\n",
              "            color:  #000000;\n",
              "        }#T_81b017fc_8060_11eb_bf46_0242ac1c0002row8_col7{\n",
              "            font-size:  6pt;\n",
              "            background-color:  #101010;\n",
              "            color:  #f1f1f1;\n",
              "        }#T_81b017fc_8060_11eb_bf46_0242ac1c0002row8_col9,#T_81b017fc_8060_11eb_bf46_0242ac1c0002row9_col9{\n",
              "            font-size:  6pt;\n",
              "            background-color:  #020202;\n",
              "            color:  #f1f1f1;\n",
              "        }#T_81b017fc_8060_11eb_bf46_0242ac1c0002row8_col11{\n",
              "            font-size:  6pt;\n",
              "            background-color:  #545454;\n",
              "            color:  #f1f1f1;\n",
              "        }#T_81b017fc_8060_11eb_bf46_0242ac1c0002row8_col12{\n",
              "            font-size:  6pt;\n",
              "            background-color:  #f1f1f1;\n",
              "            color:  #000000;\n",
              "        }#T_81b017fc_8060_11eb_bf46_0242ac1c0002row9_col5{\n",
              "            font-size:  6pt;\n",
              "            background-color:  #f7f7f7;\n",
              "            color:  #000000;\n",
              "        }#T_81b017fc_8060_11eb_bf46_0242ac1c0002row9_col7{\n",
              "            font-size:  6pt;\n",
              "            background-color:  #030303;\n",
              "            color:  #f1f1f1;\n",
              "        }#T_81b017fc_8060_11eb_bf46_0242ac1c0002row9_col12{\n",
              "            font-size:  6pt;\n",
              "            background-color:  #181818;\n",
              "            color:  #f1f1f1;\n",
              "        }#T_81b017fc_8060_11eb_bf46_0242ac1c0002row9_col13{\n",
              "            font-size:  6pt;\n",
              "            background-color:  #303030;\n",
              "            color:  #f1f1f1;\n",
              "        }#T_81b017fc_8060_11eb_bf46_0242ac1c0002row9_col14{\n",
              "            font-size:  6pt;\n",
              "            background-color:  #a9a9a9;\n",
              "            color:  #000000;\n",
              "        }#T_81b017fc_8060_11eb_bf46_0242ac1c0002row9_col15{\n",
              "            font-size:  6pt;\n",
              "            background-color:  #fefefe;\n",
              "            color:  #000000;\n",
              "        }#T_81b017fc_8060_11eb_bf46_0242ac1c0002row10_col8,#T_81b017fc_8060_11eb_bf46_0242ac1c0002row10_col9{\n",
              "            font-size:  6pt;\n",
              "            background-color:  #bababa;\n",
              "            color:  #000000;\n",
              "        }#T_81b017fc_8060_11eb_bf46_0242ac1c0002row10_col10{\n",
              "            font-size:  6pt;\n",
              "            background-color:  #393939;\n",
              "            color:  #f1f1f1;\n",
              "        }</style><table id=\"T_81b017fc_8060_11eb_bf46_0242ac1c0002\" ><thead>    <tr>        <th class=\"blank level0\" ></th>        <th class=\"col_heading level0 col0\" >0</th>        <th class=\"col_heading level0 col1\" >1</th>        <th class=\"col_heading level0 col2\" >2</th>        <th class=\"col_heading level0 col3\" >3</th>        <th class=\"col_heading level0 col4\" >4</th>        <th class=\"col_heading level0 col5\" >5</th>        <th class=\"col_heading level0 col6\" >6</th>        <th class=\"col_heading level0 col7\" >7</th>        <th class=\"col_heading level0 col8\" >8</th>        <th class=\"col_heading level0 col9\" >9</th>        <th class=\"col_heading level0 col10\" >10</th>        <th class=\"col_heading level0 col11\" >11</th>        <th class=\"col_heading level0 col12\" >12</th>        <th class=\"col_heading level0 col13\" >13</th>        <th class=\"col_heading level0 col14\" >14</th>        <th class=\"col_heading level0 col15\" >15</th>        <th class=\"col_heading level0 col16\" >16</th>        <th class=\"col_heading level0 col17\" >17</th>    </tr></thead><tbody>\n",
              "                <tr>\n",
              "                        <th id=\"T_81b017fc_8060_11eb_bf46_0242ac1c0002level0_row0\" class=\"row_heading level0 row0\" >0</th>\n",
              "                        <td id=\"T_81b017fc_8060_11eb_bf46_0242ac1c0002row0_col0\" class=\"data row0 col0\" >0</td>\n",
              "                        <td id=\"T_81b017fc_8060_11eb_bf46_0242ac1c0002row0_col1\" class=\"data row0 col1\" >0</td>\n",
              "                        <td id=\"T_81b017fc_8060_11eb_bf46_0242ac1c0002row0_col2\" class=\"data row0 col2\" >0</td>\n",
              "                        <td id=\"T_81b017fc_8060_11eb_bf46_0242ac1c0002row0_col3\" class=\"data row0 col3\" >0</td>\n",
              "                        <td id=\"T_81b017fc_8060_11eb_bf46_0242ac1c0002row0_col4\" class=\"data row0 col4\" >0</td>\n",
              "                        <td id=\"T_81b017fc_8060_11eb_bf46_0242ac1c0002row0_col5\" class=\"data row0 col5\" >0</td>\n",
              "                        <td id=\"T_81b017fc_8060_11eb_bf46_0242ac1c0002row0_col6\" class=\"data row0 col6\" >0</td>\n",
              "                        <td id=\"T_81b017fc_8060_11eb_bf46_0242ac1c0002row0_col7\" class=\"data row0 col7\" >0</td>\n",
              "                        <td id=\"T_81b017fc_8060_11eb_bf46_0242ac1c0002row0_col8\" class=\"data row0 col8\" >0</td>\n",
              "                        <td id=\"T_81b017fc_8060_11eb_bf46_0242ac1c0002row0_col9\" class=\"data row0 col9\" >0</td>\n",
              "                        <td id=\"T_81b017fc_8060_11eb_bf46_0242ac1c0002row0_col10\" class=\"data row0 col10\" >0</td>\n",
              "                        <td id=\"T_81b017fc_8060_11eb_bf46_0242ac1c0002row0_col11\" class=\"data row0 col11\" >0</td>\n",
              "                        <td id=\"T_81b017fc_8060_11eb_bf46_0242ac1c0002row0_col12\" class=\"data row0 col12\" >0</td>\n",
              "                        <td id=\"T_81b017fc_8060_11eb_bf46_0242ac1c0002row0_col13\" class=\"data row0 col13\" >0</td>\n",
              "                        <td id=\"T_81b017fc_8060_11eb_bf46_0242ac1c0002row0_col14\" class=\"data row0 col14\" >0</td>\n",
              "                        <td id=\"T_81b017fc_8060_11eb_bf46_0242ac1c0002row0_col15\" class=\"data row0 col15\" >0</td>\n",
              "                        <td id=\"T_81b017fc_8060_11eb_bf46_0242ac1c0002row0_col16\" class=\"data row0 col16\" >0</td>\n",
              "                        <td id=\"T_81b017fc_8060_11eb_bf46_0242ac1c0002row0_col17\" class=\"data row0 col17\" >0</td>\n",
              "            </tr>\n",
              "            <tr>\n",
              "                        <th id=\"T_81b017fc_8060_11eb_bf46_0242ac1c0002level0_row1\" class=\"row_heading level0 row1\" >1</th>\n",
              "                        <td id=\"T_81b017fc_8060_11eb_bf46_0242ac1c0002row1_col0\" class=\"data row1 col0\" >0</td>\n",
              "                        <td id=\"T_81b017fc_8060_11eb_bf46_0242ac1c0002row1_col1\" class=\"data row1 col1\" >0</td>\n",
              "                        <td id=\"T_81b017fc_8060_11eb_bf46_0242ac1c0002row1_col2\" class=\"data row1 col2\" >0</td>\n",
              "                        <td id=\"T_81b017fc_8060_11eb_bf46_0242ac1c0002row1_col3\" class=\"data row1 col3\" >0</td>\n",
              "                        <td id=\"T_81b017fc_8060_11eb_bf46_0242ac1c0002row1_col4\" class=\"data row1 col4\" >0</td>\n",
              "                        <td id=\"T_81b017fc_8060_11eb_bf46_0242ac1c0002row1_col5\" class=\"data row1 col5\" >29</td>\n",
              "                        <td id=\"T_81b017fc_8060_11eb_bf46_0242ac1c0002row1_col6\" class=\"data row1 col6\" >150</td>\n",
              "                        <td id=\"T_81b017fc_8060_11eb_bf46_0242ac1c0002row1_col7\" class=\"data row1 col7\" >195</td>\n",
              "                        <td id=\"T_81b017fc_8060_11eb_bf46_0242ac1c0002row1_col8\" class=\"data row1 col8\" >254</td>\n",
              "                        <td id=\"T_81b017fc_8060_11eb_bf46_0242ac1c0002row1_col9\" class=\"data row1 col9\" >255</td>\n",
              "                        <td id=\"T_81b017fc_8060_11eb_bf46_0242ac1c0002row1_col10\" class=\"data row1 col10\" >254</td>\n",
              "                        <td id=\"T_81b017fc_8060_11eb_bf46_0242ac1c0002row1_col11\" class=\"data row1 col11\" >176</td>\n",
              "                        <td id=\"T_81b017fc_8060_11eb_bf46_0242ac1c0002row1_col12\" class=\"data row1 col12\" >193</td>\n",
              "                        <td id=\"T_81b017fc_8060_11eb_bf46_0242ac1c0002row1_col13\" class=\"data row1 col13\" >150</td>\n",
              "                        <td id=\"T_81b017fc_8060_11eb_bf46_0242ac1c0002row1_col14\" class=\"data row1 col14\" >96</td>\n",
              "                        <td id=\"T_81b017fc_8060_11eb_bf46_0242ac1c0002row1_col15\" class=\"data row1 col15\" >0</td>\n",
              "                        <td id=\"T_81b017fc_8060_11eb_bf46_0242ac1c0002row1_col16\" class=\"data row1 col16\" >0</td>\n",
              "                        <td id=\"T_81b017fc_8060_11eb_bf46_0242ac1c0002row1_col17\" class=\"data row1 col17\" >0</td>\n",
              "            </tr>\n",
              "            <tr>\n",
              "                        <th id=\"T_81b017fc_8060_11eb_bf46_0242ac1c0002level0_row2\" class=\"row_heading level0 row2\" >2</th>\n",
              "                        <td id=\"T_81b017fc_8060_11eb_bf46_0242ac1c0002row2_col0\" class=\"data row2 col0\" >0</td>\n",
              "                        <td id=\"T_81b017fc_8060_11eb_bf46_0242ac1c0002row2_col1\" class=\"data row2 col1\" >0</td>\n",
              "                        <td id=\"T_81b017fc_8060_11eb_bf46_0242ac1c0002row2_col2\" class=\"data row2 col2\" >0</td>\n",
              "                        <td id=\"T_81b017fc_8060_11eb_bf46_0242ac1c0002row2_col3\" class=\"data row2 col3\" >48</td>\n",
              "                        <td id=\"T_81b017fc_8060_11eb_bf46_0242ac1c0002row2_col4\" class=\"data row2 col4\" >166</td>\n",
              "                        <td id=\"T_81b017fc_8060_11eb_bf46_0242ac1c0002row2_col5\" class=\"data row2 col5\" >224</td>\n",
              "                        <td id=\"T_81b017fc_8060_11eb_bf46_0242ac1c0002row2_col6\" class=\"data row2 col6\" >253</td>\n",
              "                        <td id=\"T_81b017fc_8060_11eb_bf46_0242ac1c0002row2_col7\" class=\"data row2 col7\" >253</td>\n",
              "                        <td id=\"T_81b017fc_8060_11eb_bf46_0242ac1c0002row2_col8\" class=\"data row2 col8\" >234</td>\n",
              "                        <td id=\"T_81b017fc_8060_11eb_bf46_0242ac1c0002row2_col9\" class=\"data row2 col9\" >196</td>\n",
              "                        <td id=\"T_81b017fc_8060_11eb_bf46_0242ac1c0002row2_col10\" class=\"data row2 col10\" >253</td>\n",
              "                        <td id=\"T_81b017fc_8060_11eb_bf46_0242ac1c0002row2_col11\" class=\"data row2 col11\" >253</td>\n",
              "                        <td id=\"T_81b017fc_8060_11eb_bf46_0242ac1c0002row2_col12\" class=\"data row2 col12\" >253</td>\n",
              "                        <td id=\"T_81b017fc_8060_11eb_bf46_0242ac1c0002row2_col13\" class=\"data row2 col13\" >253</td>\n",
              "                        <td id=\"T_81b017fc_8060_11eb_bf46_0242ac1c0002row2_col14\" class=\"data row2 col14\" >233</td>\n",
              "                        <td id=\"T_81b017fc_8060_11eb_bf46_0242ac1c0002row2_col15\" class=\"data row2 col15\" >0</td>\n",
              "                        <td id=\"T_81b017fc_8060_11eb_bf46_0242ac1c0002row2_col16\" class=\"data row2 col16\" >0</td>\n",
              "                        <td id=\"T_81b017fc_8060_11eb_bf46_0242ac1c0002row2_col17\" class=\"data row2 col17\" >0</td>\n",
              "            </tr>\n",
              "            <tr>\n",
              "                        <th id=\"T_81b017fc_8060_11eb_bf46_0242ac1c0002level0_row3\" class=\"row_heading level0 row3\" >3</th>\n",
              "                        <td id=\"T_81b017fc_8060_11eb_bf46_0242ac1c0002row3_col0\" class=\"data row3 col0\" >0</td>\n",
              "                        <td id=\"T_81b017fc_8060_11eb_bf46_0242ac1c0002row3_col1\" class=\"data row3 col1\" >93</td>\n",
              "                        <td id=\"T_81b017fc_8060_11eb_bf46_0242ac1c0002row3_col2\" class=\"data row3 col2\" >244</td>\n",
              "                        <td id=\"T_81b017fc_8060_11eb_bf46_0242ac1c0002row3_col3\" class=\"data row3 col3\" >249</td>\n",
              "                        <td id=\"T_81b017fc_8060_11eb_bf46_0242ac1c0002row3_col4\" class=\"data row3 col4\" >253</td>\n",
              "                        <td id=\"T_81b017fc_8060_11eb_bf46_0242ac1c0002row3_col5\" class=\"data row3 col5\" >187</td>\n",
              "                        <td id=\"T_81b017fc_8060_11eb_bf46_0242ac1c0002row3_col6\" class=\"data row3 col6\" >46</td>\n",
              "                        <td id=\"T_81b017fc_8060_11eb_bf46_0242ac1c0002row3_col7\" class=\"data row3 col7\" >10</td>\n",
              "                        <td id=\"T_81b017fc_8060_11eb_bf46_0242ac1c0002row3_col8\" class=\"data row3 col8\" >8</td>\n",
              "                        <td id=\"T_81b017fc_8060_11eb_bf46_0242ac1c0002row3_col9\" class=\"data row3 col9\" >4</td>\n",
              "                        <td id=\"T_81b017fc_8060_11eb_bf46_0242ac1c0002row3_col10\" class=\"data row3 col10\" >10</td>\n",
              "                        <td id=\"T_81b017fc_8060_11eb_bf46_0242ac1c0002row3_col11\" class=\"data row3 col11\" >194</td>\n",
              "                        <td id=\"T_81b017fc_8060_11eb_bf46_0242ac1c0002row3_col12\" class=\"data row3 col12\" >253</td>\n",
              "                        <td id=\"T_81b017fc_8060_11eb_bf46_0242ac1c0002row3_col13\" class=\"data row3 col13\" >253</td>\n",
              "                        <td id=\"T_81b017fc_8060_11eb_bf46_0242ac1c0002row3_col14\" class=\"data row3 col14\" >233</td>\n",
              "                        <td id=\"T_81b017fc_8060_11eb_bf46_0242ac1c0002row3_col15\" class=\"data row3 col15\" >0</td>\n",
              "                        <td id=\"T_81b017fc_8060_11eb_bf46_0242ac1c0002row3_col16\" class=\"data row3 col16\" >0</td>\n",
              "                        <td id=\"T_81b017fc_8060_11eb_bf46_0242ac1c0002row3_col17\" class=\"data row3 col17\" >0</td>\n",
              "            </tr>\n",
              "            <tr>\n",
              "                        <th id=\"T_81b017fc_8060_11eb_bf46_0242ac1c0002level0_row4\" class=\"row_heading level0 row4\" >4</th>\n",
              "                        <td id=\"T_81b017fc_8060_11eb_bf46_0242ac1c0002row4_col0\" class=\"data row4 col0\" >0</td>\n",
              "                        <td id=\"T_81b017fc_8060_11eb_bf46_0242ac1c0002row4_col1\" class=\"data row4 col1\" >107</td>\n",
              "                        <td id=\"T_81b017fc_8060_11eb_bf46_0242ac1c0002row4_col2\" class=\"data row4 col2\" >253</td>\n",
              "                        <td id=\"T_81b017fc_8060_11eb_bf46_0242ac1c0002row4_col3\" class=\"data row4 col3\" >253</td>\n",
              "                        <td id=\"T_81b017fc_8060_11eb_bf46_0242ac1c0002row4_col4\" class=\"data row4 col4\" >230</td>\n",
              "                        <td id=\"T_81b017fc_8060_11eb_bf46_0242ac1c0002row4_col5\" class=\"data row4 col5\" >48</td>\n",
              "                        <td id=\"T_81b017fc_8060_11eb_bf46_0242ac1c0002row4_col6\" class=\"data row4 col6\" >0</td>\n",
              "                        <td id=\"T_81b017fc_8060_11eb_bf46_0242ac1c0002row4_col7\" class=\"data row4 col7\" >0</td>\n",
              "                        <td id=\"T_81b017fc_8060_11eb_bf46_0242ac1c0002row4_col8\" class=\"data row4 col8\" >0</td>\n",
              "                        <td id=\"T_81b017fc_8060_11eb_bf46_0242ac1c0002row4_col9\" class=\"data row4 col9\" >0</td>\n",
              "                        <td id=\"T_81b017fc_8060_11eb_bf46_0242ac1c0002row4_col10\" class=\"data row4 col10\" >0</td>\n",
              "                        <td id=\"T_81b017fc_8060_11eb_bf46_0242ac1c0002row4_col11\" class=\"data row4 col11\" >192</td>\n",
              "                        <td id=\"T_81b017fc_8060_11eb_bf46_0242ac1c0002row4_col12\" class=\"data row4 col12\" >253</td>\n",
              "                        <td id=\"T_81b017fc_8060_11eb_bf46_0242ac1c0002row4_col13\" class=\"data row4 col13\" >253</td>\n",
              "                        <td id=\"T_81b017fc_8060_11eb_bf46_0242ac1c0002row4_col14\" class=\"data row4 col14\" >156</td>\n",
              "                        <td id=\"T_81b017fc_8060_11eb_bf46_0242ac1c0002row4_col15\" class=\"data row4 col15\" >0</td>\n",
              "                        <td id=\"T_81b017fc_8060_11eb_bf46_0242ac1c0002row4_col16\" class=\"data row4 col16\" >0</td>\n",
              "                        <td id=\"T_81b017fc_8060_11eb_bf46_0242ac1c0002row4_col17\" class=\"data row4 col17\" >0</td>\n",
              "            </tr>\n",
              "            <tr>\n",
              "                        <th id=\"T_81b017fc_8060_11eb_bf46_0242ac1c0002level0_row5\" class=\"row_heading level0 row5\" >5</th>\n",
              "                        <td id=\"T_81b017fc_8060_11eb_bf46_0242ac1c0002row5_col0\" class=\"data row5 col0\" >0</td>\n",
              "                        <td id=\"T_81b017fc_8060_11eb_bf46_0242ac1c0002row5_col1\" class=\"data row5 col1\" >3</td>\n",
              "                        <td id=\"T_81b017fc_8060_11eb_bf46_0242ac1c0002row5_col2\" class=\"data row5 col2\" >20</td>\n",
              "                        <td id=\"T_81b017fc_8060_11eb_bf46_0242ac1c0002row5_col3\" class=\"data row5 col3\" >20</td>\n",
              "                        <td id=\"T_81b017fc_8060_11eb_bf46_0242ac1c0002row5_col4\" class=\"data row5 col4\" >15</td>\n",
              "                        <td id=\"T_81b017fc_8060_11eb_bf46_0242ac1c0002row5_col5\" class=\"data row5 col5\" >0</td>\n",
              "                        <td id=\"T_81b017fc_8060_11eb_bf46_0242ac1c0002row5_col6\" class=\"data row5 col6\" >0</td>\n",
              "                        <td id=\"T_81b017fc_8060_11eb_bf46_0242ac1c0002row5_col7\" class=\"data row5 col7\" >0</td>\n",
              "                        <td id=\"T_81b017fc_8060_11eb_bf46_0242ac1c0002row5_col8\" class=\"data row5 col8\" >0</td>\n",
              "                        <td id=\"T_81b017fc_8060_11eb_bf46_0242ac1c0002row5_col9\" class=\"data row5 col9\" >0</td>\n",
              "                        <td id=\"T_81b017fc_8060_11eb_bf46_0242ac1c0002row5_col10\" class=\"data row5 col10\" >43</td>\n",
              "                        <td id=\"T_81b017fc_8060_11eb_bf46_0242ac1c0002row5_col11\" class=\"data row5 col11\" >224</td>\n",
              "                        <td id=\"T_81b017fc_8060_11eb_bf46_0242ac1c0002row5_col12\" class=\"data row5 col12\" >253</td>\n",
              "                        <td id=\"T_81b017fc_8060_11eb_bf46_0242ac1c0002row5_col13\" class=\"data row5 col13\" >245</td>\n",
              "                        <td id=\"T_81b017fc_8060_11eb_bf46_0242ac1c0002row5_col14\" class=\"data row5 col14\" >74</td>\n",
              "                        <td id=\"T_81b017fc_8060_11eb_bf46_0242ac1c0002row5_col15\" class=\"data row5 col15\" >0</td>\n",
              "                        <td id=\"T_81b017fc_8060_11eb_bf46_0242ac1c0002row5_col16\" class=\"data row5 col16\" >0</td>\n",
              "                        <td id=\"T_81b017fc_8060_11eb_bf46_0242ac1c0002row5_col17\" class=\"data row5 col17\" >0</td>\n",
              "            </tr>\n",
              "            <tr>\n",
              "                        <th id=\"T_81b017fc_8060_11eb_bf46_0242ac1c0002level0_row6\" class=\"row_heading level0 row6\" >6</th>\n",
              "                        <td id=\"T_81b017fc_8060_11eb_bf46_0242ac1c0002row6_col0\" class=\"data row6 col0\" >0</td>\n",
              "                        <td id=\"T_81b017fc_8060_11eb_bf46_0242ac1c0002row6_col1\" class=\"data row6 col1\" >0</td>\n",
              "                        <td id=\"T_81b017fc_8060_11eb_bf46_0242ac1c0002row6_col2\" class=\"data row6 col2\" >0</td>\n",
              "                        <td id=\"T_81b017fc_8060_11eb_bf46_0242ac1c0002row6_col3\" class=\"data row6 col3\" >0</td>\n",
              "                        <td id=\"T_81b017fc_8060_11eb_bf46_0242ac1c0002row6_col4\" class=\"data row6 col4\" >0</td>\n",
              "                        <td id=\"T_81b017fc_8060_11eb_bf46_0242ac1c0002row6_col5\" class=\"data row6 col5\" >0</td>\n",
              "                        <td id=\"T_81b017fc_8060_11eb_bf46_0242ac1c0002row6_col6\" class=\"data row6 col6\" >0</td>\n",
              "                        <td id=\"T_81b017fc_8060_11eb_bf46_0242ac1c0002row6_col7\" class=\"data row6 col7\" >0</td>\n",
              "                        <td id=\"T_81b017fc_8060_11eb_bf46_0242ac1c0002row6_col8\" class=\"data row6 col8\" >0</td>\n",
              "                        <td id=\"T_81b017fc_8060_11eb_bf46_0242ac1c0002row6_col9\" class=\"data row6 col9\" >0</td>\n",
              "                        <td id=\"T_81b017fc_8060_11eb_bf46_0242ac1c0002row6_col10\" class=\"data row6 col10\" >249</td>\n",
              "                        <td id=\"T_81b017fc_8060_11eb_bf46_0242ac1c0002row6_col11\" class=\"data row6 col11\" >253</td>\n",
              "                        <td id=\"T_81b017fc_8060_11eb_bf46_0242ac1c0002row6_col12\" class=\"data row6 col12\" >245</td>\n",
              "                        <td id=\"T_81b017fc_8060_11eb_bf46_0242ac1c0002row6_col13\" class=\"data row6 col13\" >126</td>\n",
              "                        <td id=\"T_81b017fc_8060_11eb_bf46_0242ac1c0002row6_col14\" class=\"data row6 col14\" >0</td>\n",
              "                        <td id=\"T_81b017fc_8060_11eb_bf46_0242ac1c0002row6_col15\" class=\"data row6 col15\" >0</td>\n",
              "                        <td id=\"T_81b017fc_8060_11eb_bf46_0242ac1c0002row6_col16\" class=\"data row6 col16\" >0</td>\n",
              "                        <td id=\"T_81b017fc_8060_11eb_bf46_0242ac1c0002row6_col17\" class=\"data row6 col17\" >0</td>\n",
              "            </tr>\n",
              "            <tr>\n",
              "                        <th id=\"T_81b017fc_8060_11eb_bf46_0242ac1c0002level0_row7\" class=\"row_heading level0 row7\" >7</th>\n",
              "                        <td id=\"T_81b017fc_8060_11eb_bf46_0242ac1c0002row7_col0\" class=\"data row7 col0\" >0</td>\n",
              "                        <td id=\"T_81b017fc_8060_11eb_bf46_0242ac1c0002row7_col1\" class=\"data row7 col1\" >0</td>\n",
              "                        <td id=\"T_81b017fc_8060_11eb_bf46_0242ac1c0002row7_col2\" class=\"data row7 col2\" >0</td>\n",
              "                        <td id=\"T_81b017fc_8060_11eb_bf46_0242ac1c0002row7_col3\" class=\"data row7 col3\" >0</td>\n",
              "                        <td id=\"T_81b017fc_8060_11eb_bf46_0242ac1c0002row7_col4\" class=\"data row7 col4\" >0</td>\n",
              "                        <td id=\"T_81b017fc_8060_11eb_bf46_0242ac1c0002row7_col5\" class=\"data row7 col5\" >0</td>\n",
              "                        <td id=\"T_81b017fc_8060_11eb_bf46_0242ac1c0002row7_col6\" class=\"data row7 col6\" >0</td>\n",
              "                        <td id=\"T_81b017fc_8060_11eb_bf46_0242ac1c0002row7_col7\" class=\"data row7 col7\" >14</td>\n",
              "                        <td id=\"T_81b017fc_8060_11eb_bf46_0242ac1c0002row7_col8\" class=\"data row7 col8\" >101</td>\n",
              "                        <td id=\"T_81b017fc_8060_11eb_bf46_0242ac1c0002row7_col9\" class=\"data row7 col9\" >223</td>\n",
              "                        <td id=\"T_81b017fc_8060_11eb_bf46_0242ac1c0002row7_col10\" class=\"data row7 col10\" >253</td>\n",
              "                        <td id=\"T_81b017fc_8060_11eb_bf46_0242ac1c0002row7_col11\" class=\"data row7 col11\" >248</td>\n",
              "                        <td id=\"T_81b017fc_8060_11eb_bf46_0242ac1c0002row7_col12\" class=\"data row7 col12\" >124</td>\n",
              "                        <td id=\"T_81b017fc_8060_11eb_bf46_0242ac1c0002row7_col13\" class=\"data row7 col13\" >0</td>\n",
              "                        <td id=\"T_81b017fc_8060_11eb_bf46_0242ac1c0002row7_col14\" class=\"data row7 col14\" >0</td>\n",
              "                        <td id=\"T_81b017fc_8060_11eb_bf46_0242ac1c0002row7_col15\" class=\"data row7 col15\" >0</td>\n",
              "                        <td id=\"T_81b017fc_8060_11eb_bf46_0242ac1c0002row7_col16\" class=\"data row7 col16\" >0</td>\n",
              "                        <td id=\"T_81b017fc_8060_11eb_bf46_0242ac1c0002row7_col17\" class=\"data row7 col17\" >0</td>\n",
              "            </tr>\n",
              "            <tr>\n",
              "                        <th id=\"T_81b017fc_8060_11eb_bf46_0242ac1c0002level0_row8\" class=\"row_heading level0 row8\" >8</th>\n",
              "                        <td id=\"T_81b017fc_8060_11eb_bf46_0242ac1c0002row8_col0\" class=\"data row8 col0\" >0</td>\n",
              "                        <td id=\"T_81b017fc_8060_11eb_bf46_0242ac1c0002row8_col1\" class=\"data row8 col1\" >0</td>\n",
              "                        <td id=\"T_81b017fc_8060_11eb_bf46_0242ac1c0002row8_col2\" class=\"data row8 col2\" >0</td>\n",
              "                        <td id=\"T_81b017fc_8060_11eb_bf46_0242ac1c0002row8_col3\" class=\"data row8 col3\" >0</td>\n",
              "                        <td id=\"T_81b017fc_8060_11eb_bf46_0242ac1c0002row8_col4\" class=\"data row8 col4\" >0</td>\n",
              "                        <td id=\"T_81b017fc_8060_11eb_bf46_0242ac1c0002row8_col5\" class=\"data row8 col5\" >11</td>\n",
              "                        <td id=\"T_81b017fc_8060_11eb_bf46_0242ac1c0002row8_col6\" class=\"data row8 col6\" >166</td>\n",
              "                        <td id=\"T_81b017fc_8060_11eb_bf46_0242ac1c0002row8_col7\" class=\"data row8 col7\" >239</td>\n",
              "                        <td id=\"T_81b017fc_8060_11eb_bf46_0242ac1c0002row8_col8\" class=\"data row8 col8\" >253</td>\n",
              "                        <td id=\"T_81b017fc_8060_11eb_bf46_0242ac1c0002row8_col9\" class=\"data row8 col9\" >253</td>\n",
              "                        <td id=\"T_81b017fc_8060_11eb_bf46_0242ac1c0002row8_col10\" class=\"data row8 col10\" >253</td>\n",
              "                        <td id=\"T_81b017fc_8060_11eb_bf46_0242ac1c0002row8_col11\" class=\"data row8 col11\" >187</td>\n",
              "                        <td id=\"T_81b017fc_8060_11eb_bf46_0242ac1c0002row8_col12\" class=\"data row8 col12\" >30</td>\n",
              "                        <td id=\"T_81b017fc_8060_11eb_bf46_0242ac1c0002row8_col13\" class=\"data row8 col13\" >0</td>\n",
              "                        <td id=\"T_81b017fc_8060_11eb_bf46_0242ac1c0002row8_col14\" class=\"data row8 col14\" >0</td>\n",
              "                        <td id=\"T_81b017fc_8060_11eb_bf46_0242ac1c0002row8_col15\" class=\"data row8 col15\" >0</td>\n",
              "                        <td id=\"T_81b017fc_8060_11eb_bf46_0242ac1c0002row8_col16\" class=\"data row8 col16\" >0</td>\n",
              "                        <td id=\"T_81b017fc_8060_11eb_bf46_0242ac1c0002row8_col17\" class=\"data row8 col17\" >0</td>\n",
              "            </tr>\n",
              "            <tr>\n",
              "                        <th id=\"T_81b017fc_8060_11eb_bf46_0242ac1c0002level0_row9\" class=\"row_heading level0 row9\" >9</th>\n",
              "                        <td id=\"T_81b017fc_8060_11eb_bf46_0242ac1c0002row9_col0\" class=\"data row9 col0\" >0</td>\n",
              "                        <td id=\"T_81b017fc_8060_11eb_bf46_0242ac1c0002row9_col1\" class=\"data row9 col1\" >0</td>\n",
              "                        <td id=\"T_81b017fc_8060_11eb_bf46_0242ac1c0002row9_col2\" class=\"data row9 col2\" >0</td>\n",
              "                        <td id=\"T_81b017fc_8060_11eb_bf46_0242ac1c0002row9_col3\" class=\"data row9 col3\" >0</td>\n",
              "                        <td id=\"T_81b017fc_8060_11eb_bf46_0242ac1c0002row9_col4\" class=\"data row9 col4\" >0</td>\n",
              "                        <td id=\"T_81b017fc_8060_11eb_bf46_0242ac1c0002row9_col5\" class=\"data row9 col5\" >16</td>\n",
              "                        <td id=\"T_81b017fc_8060_11eb_bf46_0242ac1c0002row9_col6\" class=\"data row9 col6\" >248</td>\n",
              "                        <td id=\"T_81b017fc_8060_11eb_bf46_0242ac1c0002row9_col7\" class=\"data row9 col7\" >250</td>\n",
              "                        <td id=\"T_81b017fc_8060_11eb_bf46_0242ac1c0002row9_col8\" class=\"data row9 col8\" >253</td>\n",
              "                        <td id=\"T_81b017fc_8060_11eb_bf46_0242ac1c0002row9_col9\" class=\"data row9 col9\" >253</td>\n",
              "                        <td id=\"T_81b017fc_8060_11eb_bf46_0242ac1c0002row9_col10\" class=\"data row9 col10\" >253</td>\n",
              "                        <td id=\"T_81b017fc_8060_11eb_bf46_0242ac1c0002row9_col11\" class=\"data row9 col11\" >253</td>\n",
              "                        <td id=\"T_81b017fc_8060_11eb_bf46_0242ac1c0002row9_col12\" class=\"data row9 col12\" >232</td>\n",
              "                        <td id=\"T_81b017fc_8060_11eb_bf46_0242ac1c0002row9_col13\" class=\"data row9 col13\" >213</td>\n",
              "                        <td id=\"T_81b017fc_8060_11eb_bf46_0242ac1c0002row9_col14\" class=\"data row9 col14\" >111</td>\n",
              "                        <td id=\"T_81b017fc_8060_11eb_bf46_0242ac1c0002row9_col15\" class=\"data row9 col15\" >2</td>\n",
              "                        <td id=\"T_81b017fc_8060_11eb_bf46_0242ac1c0002row9_col16\" class=\"data row9 col16\" >0</td>\n",
              "                        <td id=\"T_81b017fc_8060_11eb_bf46_0242ac1c0002row9_col17\" class=\"data row9 col17\" >0</td>\n",
              "            </tr>\n",
              "            <tr>\n",
              "                        <th id=\"T_81b017fc_8060_11eb_bf46_0242ac1c0002level0_row10\" class=\"row_heading level0 row10\" >10</th>\n",
              "                        <td id=\"T_81b017fc_8060_11eb_bf46_0242ac1c0002row10_col0\" class=\"data row10 col0\" >0</td>\n",
              "                        <td id=\"T_81b017fc_8060_11eb_bf46_0242ac1c0002row10_col1\" class=\"data row10 col1\" >0</td>\n",
              "                        <td id=\"T_81b017fc_8060_11eb_bf46_0242ac1c0002row10_col2\" class=\"data row10 col2\" >0</td>\n",
              "                        <td id=\"T_81b017fc_8060_11eb_bf46_0242ac1c0002row10_col3\" class=\"data row10 col3\" >0</td>\n",
              "                        <td id=\"T_81b017fc_8060_11eb_bf46_0242ac1c0002row10_col4\" class=\"data row10 col4\" >0</td>\n",
              "                        <td id=\"T_81b017fc_8060_11eb_bf46_0242ac1c0002row10_col5\" class=\"data row10 col5\" >0</td>\n",
              "                        <td id=\"T_81b017fc_8060_11eb_bf46_0242ac1c0002row10_col6\" class=\"data row10 col6\" >0</td>\n",
              "                        <td id=\"T_81b017fc_8060_11eb_bf46_0242ac1c0002row10_col7\" class=\"data row10 col7\" >43</td>\n",
              "                        <td id=\"T_81b017fc_8060_11eb_bf46_0242ac1c0002row10_col8\" class=\"data row10 col8\" >98</td>\n",
              "                        <td id=\"T_81b017fc_8060_11eb_bf46_0242ac1c0002row10_col9\" class=\"data row10 col9\" >98</td>\n",
              "                        <td id=\"T_81b017fc_8060_11eb_bf46_0242ac1c0002row10_col10\" class=\"data row10 col10\" >208</td>\n",
              "                        <td id=\"T_81b017fc_8060_11eb_bf46_0242ac1c0002row10_col11\" class=\"data row10 col11\" >253</td>\n",
              "                        <td id=\"T_81b017fc_8060_11eb_bf46_0242ac1c0002row10_col12\" class=\"data row10 col12\" >253</td>\n",
              "                        <td id=\"T_81b017fc_8060_11eb_bf46_0242ac1c0002row10_col13\" class=\"data row10 col13\" >253</td>\n",
              "                        <td id=\"T_81b017fc_8060_11eb_bf46_0242ac1c0002row10_col14\" class=\"data row10 col14\" >253</td>\n",
              "                        <td id=\"T_81b017fc_8060_11eb_bf46_0242ac1c0002row10_col15\" class=\"data row10 col15\" >187</td>\n",
              "                        <td id=\"T_81b017fc_8060_11eb_bf46_0242ac1c0002row10_col16\" class=\"data row10 col16\" >22</td>\n",
              "                        <td id=\"T_81b017fc_8060_11eb_bf46_0242ac1c0002row10_col17\" class=\"data row10 col17\" >0</td>\n",
              "            </tr>\n",
              "    </tbody></table>"
            ],
            "text/plain": [
              "<pandas.io.formats.style.Styler at 0x7fd21e965b10>"
            ]
          },
          "metadata": {
            "tags": []
          },
          "execution_count": 12
        }
      ]
    },
    {
      "cell_type": "code",
      "metadata": {
        "colab": {
          "base_uri": "https://localhost:8080/"
        },
        "id": "uH1nEdcRt107",
        "outputId": "60be9bc1-629a-4107-cdef-d25f6efbbd33"
      },
      "source": [
        "seven_tensors = [tensor(Image.open(o)) for o in sevens] #convert all sevens to tensors\n",
        "three_tensors = [tensor(Image.open(o)) for o in threes] #convert all threes to tensors\n",
        "len(three_tensors),len(seven_tensors)"
      ],
      "execution_count": 13,
      "outputs": [
        {
          "output_type": "execute_result",
          "data": {
            "text/plain": [
              "(6131, 6265)"
            ]
          },
          "metadata": {
            "tags": []
          },
          "execution_count": 13
        }
      ]
    },
    {
      "cell_type": "code",
      "metadata": {
        "colab": {
          "base_uri": "https://localhost:8080/",
          "height": 102
        },
        "id": "ZBJXCvQZuSPW",
        "outputId": "58c8bd58-909e-4bd1-a9b2-ff8a01bf940f"
      },
      "source": [
        "show_image(three_tensors[1]) #fast.ai command to display a tensor\n",
        "three_tensors[1].shape"
      ],
      "execution_count": 14,
      "outputs": [
        {
          "output_type": "execute_result",
          "data": {
            "text/plain": [
              "torch.Size([28, 28])"
            ]
          },
          "metadata": {
            "tags": []
          },
          "execution_count": 14
        },
        {
          "output_type": "display_data",
          "data": {
            "image/png": "[encoded data removed]",
            "text/plain": [
              "<Figure size 72x72 with 1 Axes>"
            ]
          },
          "metadata": {
            "tags": [],
            "needs_background": "light"
          }
        }
      ]
    },
    {
      "cell_type": "code",
      "metadata": {
        "colab": {
          "base_uri": "https://localhost:8080/"
        },
        "id": "_GT9509NybB9",
        "outputId": "643aad67-d53d-4728-d6f6-9e8834a98b08"
      },
      "source": [
        "# funny note\n",
        "print(type(three_tensors[1])) # python type says its a pytorch library tensor\n",
        "print(three_tensors[1].type()) # type method shows the type of tensor"
      ],
      "execution_count": 15,
      "outputs": [
        {
          "output_type": "stream",
          "text": [
            "<class 'torch.Tensor'>\n",
            "torch.ByteTensor\n"
          ],
          "name": "stdout"
        }
      ]
    },
    {
      "cell_type": "code",
      "metadata": {
        "colab": {
          "base_uri": "https://localhost:8080/"
        },
        "id": "91M8yrXbvAiU",
        "outputId": "41d70ea2-6401-46fb-ae3b-7370c0b3f2e3"
      },
      "source": [
        "stacked_sevens = torch.stack(seven_tensors).float()/255\n",
        "stacked_threes = torch.stack(three_tensors).float()/255\n",
        "stacked_threes.shape"
      ],
      "execution_count": 16,
      "outputs": [
        {
          "output_type": "execute_result",
          "data": {
            "text/plain": [
              "torch.Size([6131, 28, 28])"
            ]
          },
          "metadata": {
            "tags": []
          },
          "execution_count": 16
        }
      ]
    },
    {
      "cell_type": "code",
      "metadata": {
        "colab": {
          "base_uri": "https://localhost:8080/"
        },
        "id": "7xo9Cbu2vGUb",
        "outputId": "1412777e-bb3b-44de-a83b-d0fd12459379"
      },
      "source": [
        "rank = len(stacked_threes.shape)\n",
        "rank"
      ],
      "execution_count": 17,
      "outputs": [
        {
          "output_type": "execute_result",
          "data": {
            "text/plain": [
              "3"
            ]
          },
          "metadata": {
            "tags": []
          },
          "execution_count": 17
        }
      ]
    },
    {
      "cell_type": "code",
      "metadata": {
        "colab": {
          "base_uri": "https://localhost:8080/",
          "height": 85
        },
        "id": "niDfWB9-ve_u",
        "outputId": "b01c100c-78c5-47cd-f002-671e9854e507"
      },
      "source": [
        "mean3 = stacked_threes.mean(0) # take the mean from the first axis\n",
        "show_image(mean3);"
      ],
      "execution_count": 18,
      "outputs": [
        {
          "output_type": "display_data",
          "data": {
            "image/png": "[encoded data removed]",
            "text/plain": [
              "<Figure size 72x72 with 1 Axes>"
            ]
          },
          "metadata": {
            "tags": [],
            "needs_background": "light"
          }
        }
      ]
    },
    {
      "cell_type": "code",
      "metadata": {
        "colab": {
          "base_uri": "https://localhost:8080/",
          "height": 85
        },
        "id": "_yTARix9w4aV",
        "outputId": "acb17c19-717f-4a3b-f37a-0de2ff544d5a"
      },
      "source": [
        "mean7 = stacked_sevens.mean(0)\n",
        "show_image(mean7);"
      ],
      "execution_count": 19,
      "outputs": [
        {
          "output_type": "display_data",
          "data": {
            "image/png": "[encoded data removed]",
            "text/plain": [
              "<Figure size 72x72 with 1 Axes>"
            ]
          },
          "metadata": {
            "tags": [],
            "needs_background": "light"
          }
        }
      ]
    },
    {
      "cell_type": "code",
      "metadata": {
        "colab": {
          "base_uri": "https://localhost:8080/",
          "height": 102
        },
        "id": "o8ADKrv8wajm",
        "outputId": "ccc79edb-bed3-4b3d-e184-66c5c80652b8"
      },
      "source": [
        "a_3 = stacked_threes[1]\n",
        "show_image(a_3)"
      ],
      "execution_count": 20,
      "outputs": [
        {
          "output_type": "execute_result",
          "data": {
            "text/plain": [
              "<matplotlib.axes._subplots.AxesSubplot at 0x7fd21c2803d0>"
            ]
          },
          "metadata": {
            "tags": []
          },
          "execution_count": 20
        },
        {
          "output_type": "display_data",
          "data": {
            "image/png": "[encoded data removed]",
            "text/plain": [
              "<Figure size 72x72 with 1 Axes>"
            ]
          },
          "metadata": {
            "tags": [],
            "needs_background": "light"
          }
        }
      ]
    },
    {
      "cell_type": "code",
      "metadata": {
        "colab": {
          "base_uri": "https://localhost:8080/"
        },
        "id": "TiuwNASNw6v1",
        "outputId": "843cd3f9-2f40-4827-8a99-df2a122b1d47"
      },
      "source": [
        "dist_3_abs = (a_3 - mean3).abs().mean() # L1 norm\n",
        "dist_3_sqr = ((a_3 - mean3)**2).mean().sqrt() # L2 norm\n",
        "dist_3_abs,dist_3_sqr"
      ],
      "execution_count": 21,
      "outputs": [
        {
          "output_type": "execute_result",
          "data": {
            "text/plain": [
              "(tensor(0.1114), tensor(0.2021))"
            ]
          },
          "metadata": {
            "tags": []
          },
          "execution_count": 21
        }
      ]
    },
    {
      "cell_type": "code",
      "metadata": {
        "colab": {
          "base_uri": "https://localhost:8080/"
        },
        "id": "2s8m_qdzxMYR",
        "outputId": "0aa343eb-ff9d-449b-a6c8-e06c160955eb"
      },
      "source": [
        "dist_7_abs = (a_3 - mean7).abs().mean()\n",
        "dist_7_sqr = ((a_3 - mean7)**2).mean().sqrt()\n",
        "dist_7_abs,dist_7_sqr"
      ],
      "execution_count": 22,
      "outputs": [
        {
          "output_type": "execute_result",
          "data": {
            "text/plain": [
              "(tensor(0.1586), tensor(0.3021))"
            ]
          },
          "metadata": {
            "tags": []
          },
          "execution_count": 22
        }
      ]
    },
    {
      "cell_type": "markdown",
      "metadata": {
        "id": "lHeK_zbuzXU8"
      },
      "source": [
        "## Computing Metrics Using Broadcasting"
      ]
    },
    {
      "cell_type": "code",
      "metadata": {
        "colab": {
          "base_uri": "https://localhost:8080/"
        },
        "id": "cr3xULC-zwZ0",
        "outputId": "c60f8900-8ee3-4c72-c3f1-98bf0f21004d"
      },
      "source": [
        "# doing the same before for the validation sets\n",
        "valid_3_tens = torch.stack([tensor(Image.open(o)) \n",
        "                            for o in (path/'valid'/'3').ls()])\n",
        "valid_3_tens = valid_3_tens.float()/255\n",
        "valid_7_tens = torch.stack([tensor(Image.open(o)) \n",
        "                            for o in (path/'valid'/'7').ls()])\n",
        "valid_7_tens = valid_7_tens.float()/255\n",
        "valid_3_tens.shape,valid_7_tens.shape"
      ],
      "execution_count": 23,
      "outputs": [
        {
          "output_type": "execute_result",
          "data": {
            "text/plain": [
              "(torch.Size([1010, 28, 28]), torch.Size([1028, 28, 28]))"
            ]
          },
          "metadata": {
            "tags": []
          },
          "execution_count": 23
        }
      ]
    },
    {
      "cell_type": "code",
      "metadata": {
        "colab": {
          "base_uri": "https://localhost:8080/"
        },
        "id": "nT0vDi3x0bdH",
        "outputId": "581d96ae-991b-4a29-d344-b87ec667c112"
      },
      "source": [
        "def mnist_distance(a,b): return (a-b).abs().mean((-1,-2))\n",
        "mnist_distance(a_3, mean3) #process run once"
      ],
      "execution_count": 24,
      "outputs": [
        {
          "output_type": "execute_result",
          "data": {
            "text/plain": [
              "tensor(0.1114)"
            ]
          },
          "metadata": {
            "tags": []
          },
          "execution_count": 24
        }
      ]
    },
    {
      "cell_type": "code",
      "metadata": {
        "colab": {
          "base_uri": "https://localhost:8080/"
        },
        "id": "TGuTaVkv0q9J",
        "outputId": "ecb3071a-41f5-4ab8-bd31-7d7e5fcaac67"
      },
      "source": [
        "# but we have to do the process for the entire valiation set\n",
        "valid_3_dist = mnist_distance(valid_3_tens, mean3)\n",
        "print('valid_3_tens shape:', valid_3_tens.shape)\n",
        "print('mean3 shape:', mean3.shape)\n",
        "valid_3_dist, valid_3_dist.shape\n",
        "# it returned an array of 1010 values due to Broadcasting: when it finds different shapes it acts as if mean3 was copied 1010 times"
      ],
      "execution_count": 25,
      "outputs": [
        {
          "output_type": "stream",
          "text": [
            "valid_3_tens shape: torch.Size([1010, 28, 28])\n",
            "mean3 shape: torch.Size([28, 28])\n"
          ],
          "name": "stdout"
        },
        {
          "output_type": "execute_result",
          "data": {
            "text/plain": [
              "(tensor([0.1097, 0.1314, 0.1469,  ..., 0.1423, 0.1170, 0.1234]),\n",
              " torch.Size([1010]))"
            ]
          },
          "metadata": {
            "tags": []
          },
          "execution_count": 25
        }
      ]
    },
    {
      "cell_type": "code",
      "metadata": {
        "id": "uITXfHMf2vi4"
      },
      "source": [
        "def is_3(x): return mnist_distance(x,mean3) < mnist_distance(x,mean7)"
      ],
      "execution_count": 26,
      "outputs": []
    },
    {
      "cell_type": "code",
      "metadata": {
        "colab": {
          "base_uri": "https://localhost:8080/"
        },
        "id": "px91jMQU22zh",
        "outputId": "30e8ef71-bed9-4c64-825e-20deab72fa88"
      },
      "source": [
        "is_3(a_3), is_3(a_3).float()"
      ],
      "execution_count": 27,
      "outputs": [
        {
          "output_type": "execute_result",
          "data": {
            "text/plain": [
              "(tensor(True), tensor(1.))"
            ]
          },
          "metadata": {
            "tags": []
          },
          "execution_count": 27
        }
      ]
    },
    {
      "cell_type": "code",
      "metadata": {
        "colab": {
          "base_uri": "https://localhost:8080/"
        },
        "id": "vJYbf_Ny26HU",
        "outputId": "74dd17ae-fa5f-4cae-bfc0-55ac83a49db2"
      },
      "source": [
        "# we can broadcast the process into the entire set\n",
        "is_3(valid_3_tens)"
      ],
      "execution_count": 28,
      "outputs": [
        {
          "output_type": "execute_result",
          "data": {
            "text/plain": [
              "tensor([ True,  True,  True,  ..., False,  True,  True])"
            ]
          },
          "metadata": {
            "tags": []
          },
          "execution_count": 28
        }
      ]
    },
    {
      "cell_type": "code",
      "metadata": {
        "colab": {
          "base_uri": "https://localhost:8080/"
        },
        "id": "ubneysKQ3CRo",
        "outputId": "e4b2ae2a-29f9-4d51-b7cb-ab71586b83f1"
      },
      "source": [
        "accuracy_3s =      is_3(valid_3_tens).float() .mean()\n",
        "accuracy_7s = (1 - is_3(valid_7_tens).float()).mean()\n",
        "\n",
        "accuracy_3s,accuracy_7s,(accuracy_3s+accuracy_7s)/2"
      ],
      "execution_count": 29,
      "outputs": [
        {
          "output_type": "execute_result",
          "data": {
            "text/plain": [
              "(tensor(0.9168), tensor(0.9854), tensor(0.9511))"
            ]
          },
          "metadata": {
            "tags": []
          },
          "execution_count": 29
        }
      ]
    },
    {
      "cell_type": "markdown",
      "metadata": {
        "id": "LMWIbDBxpX1x"
      },
      "source": [
        "## Stochastic Gradient Descent SGD"
      ]
    },
    {
      "cell_type": "code",
      "metadata": {
        "id": "t-yfv0j7pdeX",
        "colab": {
          "base_uri": "https://localhost:8080/"
        },
        "outputId": "1d1ae06c-4dd4-4ad7-e725-f7637a455bfd"
      },
      "source": [
        "time = torch.arange(0,20).float(); time"
      ],
      "execution_count": 30,
      "outputs": [
        {
          "output_type": "execute_result",
          "data": {
            "text/plain": [
              "tensor([ 0.,  1.,  2.,  3.,  4.,  5.,  6.,  7.,  8.,  9., 10., 11., 12., 13., 14., 15., 16., 17., 18., 19.])"
            ]
          },
          "metadata": {
            "tags": []
          },
          "execution_count": 30
        }
      ]
    },
    {
      "cell_type": "code",
      "metadata": {
        "colab": {
          "base_uri": "https://localhost:8080/",
          "height": 265
        },
        "id": "LnZbJvg8e8Zv",
        "outputId": "e6175ad9-1e52-41bb-85be-b31499a295df"
      },
      "source": [
        "speed = torch.randn(20)*3 + 0.75*(time-9.5)**2 + 1\n",
        "plt.scatter(time,speed);"
      ],
      "execution_count": 31,
      "outputs": [
        {
          "output_type": "display_data",
          "data": {
            "image/png": "[encoded data removed]",
            "text/plain": [
              "<Figure size 432x288 with 1 Axes>"
            ]
          },
          "metadata": {
            "tags": [],
            "needs_background": "light"
          }
        }
      ]
    },
    {
      "cell_type": "code",
      "metadata": {
        "id": "qZkzzvTYfLyF"
      },
      "source": [
        "def f(t, params):\n",
        "    a,b,c = params\n",
        "    return a*(t**2) + (b*t) + c"
      ],
      "execution_count": 32,
      "outputs": []
    },
    {
      "cell_type": "code",
      "metadata": {
        "id": "pg2m8TC0fQ7t"
      },
      "source": [
        "def mse(preds, targets): return ((preds-targets)**2).mean().sqrt() # mean squared error"
      ],
      "execution_count": 33,
      "outputs": []
    },
    {
      "cell_type": "markdown",
      "metadata": {
        "id": "f8uvRXN7fy8J"
      },
      "source": [
        "### 7 steps process"
      ]
    },
    {
      "cell_type": "markdown",
      "metadata": {
        "id": "zHn-Q8-sgO9s"
      },
      "source": [
        "1. Initialize the parameters"
      ]
    },
    {
      "cell_type": "code",
      "metadata": {
        "id": "1hdE0yE2fXyQ"
      },
      "source": [
        "params = torch.randn(3).requires_grad_() # initialize the parameters to random values, and tell PyTorch that we want to track their gradients"
      ],
      "execution_count": 34,
      "outputs": []
    },
    {
      "cell_type": "code",
      "metadata": {
        "id": "heOd-mpI-hfU"
      },
      "source": [
        "#hide\n",
        "orig_params = params.clone()"
      ],
      "execution_count": 35,
      "outputs": []
    },
    {
      "cell_type": "markdown",
      "metadata": {
        "id": "P_qTuolsAoVa"
      },
      "source": [
        "2. Calculate the predictions"
      ]
    },
    {
      "cell_type": "code",
      "metadata": {
        "id": "D-zd9WiaBVsK"
      },
      "source": [
        "preds = f(time, params)"
      ],
      "execution_count": 36,
      "outputs": []
    },
    {
      "cell_type": "code",
      "metadata": {
        "colab": {
          "base_uri": "https://localhost:8080/",
          "height": 269
        },
        "id": "4HQoxgewB3rF",
        "outputId": "2781e7fc-456b-40ab-d735-868c5e00537e"
      },
      "source": [
        "# how close our predictions are to our targets\n",
        "def show_preds(preds, ax=None):\n",
        "    if ax is None: ax=plt.subplots()[1]\n",
        "    ax.scatter(time, speed)\n",
        "    ax.scatter(time, to_np(preds), color='red')\n",
        "    ax.set_ylim(-300,100)\n",
        "show_preds(preds)"
      ],
      "execution_count": 37,
      "outputs": [
        {
          "output_type": "display_data",
          "data": {
            "image/png": "[encoded data removed]",
            "text/plain": [
              "<Figure size 432x288 with 1 Axes>"
            ]
          },
          "metadata": {
            "tags": [],
            "needs_background": "light"
          }
        }
      ]
    },
    {
      "cell_type": "markdown",
      "metadata": {
        "id": "PvsVUOGPAzAu"
      },
      "source": [
        "3. Calculate the loss"
      ]
    },
    {
      "cell_type": "code",
      "metadata": {
        "colab": {
          "base_uri": "https://localhost:8080/"
        },
        "id": "9XTqVR_LCOTe",
        "outputId": "30777700-0838-47c3-98bf-d2e4e0a0c7fe"
      },
      "source": [
        "loss = mse(preds, speed)\n",
        "loss"
      ],
      "execution_count": 38,
      "outputs": [
        {
          "output_type": "execute_result",
          "data": {
            "text/plain": [
              "tensor(160.6979, grad_fn=<SqrtBackward>)"
            ]
          },
          "metadata": {
            "tags": []
          },
          "execution_count": 38
        }
      ]
    },
    {
      "cell_type": "markdown",
      "metadata": {
        "id": "mv_6GI8NAzMy"
      },
      "source": [
        "4. Calculate the gradients"
      ]
    },
    {
      "cell_type": "code",
      "metadata": {
        "id": "qRHJTsx4CVeN"
      },
      "source": [
        "loss.backward()"
      ],
      "execution_count": 39,
      "outputs": []
    },
    {
      "cell_type": "code",
      "metadata": {
        "colab": {
          "base_uri": "https://localhost:8080/"
        },
        "id": "2FSwdyX5CarU",
        "outputId": "1527674b-f203-4096-8635-7ec42810f2fa"
      },
      "source": [
        "params.grad * 1e-5 # 1e-5 learning rate"
      ],
      "execution_count": 40,
      "outputs": [
        {
          "output_type": "execute_result",
          "data": {
            "text/plain": [
              "tensor([-1.6552e-03, -1.0640e-04, -7.8996e-06])"
            ]
          },
          "metadata": {
            "tags": []
          },
          "execution_count": 40
        }
      ]
    },
    {
      "cell_type": "code",
      "metadata": {
        "colab": {
          "base_uri": "https://localhost:8080/"
        },
        "id": "vtb_KKzoClgM",
        "outputId": "27e53120-8dc7-4f68-8f58-d36c032838c7"
      },
      "source": [
        "params"
      ],
      "execution_count": 41,
      "outputs": [
        {
          "output_type": "execute_result",
          "data": {
            "text/plain": [
              "tensor([-0.7658, -0.7506,  1.3525], requires_grad=True)"
            ]
          },
          "metadata": {
            "tags": []
          },
          "execution_count": 41
        }
      ]
    },
    {
      "cell_type": "markdown",
      "metadata": {
        "id": "1axX0nlyAzVa"
      },
      "source": [
        "5. Step the weights"
      ]
    },
    {
      "cell_type": "code",
      "metadata": {
        "id": "5Uh8G8BWCvTm"
      },
      "source": [
        "# update the parameters based on the gradients we just calculated\n",
        "lr = 1e-5\n",
        "params.data -= lr * params.grad.data\n",
        "params.grad = None"
      ],
      "execution_count": 42,
      "outputs": []
    },
    {
      "cell_type": "code",
      "metadata": {
        "colab": {
          "base_uri": "https://localhost:8080/"
        },
        "id": "lnFvbJbuE5Tr",
        "outputId": "188515a4-f184-41fb-c344-0e822e7fb1da"
      },
      "source": [
        "preds = f(time,params)\n",
        "mse(preds, speed)"
      ],
      "execution_count": 43,
      "outputs": [
        {
          "output_type": "execute_result",
          "data": {
            "text/plain": [
              "tensor(160.4228, grad_fn=<SqrtBackward>)"
            ]
          },
          "metadata": {
            "tags": []
          },
          "execution_count": 43
        }
      ]
    },
    {
      "cell_type": "code",
      "metadata": {
        "colab": {
          "base_uri": "https://localhost:8080/",
          "height": 269
        },
        "id": "Xdc_9LcDHf4T",
        "outputId": "a6967a9f-714a-4d7e-c71b-da4891d482fd"
      },
      "source": [
        "show_preds(preds)"
      ],
      "execution_count": 44,
      "outputs": [
        {
          "output_type": "display_data",
          "data": {
            "image/png": "[encoded data removed]",
            "text/plain": [
              "<Figure size 432x288 with 1 Axes>"
            ]
          },
          "metadata": {
            "tags": [],
            "needs_background": "light"
          }
        }
      ]
    },
    {
      "cell_type": "markdown",
      "metadata": {
        "id": "VRGsvv7tA0Jf"
      },
      "source": [
        "6. Repeat the process"
      ]
    },
    {
      "cell_type": "code",
      "metadata": {
        "colab": {
          "base_uri": "https://localhost:8080/"
        },
        "id": "_UuzVurVLPxq",
        "outputId": "f71e6430-d720-4daa-da4c-bb57c0748c01"
      },
      "source": [
        "def apply_step(params, prn=True):\n",
        "    preds = f(time, params)\n",
        "    loss = mse(preds, speed)\n",
        "    loss.backward()\n",
        "    params.data -= lr * params.grad.data\n",
        "    params.grad = None\n",
        "    if prn: print(loss.item())\n",
        "    return preds\n",
        "for i in range(10): apply_step(params)"
      ],
      "execution_count": 45,
      "outputs": [
        {
          "output_type": "stream",
          "text": [
            "160.42279052734375\n",
            "160.14772033691406\n",
            "159.87269592285156\n",
            "159.59768676757812\n",
            "159.3227081298828\n",
            "159.04774475097656\n",
            "158.7728271484375\n",
            "158.4979248046875\n",
            "158.22305297851562\n",
            "157.9481964111328\n"
          ],
          "name": "stdout"
        }
      ]
    },
    {
      "cell_type": "code",
      "metadata": {
        "id": "3aQhDZ6SLqBJ"
      },
      "source": [
        "params = orig_params.detach().requires_grad_()"
      ],
      "execution_count": 46,
      "outputs": []
    },
    {
      "cell_type": "code",
      "metadata": {
        "colab": {
          "base_uri": "https://localhost:8080/",
          "height": 225
        },
        "id": "hqchiL3ALs-F",
        "outputId": "976e6e8f-69be-4fae-ce26-42b22fc5322b"
      },
      "source": [
        "_,axs = plt.subplots(1,4,figsize=(12,3))\n",
        "for ax in axs: show_preds(apply_step(params, False), ax)\n",
        "plt.tight_layout()"
      ],
      "execution_count": 47,
      "outputs": [
        {
          "output_type": "display_data",
          "data": {
            "image/png": "[encoded data removed]",
            "text/plain": [
              "<Figure size 864x216 with 4 Axes>"
            ]
          },
          "metadata": {
            "tags": [],
            "needs_background": "light"
          }
        }
      ]
    },
    {
      "cell_type": "markdown",
      "metadata": {
        "id": "Fnrsz0ctA0Qd"
      },
      "source": [
        "\n",
        "7. stop\n"
      ]
    },
    {
      "cell_type": "markdown",
      "metadata": {
        "id": "hBfas9YJZq9w"
      },
      "source": [
        "## The MNIST Loss Function"
      ]
    },
    {
      "cell_type": "code",
      "metadata": {
        "id": "CO0mgy8FZr9G"
      },
      "source": [
        "train_x = torch.cat([stacked_threes, stacked_sevens]).view(-1, 28*28) # view method reshapes the tensor (-1 is for all the list items)"
      ],
      "execution_count": 48,
      "outputs": []
    },
    {
      "cell_type": "code",
      "metadata": {
        "colab": {
          "base_uri": "https://localhost:8080/"
        },
        "id": "5klEy330a7NH",
        "outputId": "99c44763-e24e-4542-e137-e7a775e616e0"
      },
      "source": [
        "train_y = tensor([1]*len(threes) + [0]*len(sevens)).unsqueeze(1) # label 1 for 3s and 0 for 7s\n",
        "train_x.shape,train_y.shape"
      ],
      "execution_count": 49,
      "outputs": [
        {
          "output_type": "execute_result",
          "data": {
            "text/plain": [
              "(torch.Size([12396, 784]), torch.Size([12396, 1]))"
            ]
          },
          "metadata": {
            "tags": []
          },
          "execution_count": 49
        }
      ]
    },
    {
      "cell_type": "code",
      "metadata": {
        "colab": {
          "base_uri": "https://localhost:8080/"
        },
        "id": "HIgNAxnDbtL8",
        "outputId": "637d4a9d-7861-43ce-f7dd-f1c6ddf91c71"
      },
      "source": [
        "# create the training dataset\n",
        "dset = list(zip(train_x,train_y))\n",
        "x,y = dset[0] # a dataset is something you can index into and get back a tuple\n",
        "x.shape,y"
      ],
      "execution_count": 50,
      "outputs": [
        {
          "output_type": "execute_result",
          "data": {
            "text/plain": [
              "(torch.Size([784]), tensor([1]))"
            ]
          },
          "metadata": {
            "tags": []
          },
          "execution_count": 50
        }
      ]
    },
    {
      "cell_type": "code",
      "metadata": {
        "id": "sidGNhu5ckv6"
      },
      "source": [
        "# do the same to create the validation dataset\n",
        "valid_x = torch.cat([valid_3_tens, valid_7_tens]).view(-1, 28*28)\n",
        "valid_y = tensor([1]*len(valid_3_tens) + [0]*len(valid_7_tens)).unsqueeze(1)\n",
        "valid_dset = list(zip(valid_x,valid_y))"
      ],
      "execution_count": 51,
      "outputs": []
    },
    {
      "cell_type": "code",
      "metadata": {
        "id": "arHGs_D4iZdi"
      },
      "source": [
        "def init_params(size, std=1.0): return (torch.randn(size)*std).requires_grad_()\n",
        "weights = init_params((28*28, 1))"
      ],
      "execution_count": 52,
      "outputs": []
    },
    {
      "cell_type": "markdown",
      "metadata": {
        "id": "ZkIYIU2qjfBl"
      },
      "source": [
        "The function weights*pixels won't be flexible enough—it is always equal to 0 when the pixels are equal to 0.\n",
        "\n",
        "y=w*x+b; we still need the b"
      ]
    },
    {
      "cell_type": "code",
      "metadata": {
        "id": "-EvICpVwjWa0"
      },
      "source": [
        "bias = init_params(1)"
      ],
      "execution_count": 53,
      "outputs": []
    },
    {
      "cell_type": "markdown",
      "metadata": {
        "id": "QRMuzvP2j_kY"
      },
      "source": [
        "\n",
        "\n",
        "> jargon: **Parameters**: The weights and biases of a model. The weights are the w in the equation w*x+b, and the biases are the b in that equation.\n",
        "\n"
      ]
    },
    {
      "cell_type": "code",
      "metadata": {
        "colab": {
          "base_uri": "https://localhost:8080/"
        },
        "id": "L8R078zWkFNB",
        "outputId": "0f29db0c-ad8f-4e88-c24c-84cc0c2d7d2c"
      },
      "source": [
        "# calculate a prediction for 1 image\n",
        "(train_x[0]*weights.T).sum() + bias"
      ],
      "execution_count": 54,
      "outputs": [
        {
          "output_type": "execute_result",
          "data": {
            "text/plain": [
              "tensor([20.2336], grad_fn=<AddBackward0>)"
            ]
          },
          "metadata": {
            "tags": []
          },
          "execution_count": 54
        }
      ]
    },
    {
      "cell_type": "code",
      "metadata": {
        "colab": {
          "base_uri": "https://localhost:8080/"
        },
        "id": "JIZezWMQlKlM",
        "outputId": "9321663c-2935-4445-caf8-d11877c2708f"
      },
      "source": [
        "# calculate predictions for all items with matrix multiplication (@)\n",
        "def linear1(xb): return xb@weights + bias\n",
        "preds = linear1(train_x)\n",
        "preds"
      ],
      "execution_count": 55,
      "outputs": [
        {
          "output_type": "execute_result",
          "data": {
            "text/plain": [
              "tensor([[20.2336],\n",
              "        [17.0644],\n",
              "        [15.2384],\n",
              "        ...,\n",
              "        [18.3804],\n",
              "        [23.8567],\n",
              "        [28.6816]], grad_fn=<AddBackward0>)"
            ]
          },
          "metadata": {
            "tags": []
          },
          "execution_count": 55
        }
      ]
    },
    {
      "cell_type": "code",
      "metadata": {
        "colab": {
          "base_uri": "https://localhost:8080/"
        },
        "id": "EKg-ZaRVmPdE",
        "outputId": "7cc82800-0cc1-40fc-c0ad-d15c40880f9d"
      },
      "source": [
        "#  check whether it's greater than 0. accuracy for each item can be calculated using broadcasting (no loops)\n",
        "corrects = (preds>0.0).float() == train_y\n",
        "corrects"
      ],
      "execution_count": 56,
      "outputs": [
        {
          "output_type": "execute_result",
          "data": {
            "text/plain": [
              "tensor([[ True],\n",
              "        [ True],\n",
              "        [ True],\n",
              "        ...,\n",
              "        [False],\n",
              "        [False],\n",
              "        [False]])"
            ]
          },
          "metadata": {
            "tags": []
          },
          "execution_count": 56
        }
      ]
    },
    {
      "cell_type": "code",
      "metadata": {
        "colab": {
          "base_uri": "https://localhost:8080/"
        },
        "id": "4nNQ2bxJmea6",
        "outputId": "96afb8b5-6399-4d04-94f8-146bb635991d"
      },
      "source": [
        "corrects.float().mean().item()"
      ],
      "execution_count": 57,
      "outputs": [
        {
          "output_type": "execute_result",
          "data": {
            "text/plain": [
              "0.4912068545818329"
            ]
          },
          "metadata": {
            "tags": []
          },
          "execution_count": 57
        }
      ]
    },
    {
      "cell_type": "markdown",
      "metadata": {
        "id": "Hb3Z8Vgqxp1t"
      },
      "source": [
        "##### sigmoid in loss function"
      ]
    },
    {
      "cell_type": "code",
      "metadata": {
        "id": "H4NkXHcEx0Hs"
      },
      "source": [
        "def sigmoid(x): return 1/(1+torch.exp(-x))"
      ],
      "execution_count": 58,
      "outputs": []
    },
    {
      "cell_type": "code",
      "metadata": {
        "id": "bc2zr11Pxuye"
      },
      "source": [
        "def mnist_loss(predictions, targets):\n",
        "    predictions = predictions.sigmoid()\n",
        "    return torch.where(targets==1, 1-predictions, predictions).mean()"
      ],
      "execution_count": 59,
      "outputs": []
    },
    {
      "cell_type": "markdown",
      "metadata": {
        "id": "RP75Liplu-Nw"
      },
      "source": [
        "### Applying loss function"
      ]
    },
    {
      "cell_type": "code",
      "metadata": {
        "id": "_4w9TTuuu9JV"
      },
      "source": [
        "weights = init_params((28*28, 1))\n",
        "bias = init_params(1)"
      ],
      "execution_count": 60,
      "outputs": []
    },
    {
      "cell_type": "code",
      "metadata": {
        "colab": {
          "base_uri": "https://localhost:8080/"
        },
        "id": "4tA88a93vRu-",
        "outputId": "a61030b9-4007-4ffb-cea0-e179045c0df4"
      },
      "source": [
        "# a dataloader carn be created from a dataset\n",
        "dl = DataLoader(dset, batch_size=256)\n",
        "xb, yb = first(dl)\n",
        "xb.shape, yb.shape"
      ],
      "execution_count": 61,
      "outputs": [
        {
          "output_type": "execute_result",
          "data": {
            "text/plain": [
              "(torch.Size([256, 784]), torch.Size([256, 1]))"
            ]
          },
          "metadata": {
            "tags": []
          },
          "execution_count": 61
        }
      ]
    },
    {
      "cell_type": "code",
      "metadata": {
        "id": "tWKbXasXwqQU"
      },
      "source": [
        "valid_dl = DataLoader(valid_dset, batch_size=256)"
      ],
      "execution_count": 62,
      "outputs": []
    },
    {
      "cell_type": "markdown",
      "metadata": {
        "id": "BYeLIRyyw3qM"
      },
      "source": [
        "##### test with a mini batch"
      ]
    },
    {
      "cell_type": "code",
      "metadata": {
        "colab": {
          "base_uri": "https://localhost:8080/"
        },
        "id": "Lqj2ZZmEwxW-",
        "outputId": "cfe59ac4-b341-40b8-8168-de12059850d9"
      },
      "source": [
        "batch = train_x[:4]\n",
        "batch.shape"
      ],
      "execution_count": 63,
      "outputs": [
        {
          "output_type": "execute_result",
          "data": {
            "text/plain": [
              "torch.Size([4, 784])"
            ]
          },
          "metadata": {
            "tags": []
          },
          "execution_count": 63
        }
      ]
    },
    {
      "cell_type": "code",
      "metadata": {
        "colab": {
          "base_uri": "https://localhost:8080/"
        },
        "id": "TcFXJ84BxPcQ",
        "outputId": "ef217293-5f57-4be6-d02f-ef4890bcea70"
      },
      "source": [
        "preds = linear1(batch)\n",
        "preds"
      ],
      "execution_count": 64,
      "outputs": [
        {
          "output_type": "execute_result",
          "data": {
            "text/plain": [
              "tensor([[-15.0592],\n",
              "        [ -6.4868],\n",
              "        [-14.2646],\n",
              "        [-11.4282]], grad_fn=<AddBackward0>)"
            ]
          },
          "metadata": {
            "tags": []
          },
          "execution_count": 64
        }
      ]
    },
    {
      "cell_type": "code",
      "metadata": {
        "colab": {
          "base_uri": "https://localhost:8080/"
        },
        "id": "dnbnkAdvxbLS",
        "outputId": "57ed228c-ca00-4795-853b-f0e60afce06d"
      },
      "source": [
        "loss = mnist_loss(preds, train_y[:4])\n",
        "loss"
      ],
      "execution_count": 65,
      "outputs": [
        {
          "output_type": "execute_result",
          "data": {
            "text/plain": [
              "tensor(0.9996, grad_fn=<MeanBackward0>)"
            ]
          },
          "metadata": {
            "tags": []
          },
          "execution_count": 65
        }
      ]
    },
    {
      "cell_type": "code",
      "metadata": {
        "colab": {
          "base_uri": "https://localhost:8080/"
        },
        "id": "YKcX6KlKyHEV",
        "outputId": "c32a98ce-118a-43a0-a571-187cdb9a5757"
      },
      "source": [
        "loss.backward()\n",
        "weights.grad.shape,weights.grad.mean(),bias.grad"
      ],
      "execution_count": 66,
      "outputs": [
        {
          "output_type": "execute_result",
          "data": {
            "text/plain": [
              "(torch.Size([784, 1]), tensor(-5.4572e-05), tensor([-0.0004]))"
            ]
          },
          "metadata": {
            "tags": []
          },
          "execution_count": 66
        }
      ]
    },
    {
      "cell_type": "code",
      "metadata": {
        "id": "PwPLvv8MyfvR"
      },
      "source": [
        "def calc_grad(xb, yb, model):\n",
        "    preds = model(xb)\n",
        "    loss = mnist_loss(preds, yb)\n",
        "    loss.backward()"
      ],
      "execution_count": 67,
      "outputs": []
    },
    {
      "cell_type": "code",
      "metadata": {
        "colab": {
          "base_uri": "https://localhost:8080/"
        },
        "id": "d7buqLyiyjiZ",
        "outputId": "d715f21c-b617-462d-c8ec-a16577d38ea4"
      },
      "source": [
        "calc_grad(batch, train_y[:4], linear1)\n",
        "weights.grad.mean(),bias.grad"
      ],
      "execution_count": 68,
      "outputs": [
        {
          "output_type": "execute_result",
          "data": {
            "text/plain": [
              "(tensor(-0.0001), tensor([-0.0008]))"
            ]
          },
          "metadata": {
            "tags": []
          },
          "execution_count": 68
        }
      ]
    },
    {
      "cell_type": "code",
      "metadata": {
        "id": "Y3E20pljgHgN"
      },
      "source": [
        "weights.grad.zero_()\n",
        "bias.grad.zero_();"
      ],
      "execution_count": 69,
      "outputs": []
    },
    {
      "cell_type": "code",
      "metadata": {
        "id": "Zzz7lJaOhLW8"
      },
      "source": [
        "def train_epoch(model, lr, params):\n",
        "    for xb,yb in dl:\n",
        "        calc_grad(xb, yb, model)\n",
        "        for p in params:\n",
        "            p.data -= p.grad*lr\n",
        "            p.grad.zero_()"
      ],
      "execution_count": 70,
      "outputs": []
    },
    {
      "cell_type": "code",
      "metadata": {
        "id": "Kme0zoKOiIm7"
      },
      "source": [
        "def batch_accuracy(xb, yb):\n",
        "  preds = xb.sigmoid()\n",
        "  correct = (preds>0.5) == yb\n",
        "  return correct.float().mean()"
      ],
      "execution_count": 71,
      "outputs": []
    },
    {
      "cell_type": "code",
      "metadata": {
        "colab": {
          "base_uri": "https://localhost:8080/"
        },
        "id": "wbde8P2Mjb8M",
        "outputId": "7c9cf951-a58c-4c89-a31c-d7352ad5f4e6"
      },
      "source": [
        "batch_accuracy(linear1(batch), train_y[:4]).item()"
      ],
      "execution_count": 72,
      "outputs": [
        {
          "output_type": "execute_result",
          "data": {
            "text/plain": [
              "0.0"
            ]
          },
          "metadata": {
            "tags": []
          },
          "execution_count": 72
        }
      ]
    },
    {
      "cell_type": "code",
      "metadata": {
        "id": "I0d5QK3LFeoF"
      },
      "source": [
        "def validate_epoch(model):\n",
        "    accs = [batch_accuracy(model(xb), yb) for xb,yb in valid_dl]\n",
        "    return round(torch.stack(accs).mean().item(), 4)"
      ],
      "execution_count": 73,
      "outputs": []
    },
    {
      "cell_type": "code",
      "metadata": {
        "colab": {
          "base_uri": "https://localhost:8080/"
        },
        "id": "uiPCheCkJ17s",
        "outputId": "a0323c97-4b2d-4a95-a730-e370a8dda27e"
      },
      "source": [
        "validate_epoch(linear1) # this is the starting point"
      ],
      "execution_count": 74,
      "outputs": [
        {
          "output_type": "execute_result",
          "data": {
            "text/plain": [
              "0.4772"
            ]
          },
          "metadata": {
            "tags": []
          },
          "execution_count": 74
        }
      ]
    },
    {
      "cell_type": "code",
      "metadata": {
        "colab": {
          "base_uri": "https://localhost:8080/"
        },
        "id": "5SmwvDvXKB6H",
        "outputId": "19deea3a-9580-4a17-a014-9cb5ce186702"
      },
      "source": [
        "# training one epoch\n",
        "lr = 1.\n",
        "params = weights,bias\n",
        "train_epoch(linear1, lr, params)\n",
        "validate_epoch(linear1)"
      ],
      "execution_count": 75,
      "outputs": [
        {
          "output_type": "execute_result",
          "data": {
            "text/plain": [
              "0.66"
            ]
          },
          "metadata": {
            "tags": []
          },
          "execution_count": 75
        }
      ]
    },
    {
      "cell_type": "code",
      "metadata": {
        "colab": {
          "base_uri": "https://localhost:8080/"
        },
        "id": "nsVU1uJ5KDcy",
        "outputId": "0f503658-6ec7-485d-d121-d6f2a6180017"
      },
      "source": [
        "# doing a few more\n",
        "for i in range(20):\n",
        "    train_epoch(linear1, lr, params)\n",
        "    print(validate_epoch(linear1), end=' ')"
      ],
      "execution_count": 76,
      "outputs": [
        {
          "output_type": "stream",
          "text": [
            "0.8588 0.9198 0.9388 0.9496 0.9574 0.9618 0.9657 0.9667 0.9681 0.9696 0.9701 0.9706 0.9716 0.972 0.9716 0.9716 0.972 0.972 0.972 0.9725 "
          ],
          "name": "stdout"
        }
      ]
    },
    {
      "cell_type": "markdown",
      "metadata": {
        "id": "kUYcY4JTjl1f"
      },
      "source": [
        "#### Creating an Optimizer\n"
      ]
    },
    {
      "cell_type": "code",
      "metadata": {
        "id": "YVVxU0Fmj3aQ"
      },
      "source": [
        "linear_model = nn.Linear(28*28,1) # does the xb@weights + bias function + initiates weights and bias"
      ],
      "execution_count": 77,
      "outputs": []
    },
    {
      "cell_type": "code",
      "metadata": {
        "colab": {
          "base_uri": "https://localhost:8080/"
        },
        "id": "3T6LV8-plbOa",
        "outputId": "08204be7-27a0-42ba-c43f-753fb6631122"
      },
      "source": [
        "w,b = linear_model.parameters()\n",
        "w.shape, b.shape"
      ],
      "execution_count": 78,
      "outputs": [
        {
          "output_type": "execute_result",
          "data": {
            "text/plain": [
              "(torch.Size([1, 784]), torch.Size([1]))"
            ]
          },
          "metadata": {
            "tags": []
          },
          "execution_count": 78
        }
      ]
    },
    {
      "cell_type": "code",
      "metadata": {
        "id": "W1vuUR0LmDyJ"
      },
      "source": [
        "class BasicOptim:\n",
        "    def __init__(self,params,lr): self.params,self.lr = list(params),lr\n",
        "\n",
        "    def step(self, *args, **kwargs):\n",
        "        for p in self.params: p.data -= p.grad.data * self.lr\n",
        "\n",
        "    def zero_grad(self, *args, **kwargs):\n",
        "        for p in self.params: p.grad = None"
      ],
      "execution_count": 79,
      "outputs": []
    },
    {
      "cell_type": "code",
      "metadata": {
        "id": "HtUITyUPmHBS"
      },
      "source": [
        "opt = BasicOptim(linear_model.parameters(), lr)"
      ],
      "execution_count": 80,
      "outputs": []
    },
    {
      "cell_type": "code",
      "metadata": {
        "id": "u7jmousVmJ0r"
      },
      "source": [
        "def train_epoch(model):\n",
        "    for xb,yb in dl:\n",
        "        calc_grad(xb, yb, model)\n",
        "        opt.step()\n",
        "        opt.zero_grad()"
      ],
      "execution_count": 81,
      "outputs": []
    },
    {
      "cell_type": "code",
      "metadata": {
        "colab": {
          "base_uri": "https://localhost:8080/"
        },
        "id": "dzHs00ZhmWh3",
        "outputId": "215d92d7-0cf1-49c1-f1a0-8536662f236b"
      },
      "source": [
        "validate_epoch(linear_model)"
      ],
      "execution_count": 82,
      "outputs": [
        {
          "output_type": "execute_result",
          "data": {
            "text/plain": [
              "0.5584"
            ]
          },
          "metadata": {
            "tags": []
          },
          "execution_count": 82
        }
      ]
    },
    {
      "cell_type": "code",
      "metadata": {
        "id": "0vh6GXIoS1jL"
      },
      "source": [
        "# putting training loop into a function\n",
        "def train_model(model, epochs):\n",
        "    for i in range(epochs):\n",
        "        train_epoch(model)\n",
        "        print(validate_epoch(model), end=' ')"
      ],
      "execution_count": 83,
      "outputs": []
    },
    {
      "cell_type": "code",
      "metadata": {
        "colab": {
          "base_uri": "https://localhost:8080/"
        },
        "id": "WfJBX846TC8u",
        "outputId": "7f0ba4ed-8c88-4658-bcd1-b76d6139bcfe"
      },
      "source": [
        "train_model(linear_model, 20)"
      ],
      "execution_count": 84,
      "outputs": [
        {
          "output_type": "stream",
          "text": [
            "0.4932 0.7373 0.8594 0.9165 0.9365 0.9502 0.9565 0.9624 0.9658 0.9672 0.9692 0.9716 0.9736 0.9746 0.9755 0.977 0.9775 0.978 0.9785 0.9785 "
          ],
          "name": "stdout"
        }
      ]
    },
    {
      "cell_type": "code",
      "metadata": {
        "colab": {
          "base_uri": "https://localhost:8080/"
        },
        "id": "jxGEoQqbT9Jt",
        "outputId": "c12728c2-25cf-4030-d9e0-b372960225a0"
      },
      "source": [
        "linear_model = nn.Linear(28*28,1)\n",
        "opt = SGD(linear_model.parameters(), lr) # fastai provides the SGD class which, by default, does the same thing as our BasicOptim\n",
        "train_model(linear_model, 20)"
      ],
      "execution_count": 85,
      "outputs": [
        {
          "output_type": "stream",
          "text": [
            "0.4932 0.8349 0.8403 0.9116 0.9336 0.9472 0.955 0.9629 0.9658 0.9677 0.9692 0.9716 0.9736 0.9746 0.976 0.9765 0.9775 0.978 0.978 0.978 "
          ],
          "name": "stdout"
        }
      ]
    },
    {
      "cell_type": "code",
      "metadata": {
        "id": "vjjWIRruCVb-"
      },
      "source": [
        "dls = DataLoaders(dl, valid_dl)"
      ],
      "execution_count": 86,
      "outputs": []
    },
    {
      "cell_type": "code",
      "metadata": {
        "id": "0eXfuAaSCZFY"
      },
      "source": [
        "learn = Learner(dls, nn.Linear(28*28,1), opt_func=SGD,\n",
        "                loss_func=mnist_loss, metrics=batch_accuracy)"
      ],
      "execution_count": 87,
      "outputs": []
    },
    {
      "cell_type": "code",
      "metadata": {
        "colab": {
          "base_uri": "https://localhost:8080/",
          "height": 359
        },
        "id": "Q7c3248rCb1v",
        "outputId": "d4aaceeb-4734-4ba5-9a72-33667629843d"
      },
      "source": [
        "learn.fit(10, lr=lr)"
      ],
      "execution_count": 88,
      "outputs": [
        {
          "output_type": "display_data",
          "data": {
            "text/html": [
              "<table border=\"1\" class=\"dataframe\">\n",
              "  <thead>\n",
              "    <tr style=\"text-align: left;\">\n",
              "      <th>epoch</th>\n",
              "      <th>train_loss</th>\n",
              "      <th>valid_loss</th>\n",
              "      <th>batch_accuracy</th>\n",
              "      <th>time</th>\n",
              "    </tr>\n",
              "  </thead>\n",
              "  <tbody>\n",
              "    <tr>\n",
              "      <td>0</td>\n",
              "      <td>0.637161</td>\n",
              "      <td>0.502858</td>\n",
              "      <td>0.495584</td>\n",
              "      <td>00:00</td>\n",
              "    </tr>\n",
              "    <tr>\n",
              "      <td>1</td>\n",
              "      <td>0.388674</td>\n",
              "      <td>0.277241</td>\n",
              "      <td>0.736506</td>\n",
              "      <td>00:00</td>\n",
              "    </tr>\n",
              "    <tr>\n",
              "      <td>2</td>\n",
              "      <td>0.148069</td>\n",
              "      <td>0.152936</td>\n",
              "      <td>0.862610</td>\n",
              "      <td>00:00</td>\n",
              "    </tr>\n",
              "    <tr>\n",
              "      <td>3</td>\n",
              "      <td>0.067901</td>\n",
              "      <td>0.097308</td>\n",
              "      <td>0.917566</td>\n",
              "      <td>00:00</td>\n",
              "    </tr>\n",
              "    <tr>\n",
              "      <td>4</td>\n",
              "      <td>0.038168</td>\n",
              "      <td>0.073200</td>\n",
              "      <td>0.936212</td>\n",
              "      <td>00:00</td>\n",
              "    </tr>\n",
              "    <tr>\n",
              "      <td>5</td>\n",
              "      <td>0.026406</td>\n",
              "      <td>0.059612</td>\n",
              "      <td>0.950442</td>\n",
              "      <td>00:00</td>\n",
              "    </tr>\n",
              "    <tr>\n",
              "      <td>6</td>\n",
              "      <td>0.021474</td>\n",
              "      <td>0.050992</td>\n",
              "      <td>0.957311</td>\n",
              "      <td>00:00</td>\n",
              "    </tr>\n",
              "    <tr>\n",
              "      <td>7</td>\n",
              "      <td>0.019205</td>\n",
              "      <td>0.045173</td>\n",
              "      <td>0.964181</td>\n",
              "      <td>00:00</td>\n",
              "    </tr>\n",
              "    <tr>\n",
              "      <td>8</td>\n",
              "      <td>0.018000</td>\n",
              "      <td>0.041026</td>\n",
              "      <td>0.966143</td>\n",
              "      <td>00:00</td>\n",
              "    </tr>\n",
              "    <tr>\n",
              "      <td>9</td>\n",
              "      <td>0.017243</td>\n",
              "      <td>0.037934</td>\n",
              "      <td>0.968597</td>\n",
              "      <td>00:00</td>\n",
              "    </tr>\n",
              "  </tbody>\n",
              "</table>"
            ],
            "text/plain": [
              "<IPython.core.display.HTML object>"
            ]
          },
          "metadata": {
            "tags": []
          }
        }
      ]
    },
    {
      "cell_type": "markdown",
      "metadata": {
        "id": "Vn26o5JTDGOj"
      },
      "source": [
        "#### Adding non-linearity"
      ]
    },
    {
      "cell_type": "code",
      "metadata": {
        "id": "pg47L6i6DJv0"
      },
      "source": [
        "def simple_net(xb): \n",
        "    res = xb@w1 + b1\n",
        "    res = res.max(tensor(0.0)) # ReLU\n",
        "    res = res@w2 + b2\n",
        "    return res"
      ],
      "execution_count": 89,
      "outputs": []
    },
    {
      "cell_type": "code",
      "metadata": {
        "id": "sLchrGDPDofT"
      },
      "source": [
        "w1 = init_params((28*28,30))\n",
        "b1 = init_params(30)\n",
        "w2 = init_params((30,1))\n",
        "b2 = init_params(1)"
      ],
      "execution_count": 90,
      "outputs": []
    },
    {
      "cell_type": "code",
      "metadata": {
        "id": "ZbK2dPxLEg0y"
      },
      "source": [
        "# same simplified\n",
        "simple_net = nn.Sequential(\n",
        "    nn.Linear(28*28,30),\n",
        "    nn.ReLU(),\n",
        "    nn.Linear(30,1)\n",
        ")"
      ],
      "execution_count": 91,
      "outputs": []
    },
    {
      "cell_type": "code",
      "metadata": {
        "id": "FehZwgWYHa2R"
      },
      "source": [
        "learn = Learner(dls, simple_net, opt_func=SGD,\n",
        "                loss_func=mnist_loss, metrics=batch_accuracy)"
      ],
      "execution_count": 92,
      "outputs": []
    },
    {
      "cell_type": "code",
      "metadata": {
        "id": "Jw6I9vXhHfGU",
        "outputId": "15b71dca-b12d-47c8-b9fe-c11339f8c714",
        "colab": {
          "base_uri": "https://localhost:8080/",
          "height": 1000
        }
      },
      "source": [
        "learn.fit(40, 0.1)"
      ],
      "execution_count": 93,
      "outputs": [
        {
          "output_type": "display_data",
          "data": {
            "text/html": [
              "<table border=\"1\" class=\"dataframe\">\n",
              "  <thead>\n",
              "    <tr style=\"text-align: left;\">\n",
              "      <th>epoch</th>\n",
              "      <th>train_loss</th>\n",
              "      <th>valid_loss</th>\n",
              "      <th>batch_accuracy</th>\n",
              "      <th>time</th>\n",
              "    </tr>\n",
              "  </thead>\n",
              "  <tbody>\n",
              "    <tr>\n",
              "      <td>0</td>\n",
              "      <td>0.354286</td>\n",
              "      <td>0.396134</td>\n",
              "      <td>0.510304</td>\n",
              "      <td>00:00</td>\n",
              "    </tr>\n",
              "    <tr>\n",
              "      <td>1</td>\n",
              "      <td>0.160530</td>\n",
              "      <td>0.245401</td>\n",
              "      <td>0.780177</td>\n",
              "      <td>00:00</td>\n",
              "    </tr>\n",
              "    <tr>\n",
              "      <td>2</td>\n",
              "      <td>0.086674</td>\n",
              "      <td>0.119410</td>\n",
              "      <td>0.911678</td>\n",
              "      <td>00:00</td>\n",
              "    </tr>\n",
              "    <tr>\n",
              "      <td>3</td>\n",
              "      <td>0.055475</td>\n",
              "      <td>0.079001</td>\n",
              "      <td>0.941609</td>\n",
              "      <td>00:00</td>\n",
              "    </tr>\n",
              "    <tr>\n",
              "      <td>4</td>\n",
              "      <td>0.041269</td>\n",
              "      <td>0.061175</td>\n",
              "      <td>0.957311</td>\n",
              "      <td>00:00</td>\n",
              "    </tr>\n",
              "    <tr>\n",
              "      <td>5</td>\n",
              "      <td>0.034172</td>\n",
              "      <td>0.051345</td>\n",
              "      <td>0.964181</td>\n",
              "      <td>00:00</td>\n",
              "    </tr>\n",
              "    <tr>\n",
              "      <td>6</td>\n",
              "      <td>0.030189</td>\n",
              "      <td>0.045197</td>\n",
              "      <td>0.966143</td>\n",
              "      <td>00:00</td>\n",
              "    </tr>\n",
              "    <tr>\n",
              "      <td>7</td>\n",
              "      <td>0.027649</td>\n",
              "      <td>0.041013</td>\n",
              "      <td>0.966634</td>\n",
              "      <td>00:00</td>\n",
              "    </tr>\n",
              "    <tr>\n",
              "      <td>8</td>\n",
              "      <td>0.025842</td>\n",
              "      <td>0.037975</td>\n",
              "      <td>0.969087</td>\n",
              "      <td>00:00</td>\n",
              "    </tr>\n",
              "    <tr>\n",
              "      <td>9</td>\n",
              "      <td>0.024452</td>\n",
              "      <td>0.035660</td>\n",
              "      <td>0.969578</td>\n",
              "      <td>00:00</td>\n",
              "    </tr>\n",
              "    <tr>\n",
              "      <td>10</td>\n",
              "      <td>0.023328</td>\n",
              "      <td>0.033829</td>\n",
              "      <td>0.972522</td>\n",
              "      <td>00:00</td>\n",
              "    </tr>\n",
              "    <tr>\n",
              "      <td>11</td>\n",
              "      <td>0.022391</td>\n",
              "      <td>0.032333</td>\n",
              "      <td>0.973503</td>\n",
              "      <td>00:00</td>\n",
              "    </tr>\n",
              "    <tr>\n",
              "      <td>12</td>\n",
              "      <td>0.021593</td>\n",
              "      <td>0.031078</td>\n",
              "      <td>0.974975</td>\n",
              "      <td>00:00</td>\n",
              "    </tr>\n",
              "    <tr>\n",
              "      <td>13</td>\n",
              "      <td>0.020903</td>\n",
              "      <td>0.030003</td>\n",
              "      <td>0.975957</td>\n",
              "      <td>00:00</td>\n",
              "    </tr>\n",
              "    <tr>\n",
              "      <td>14</td>\n",
              "      <td>0.020299</td>\n",
              "      <td>0.029067</td>\n",
              "      <td>0.975466</td>\n",
              "      <td>00:00</td>\n",
              "    </tr>\n",
              "    <tr>\n",
              "      <td>15</td>\n",
              "      <td>0.019763</td>\n",
              "      <td>0.028242</td>\n",
              "      <td>0.975957</td>\n",
              "      <td>00:00</td>\n",
              "    </tr>\n",
              "    <tr>\n",
              "      <td>16</td>\n",
              "      <td>0.019284</td>\n",
              "      <td>0.027507</td>\n",
              "      <td>0.976448</td>\n",
              "      <td>00:00</td>\n",
              "    </tr>\n",
              "    <tr>\n",
              "      <td>17</td>\n",
              "      <td>0.018852</td>\n",
              "      <td>0.026847</td>\n",
              "      <td>0.976938</td>\n",
              "      <td>00:00</td>\n",
              "    </tr>\n",
              "    <tr>\n",
              "      <td>18</td>\n",
              "      <td>0.018460</td>\n",
              "      <td>0.026251</td>\n",
              "      <td>0.977920</td>\n",
              "      <td>00:00</td>\n",
              "    </tr>\n",
              "    <tr>\n",
              "      <td>19</td>\n",
              "      <td>0.018102</td>\n",
              "      <td>0.025710</td>\n",
              "      <td>0.978410</td>\n",
              "      <td>00:00</td>\n",
              "    </tr>\n",
              "    <tr>\n",
              "      <td>20</td>\n",
              "      <td>0.017772</td>\n",
              "      <td>0.025216</td>\n",
              "      <td>0.978410</td>\n",
              "      <td>00:00</td>\n",
              "    </tr>\n",
              "    <tr>\n",
              "      <td>21</td>\n",
              "      <td>0.017468</td>\n",
              "      <td>0.024764</td>\n",
              "      <td>0.979392</td>\n",
              "      <td>00:00</td>\n",
              "    </tr>\n",
              "    <tr>\n",
              "      <td>22</td>\n",
              "      <td>0.017186</td>\n",
              "      <td>0.024348</td>\n",
              "      <td>0.979882</td>\n",
              "      <td>00:00</td>\n",
              "    </tr>\n",
              "    <tr>\n",
              "      <td>23</td>\n",
              "      <td>0.016922</td>\n",
              "      <td>0.023966</td>\n",
              "      <td>0.980373</td>\n",
              "      <td>00:00</td>\n",
              "    </tr>\n",
              "    <tr>\n",
              "      <td>24</td>\n",
              "      <td>0.016675</td>\n",
              "      <td>0.023612</td>\n",
              "      <td>0.980373</td>\n",
              "      <td>00:00</td>\n",
              "    </tr>\n",
              "    <tr>\n",
              "      <td>25</td>\n",
              "      <td>0.016444</td>\n",
              "      <td>0.023285</td>\n",
              "      <td>0.980373</td>\n",
              "      <td>00:00</td>\n",
              "    </tr>\n",
              "    <tr>\n",
              "      <td>26</td>\n",
              "      <td>0.016225</td>\n",
              "      <td>0.022981</td>\n",
              "      <td>0.980373</td>\n",
              "      <td>00:00</td>\n",
              "    </tr>\n",
              "    <tr>\n",
              "      <td>27</td>\n",
              "      <td>0.016019</td>\n",
              "      <td>0.022699</td>\n",
              "      <td>0.980373</td>\n",
              "      <td>00:00</td>\n",
              "    </tr>\n",
              "    <tr>\n",
              "      <td>28</td>\n",
              "      <td>0.015824</td>\n",
              "      <td>0.022437</td>\n",
              "      <td>0.980373</td>\n",
              "      <td>00:00</td>\n",
              "    </tr>\n",
              "    <tr>\n",
              "      <td>29</td>\n",
              "      <td>0.015639</td>\n",
              "      <td>0.022192</td>\n",
              "      <td>0.980864</td>\n",
              "      <td>00:00</td>\n",
              "    </tr>\n",
              "    <tr>\n",
              "      <td>30</td>\n",
              "      <td>0.015462</td>\n",
              "      <td>0.021964</td>\n",
              "      <td>0.981354</td>\n",
              "      <td>00:00</td>\n",
              "    </tr>\n",
              "    <tr>\n",
              "      <td>31</td>\n",
              "      <td>0.015294</td>\n",
              "      <td>0.021751</td>\n",
              "      <td>0.982336</td>\n",
              "      <td>00:00</td>\n",
              "    </tr>\n",
              "    <tr>\n",
              "      <td>32</td>\n",
              "      <td>0.015134</td>\n",
              "      <td>0.021551</td>\n",
              "      <td>0.982826</td>\n",
              "      <td>00:00</td>\n",
              "    </tr>\n",
              "    <tr>\n",
              "      <td>33</td>\n",
              "      <td>0.014981</td>\n",
              "      <td>0.021363</td>\n",
              "      <td>0.982826</td>\n",
              "      <td>00:00</td>\n",
              "    </tr>\n",
              "    <tr>\n",
              "      <td>34</td>\n",
              "      <td>0.014835</td>\n",
              "      <td>0.021187</td>\n",
              "      <td>0.982826</td>\n",
              "      <td>00:00</td>\n",
              "    </tr>\n",
              "    <tr>\n",
              "      <td>35</td>\n",
              "      <td>0.014694</td>\n",
              "      <td>0.021021</td>\n",
              "      <td>0.982826</td>\n",
              "      <td>00:00</td>\n",
              "    </tr>\n",
              "    <tr>\n",
              "      <td>36</td>\n",
              "      <td>0.014559</td>\n",
              "      <td>0.020864</td>\n",
              "      <td>0.982826</td>\n",
              "      <td>00:00</td>\n",
              "    </tr>\n",
              "    <tr>\n",
              "      <td>37</td>\n",
              "      <td>0.014429</td>\n",
              "      <td>0.020716</td>\n",
              "      <td>0.982826</td>\n",
              "      <td>00:00</td>\n",
              "    </tr>\n",
              "    <tr>\n",
              "      <td>38</td>\n",
              "      <td>0.014304</td>\n",
              "      <td>0.020576</td>\n",
              "      <td>0.982826</td>\n",
              "      <td>00:00</td>\n",
              "    </tr>\n",
              "    <tr>\n",
              "      <td>39</td>\n",
              "      <td>0.014183</td>\n",
              "      <td>0.020443</td>\n",
              "      <td>0.982336</td>\n",
              "      <td>00:00</td>\n",
              "    </tr>\n",
              "  </tbody>\n",
              "</table>"
            ],
            "text/plain": [
              "<IPython.core.display.HTML object>"
            ]
          },
          "metadata": {
            "tags": []
          }
        }
      ]
    },
    {
      "cell_type": "code",
      "metadata": {
        "id": "mZgg4mRSHoAf",
        "outputId": "9852e2b1-875e-41f7-e2c8-f08621cf61c0",
        "colab": {
          "base_uri": "https://localhost:8080/",
          "height": 267
        }
      },
      "source": [
        "plt.plot(L(learn.recorder.values).itemgot(2));"
      ],
      "execution_count": 94,
      "outputs": [
        {
          "output_type": "display_data",
          "data": {
            "image/png": "[encoded data removed]",
            "text/plain": [
              "<Figure size 432x288 with 1 Axes>"
            ]
          },
          "metadata": {
            "tags": [],
            "needs_background": "light"
          }
        }
      ]
    },
    {
      "cell_type": "code",
      "metadata": {
        "id": "Xv0D4zvEH3xU",
        "outputId": "28c2d5ea-5a92-4273-a659-8885183a7164",
        "colab": {
          "base_uri": "https://localhost:8080/"
        }
      },
      "source": [
        "learn.recorder.values[-1][2]"
      ],
      "execution_count": 95,
      "outputs": [
        {
          "output_type": "execute_result",
          "data": {
            "text/plain": [
              "0.98233562707901"
            ]
          },
          "metadata": {
            "tags": []
          },
          "execution_count": 95
        }
      ]
    }
  ]
}