{
  "nbformat": 4,
  "nbformat_minor": 0,
  "metadata": {
    "colab": {
      "name": "04_mnist_basics.ipynb",
      "provenance": [],
      "collapsed_sections": [],
      "authorship_tag": "ABX9TyNNc8RbPkTbncHnl6DLtjv8",
      "include_colab_link": true
    },
    "kernelspec": {
      "name": "python3",
      "display_name": "Python 3"
    }
  },
  "cells": [
    {
      "cell_type": "markdown",
      "metadata": {
        "id": "view-in-github",
        "colab_type": "text"
      },
      "source": [
        "<a href=\"https://colab.research.google.com/github/eloigil/fast.ai_playground/blob/main/04_mnist_basics.ipynb\" target=\"_parent\"><img src=\"https://colab.research.google.com/assets/colab-badge.svg\" alt=\"Open In Colab\"/></a>"
      ]
    },
    {
      "cell_type": "code",
      "metadata": {
        "id": "1NYyslslmasF",
        "colab": {
          "base_uri": "https://localhost:8080/"
        },
        "outputId": "9653be02-05f8-4308-835f-fd5978a045e9"
      },
      "source": [
        "!pip install -Uqq fastbook\n",
        "import fastbook\n",
        "fastbook.setup_book()"
      ],
      "execution_count": 2,
      "outputs": [
        {
          "output_type": "stream",
          "text": [
            "\u001b[K     |████████████████████████████████| 727kB 5.4MB/s \n",
            "\u001b[K     |████████████████████████████████| 1.2MB 12.0MB/s \n",
            "\u001b[K     |████████████████████████████████| 51kB 6.8MB/s \n",
            "\u001b[K     |████████████████████████████████| 194kB 28.2MB/s \n",
            "\u001b[K     |████████████████████████████████| 61kB 8.2MB/s \n",
            "\u001b[K     |████████████████████████████████| 51kB 6.8MB/s \n",
            "\u001b[?25hMounted at /content/gdrive\n"
          ],
          "name": "stdout"
        }
      ]
    },
    {
      "cell_type": "code",
      "metadata": {
        "id": "UkZWlyipobf7"
      },
      "source": [
        "from fastai.vision.all import *\n",
        "from fastbook import *\n",
        "\n",
        "matplotlib.rc('image', cmap='Greys')"
      ],
      "execution_count": 3,
      "outputs": []
    },
    {
      "cell_type": "code",
      "metadata": {
        "colab": {
          "base_uri": "https://localhost:8080/",
          "height": 34
        },
        "id": "rVJM2av6od41",
        "outputId": "4d13d316-479b-4e94-a917-1ae81cfee933"
      },
      "source": [
        "path = untar_data(URLs.MNIST_SAMPLE)\n",
        "path"
      ],
      "execution_count": 4,
      "outputs": [
        {
          "output_type": "display_data",
          "data": {
            "text/html": [
              ""
            ],
            "text/plain": [
              "<IPython.core.display.HTML object>"
            ]
          },
          "metadata": {
            "tags": []
          }
        },
        {
          "output_type": "execute_result",
          "data": {
            "text/plain": [
              "Path('/root/.fastai/data/mnist_sample')"
            ]
          },
          "metadata": {
            "tags": []
          },
          "execution_count": 4
        }
      ]
    },
    {
      "cell_type": "code",
      "metadata": {
        "id": "PZvuQVqApKXF"
      },
      "source": [
        "Path.BASE_PATH = path"
      ],
      "execution_count": 5,
      "outputs": []
    },
    {
      "cell_type": "code",
      "metadata": {
        "colab": {
          "base_uri": "https://localhost:8080/"
        },
        "id": "-Xs7JCBapAvi",
        "outputId": "e0cee5c6-dde6-4d29-cc61-35950e394b97"
      },
      "source": [
        "path.ls()"
      ],
      "execution_count": 6,
      "outputs": [
        {
          "output_type": "execute_result",
          "data": {
            "text/plain": [
              "(#3) [Path('train'),Path('labels.csv'),Path('valid')]"
            ]
          },
          "metadata": {
            "tags": []
          },
          "execution_count": 6
        }
      ]
    },
    {
      "cell_type": "code",
      "metadata": {
        "colab": {
          "base_uri": "https://localhost:8080/"
        },
        "id": "26R_RsARpE30",
        "outputId": "cf41b6b2-1421-4382-e5b7-c802f3a8b536"
      },
      "source": [
        "(path/'train').ls()"
      ],
      "execution_count": 7,
      "outputs": [
        {
          "output_type": "execute_result",
          "data": {
            "text/plain": [
              "(#2) [Path('train/7'),Path('train/3')]"
            ]
          },
          "metadata": {
            "tags": []
          },
          "execution_count": 7
        }
      ]
    },
    {
      "cell_type": "code",
      "metadata": {
        "id": "FlCGHSUEppQa"
      },
      "source": [
        "threes = (path/'train'/'3').ls().sorted()\n",
        "sevens = (path/'train'/'7').ls().sorted()\n",
        "# print(threes)\n",
        "# print(sevens)"
      ],
      "execution_count": 8,
      "outputs": []
    },
    {
      "cell_type": "code",
      "metadata": {
        "colab": {
          "base_uri": "https://localhost:8080/",
          "height": 45
        },
        "id": "m7JzcZVgp1wZ",
        "outputId": "0f16eb4b-e53a-4331-e1fa-4ab7cbcc455d"
      },
      "source": [
        "im3_path = threes[1]\n",
        "im3 = Image.open(im3_path)\n",
        "im3"
      ],
      "execution_count": 9,
      "outputs": [
        {
          "output_type": "execute_result",
          "data": {
            "image/png": "[encoded data removed]",
            "text/plain": [
              "<PIL.PngImagePlugin.PngImageFile image mode=L size=28x28 at 0x7F77CE6EFB90>"
            ]
          },
          "metadata": {
            "tags": []
          },
          "execution_count": 9
        }
      ]
    },
    {
      "cell_type": "code",
      "metadata": {
        "colab": {
          "base_uri": "https://localhost:8080/"
        },
        "id": "9UJv1u61qCBy",
        "outputId": "1abdcee5-26d8-4869-a14a-4070fa885f74"
      },
      "source": [
        "type(im3) #PIL is Pynthon Imaging Library"
      ],
      "execution_count": 10,
      "outputs": [
        {
          "output_type": "execute_result",
          "data": {
            "text/plain": [
              "PIL.PngImagePlugin.PngImageFile"
            ]
          },
          "metadata": {
            "tags": []
          },
          "execution_count": 10
        }
      ]
    },
    {
      "cell_type": "code",
      "metadata": {
        "colab": {
          "base_uri": "https://localhost:8080/"
        },
        "id": "uTW8gO15qfmJ",
        "outputId": "f48623c8-af7c-4c30-84f2-de2261999c83"
      },
      "source": [
        "# Converting it to NumPy array\n",
        "array(im3)[4:10,4:10] # the 4:10 is just selecting a part of the total array"
      ],
      "execution_count": 11,
      "outputs": [
        {
          "output_type": "execute_result",
          "data": {
            "text/plain": [
              "array([[  0,   0,   0,   0,   0,   0],\n",
              "       [  0,   0,   0,   0,   0,  29],\n",
              "       [  0,   0,   0,  48, 166, 224],\n",
              "       [  0,  93, 244, 249, 253, 187],\n",
              "       [  0, 107, 253, 253, 230,  48],\n",
              "       [  0,   3,  20,  20,  15,   0]], dtype=uint8)"
            ]
          },
          "metadata": {
            "tags": []
          },
          "execution_count": 11
        }
      ]
    },
    {
      "cell_type": "code",
      "metadata": {
        "colab": {
          "base_uri": "https://localhost:8080/"
        },
        "id": "apV_n3r0rA6s",
        "outputId": "a343f14e-21fd-4933-9e7c-fb90ba4f99c8"
      },
      "source": [
        "# Converting it to PyTorch tensor\n",
        "tensor(im3)[4:10,4:10]"
      ],
      "execution_count": 12,
      "outputs": [
        {
          "output_type": "execute_result",
          "data": {
            "text/plain": [
              "tensor([[  0,   0,   0,   0,   0,   0],\n",
              "        [  0,   0,   0,   0,   0,  29],\n",
              "        [  0,   0,   0,  48, 166, 224],\n",
              "        [  0,  93, 244, 249, 253, 187],\n",
              "        [  0, 107, 253, 253, 230,  48],\n",
              "        [  0,   3,  20,  20,  15,   0]], dtype=torch.uint8)"
            ]
          },
          "metadata": {
            "tags": []
          },
          "execution_count": 12
        }
      ]
    },
    {
      "cell_type": "code",
      "metadata": {
        "colab": {
          "base_uri": "https://localhost:8080/",
          "height": 271
        },
        "id": "CRjuOYcqrFxH",
        "outputId": "9233913c-22c6-4a0a-f07c-58e9aa5bf5df"
      },
      "source": [
        "im3_t = tensor(im3)\n",
        "df = pd.DataFrame(im3_t[4:15, 4:22]) #pandas dataframe (cause it has background_gradient)\n",
        "df.style.set_properties(**{'font-size': '6pt'}).background_gradient('Greys')"
      ],
      "execution_count": 13,
      "outputs": [
        {
          "output_type": "execute_result",
          "data": {
            "text/html": [
              "<style  type=\"text/css\" >\n",
              "#T_a1fad9fa_7b8f_11eb_9d6a_0242ac1c0002row0_col0,#T_a1fad9fa_7b8f_11eb_9d6a_0242ac1c0002row0_col1,#T_a1fad9fa_7b8f_11eb_9d6a_0242ac1c0002row0_col2,#T_a1fad9fa_7b8f_11eb_9d6a_0242ac1c0002row0_col3,#T_a1fad9fa_7b8f_11eb_9d6a_0242ac1c0002row0_col4,#T_a1fad9fa_7b8f_11eb_9d6a_0242ac1c0002row0_col5,#T_a1fad9fa_7b8f_11eb_9d6a_0242ac1c0002row0_col6,#T_a1fad9fa_7b8f_11eb_9d6a_0242ac1c0002row0_col7,#T_a1fad9fa_7b8f_11eb_9d6a_0242ac1c0002row0_col8,#T_a1fad9fa_7b8f_11eb_9d6a_0242ac1c0002row0_col9,#T_a1fad9fa_7b8f_11eb_9d6a_0242ac1c0002row0_col10,#T_a1fad9fa_7b8f_11eb_9d6a_0242ac1c0002row0_col11,#T_a1fad9fa_7b8f_11eb_9d6a_0242ac1c0002row0_col12,#T_a1fad9fa_7b8f_11eb_9d6a_0242ac1c0002row0_col13,#T_a1fad9fa_7b8f_11eb_9d6a_0242ac1c0002row0_col14,#T_a1fad9fa_7b8f_11eb_9d6a_0242ac1c0002row0_col15,#T_a1fad9fa_7b8f_11eb_9d6a_0242ac1c0002row0_col16,#T_a1fad9fa_7b8f_11eb_9d6a_0242ac1c0002row0_col17,#T_a1fad9fa_7b8f_11eb_9d6a_0242ac1c0002row1_col0,#T_a1fad9fa_7b8f_11eb_9d6a_0242ac1c0002row1_col1,#T_a1fad9fa_7b8f_11eb_9d6a_0242ac1c0002row1_col2,#T_a1fad9fa_7b8f_11eb_9d6a_0242ac1c0002row1_col3,#T_a1fad9fa_7b8f_11eb_9d6a_0242ac1c0002row1_col4,#T_a1fad9fa_7b8f_11eb_9d6a_0242ac1c0002row1_col15,#T_a1fad9fa_7b8f_11eb_9d6a_0242ac1c0002row1_col16,#T_a1fad9fa_7b8f_11eb_9d6a_0242ac1c0002row1_col17,#T_a1fad9fa_7b8f_11eb_9d6a_0242ac1c0002row2_col0,#T_a1fad9fa_7b8f_11eb_9d6a_0242ac1c0002row2_col1,#T_a1fad9fa_7b8f_11eb_9d6a_0242ac1c0002row2_col2,#T_a1fad9fa_7b8f_11eb_9d6a_0242ac1c0002row2_col15,#T_a1fad9fa_7b8f_11eb_9d6a_0242ac1c0002row2_col16,#T_a1fad9fa_7b8f_11eb_9d6a_0242ac1c0002row2_col17,#T_a1fad9fa_7b8f_11eb_9d6a_0242ac1c0002row3_col0,#T_a1fad9fa_7b8f_11eb_9d6a_0242ac1c0002row3_col15,#T_a1fad9fa_7b8f_11eb_9d6a_0242ac1c0002row3_col16,#T_a1fad9fa_7b8f_11eb_9d6a_0242ac1c0002row3_col17,#T_a1fad9fa_7b8f_11eb_9d6a_0242ac1c0002row4_col0,#T_a1fad9fa_7b8f_11eb_9d6a_0242ac1c0002row4_col6,#T_a1fad9fa_7b8f_11eb_9d6a_0242ac1c0002row4_col7,#T_a1fad9fa_7b8f_11eb_9d6a_0242ac1c0002row4_col8,#T_a1fad9fa_7b8f_11eb_9d6a_0242ac1c0002row4_col9,#T_a1fad9fa_7b8f_11eb_9d6a_0242ac1c0002row4_col10,#T_a1fad9fa_7b8f_11eb_9d6a_0242ac1c0002row4_col15,#T_a1fad9fa_7b8f_11eb_9d6a_0242ac1c0002row4_col16,#T_a1fad9fa_7b8f_11eb_9d6a_0242ac1c0002row4_col17,#T_a1fad9fa_7b8f_11eb_9d6a_0242ac1c0002row5_col0,#T_a1fad9fa_7b8f_11eb_9d6a_0242ac1c0002row5_col5,#T_a1fad9fa_7b8f_11eb_9d6a_0242ac1c0002row5_col6,#T_a1fad9fa_7b8f_11eb_9d6a_0242ac1c0002row5_col7,#T_a1fad9fa_7b8f_11eb_9d6a_0242ac1c0002row5_col8,#T_a1fad9fa_7b8f_11eb_9d6a_0242ac1c0002row5_col9,#T_a1fad9fa_7b8f_11eb_9d6a_0242ac1c0002row5_col15,#T_a1fad9fa_7b8f_11eb_9d6a_0242ac1c0002row5_col16,#T_a1fad9fa_7b8f_11eb_9d6a_0242ac1c0002row5_col17,#T_a1fad9fa_7b8f_11eb_9d6a_0242ac1c0002row6_col0,#T_a1fad9fa_7b8f_11eb_9d6a_0242ac1c0002row6_col1,#T_a1fad9fa_7b8f_11eb_9d6a_0242ac1c0002row6_col2,#T_a1fad9fa_7b8f_11eb_9d6a_0242ac1c0002row6_col3,#T_a1fad9fa_7b8f_11eb_9d6a_0242ac1c0002row6_col4,#T_a1fad9fa_7b8f_11eb_9d6a_0242ac1c0002row6_col5,#T_a1fad9fa_7b8f_11eb_9d6a_0242ac1c0002row6_col6,#T_a1fad9fa_7b8f_11eb_9d6a_0242ac1c0002row6_col7,#T_a1fad9fa_7b8f_11eb_9d6a_0242ac1c0002row6_col8,#T_a1fad9fa_7b8f_11eb_9d6a_0242ac1c0002row6_col9,#T_a1fad9fa_7b8f_11eb_9d6a_0242ac1c0002row6_col14,#T_a1fad9fa_7b8f_11eb_9d6a_0242ac1c0002row6_col15,#T_a1fad9fa_7b8f_11eb_9d6a_0242ac1c0002row6_col16,#T_a1fad9fa_7b8f_11eb_9d6a_0242ac1c0002row6_col17,#T_a1fad9fa_7b8f_11eb_9d6a_0242ac1c0002row7_col0,#T_a1fad9fa_7b8f_11eb_9d6a_0242ac1c0002row7_col1,#T_a1fad9fa_7b8f_11eb_9d6a_0242ac1c0002row7_col2,#T_a1fad9fa_7b8f_11eb_9d6a_0242ac1c0002row7_col3,#T_a1fad9fa_7b8f_11eb_9d6a_0242ac1c0002row7_col4,#T_a1fad9fa_7b8f_11eb_9d6a_0242ac1c0002row7_col5,#T_a1fad9fa_7b8f_11eb_9d6a_0242ac1c0002row7_col6,#T_a1fad9fa_7b8f_11eb_9d6a_0242ac1c0002row7_col13,#T_a1fad9fa_7b8f_11eb_9d6a_0242ac1c0002row7_col14,#T_a1fad9fa_7b8f_11eb_9d6a_0242ac1c0002row7_col15,#T_a1fad9fa_7b8f_11eb_9d6a_0242ac1c0002row7_col16,#T_a1fad9fa_7b8f_11eb_9d6a_0242ac1c0002row7_col17,#T_a1fad9fa_7b8f_11eb_9d6a_0242ac1c0002row8_col0,#T_a1fad9fa_7b8f_11eb_9d6a_0242ac1c0002row8_col1,#T_a1fad9fa_7b8f_11eb_9d6a_0242ac1c0002row8_col2,#T_a1fad9fa_7b8f_11eb_9d6a_0242ac1c0002row8_col3,#T_a1fad9fa_7b8f_11eb_9d6a_0242ac1c0002row8_col4,#T_a1fad9fa_7b8f_11eb_9d6a_0242ac1c0002row8_col13,#T_a1fad9fa_7b8f_11eb_9d6a_0242ac1c0002row8_col14,#T_a1fad9fa_7b8f_11eb_9d6a_0242ac1c0002row8_col15,#T_a1fad9fa_7b8f_11eb_9d6a_0242ac1c0002row8_col16,#T_a1fad9fa_7b8f_11eb_9d6a_0242ac1c0002row8_col17,#T_a1fad9fa_7b8f_11eb_9d6a_0242ac1c0002row9_col0,#T_a1fad9fa_7b8f_11eb_9d6a_0242ac1c0002row9_col1,#T_a1fad9fa_7b8f_11eb_9d6a_0242ac1c0002row9_col2,#T_a1fad9fa_7b8f_11eb_9d6a_0242ac1c0002row9_col3,#T_a1fad9fa_7b8f_11eb_9d6a_0242ac1c0002row9_col4,#T_a1fad9fa_7b8f_11eb_9d6a_0242ac1c0002row9_col16,#T_a1fad9fa_7b8f_11eb_9d6a_0242ac1c0002row9_col17,#T_a1fad9fa_7b8f_11eb_9d6a_0242ac1c0002row10_col0,#T_a1fad9fa_7b8f_11eb_9d6a_0242ac1c0002row10_col1,#T_a1fad9fa_7b8f_11eb_9d6a_0242ac1c0002row10_col2,#T_a1fad9fa_7b8f_11eb_9d6a_0242ac1c0002row10_col3,#T_a1fad9fa_7b8f_11eb_9d6a_0242ac1c0002row10_col4,#T_a1fad9fa_7b8f_11eb_9d6a_0242ac1c0002row10_col5,#T_a1fad9fa_7b8f_11eb_9d6a_0242ac1c0002row10_col6,#T_a1fad9fa_7b8f_11eb_9d6a_0242ac1c0002row10_col17{\n",
              "            font-size:  6pt;\n",
              "            background-color:  #ffffff;\n",
              "            color:  #000000;\n",
              "        }#T_a1fad9fa_7b8f_11eb_9d6a_0242ac1c0002row1_col5{\n",
              "            font-size:  6pt;\n",
              "            background-color:  #efefef;\n",
              "            color:  #000000;\n",
              "        }#T_a1fad9fa_7b8f_11eb_9d6a_0242ac1c0002row1_col6,#T_a1fad9fa_7b8f_11eb_9d6a_0242ac1c0002row1_col13{\n",
              "            font-size:  6pt;\n",
              "            background-color:  #7c7c7c;\n",
              "            color:  #000000;\n",
              "        }#T_a1fad9fa_7b8f_11eb_9d6a_0242ac1c0002row1_col7{\n",
              "            font-size:  6pt;\n",
              "            background-color:  #4a4a4a;\n",
              "            color:  #f1f1f1;\n",
              "        }#T_a1fad9fa_7b8f_11eb_9d6a_0242ac1c0002row1_col8,#T_a1fad9fa_7b8f_11eb_9d6a_0242ac1c0002row1_col9,#T_a1fad9fa_7b8f_11eb_9d6a_0242ac1c0002row1_col10,#T_a1fad9fa_7b8f_11eb_9d6a_0242ac1c0002row2_col5,#T_a1fad9fa_7b8f_11eb_9d6a_0242ac1c0002row2_col6,#T_a1fad9fa_7b8f_11eb_9d6a_0242ac1c0002row2_col7,#T_a1fad9fa_7b8f_11eb_9d6a_0242ac1c0002row2_col11,#T_a1fad9fa_7b8f_11eb_9d6a_0242ac1c0002row2_col12,#T_a1fad9fa_7b8f_11eb_9d6a_0242ac1c0002row2_col13,#T_a1fad9fa_7b8f_11eb_9d6a_0242ac1c0002row3_col4,#T_a1fad9fa_7b8f_11eb_9d6a_0242ac1c0002row3_col12,#T_a1fad9fa_7b8f_11eb_9d6a_0242ac1c0002row3_col13,#T_a1fad9fa_7b8f_11eb_9d6a_0242ac1c0002row4_col1,#T_a1fad9fa_7b8f_11eb_9d6a_0242ac1c0002row4_col2,#T_a1fad9fa_7b8f_11eb_9d6a_0242ac1c0002row4_col3,#T_a1fad9fa_7b8f_11eb_9d6a_0242ac1c0002row4_col12,#T_a1fad9fa_7b8f_11eb_9d6a_0242ac1c0002row4_col13,#T_a1fad9fa_7b8f_11eb_9d6a_0242ac1c0002row5_col12,#T_a1fad9fa_7b8f_11eb_9d6a_0242ac1c0002row6_col11,#T_a1fad9fa_7b8f_11eb_9d6a_0242ac1c0002row9_col11,#T_a1fad9fa_7b8f_11eb_9d6a_0242ac1c0002row10_col11,#T_a1fad9fa_7b8f_11eb_9d6a_0242ac1c0002row10_col12,#T_a1fad9fa_7b8f_11eb_9d6a_0242ac1c0002row10_col13,#T_a1fad9fa_7b8f_11eb_9d6a_0242ac1c0002row10_col14,#T_a1fad9fa_7b8f_11eb_9d6a_0242ac1c0002row10_col15,#T_a1fad9fa_7b8f_11eb_9d6a_0242ac1c0002row10_col16{\n",
              "            font-size:  6pt;\n",
              "            background-color:  #000000;\n",
              "            color:  #f1f1f1;\n",
              "        }#T_a1fad9fa_7b8f_11eb_9d6a_0242ac1c0002row1_col11{\n",
              "            font-size:  6pt;\n",
              "            background-color:  #606060;\n",
              "            color:  #f1f1f1;\n",
              "        }#T_a1fad9fa_7b8f_11eb_9d6a_0242ac1c0002row1_col12{\n",
              "            font-size:  6pt;\n",
              "            background-color:  #4d4d4d;\n",
              "            color:  #f1f1f1;\n",
              "        }#T_a1fad9fa_7b8f_11eb_9d6a_0242ac1c0002row1_col14{\n",
              "            font-size:  6pt;\n",
              "            background-color:  #bbbbbb;\n",
              "            color:  #000000;\n",
              "        }#T_a1fad9fa_7b8f_11eb_9d6a_0242ac1c0002row2_col3{\n",
              "            font-size:  6pt;\n",
              "            background-color:  #e4e4e4;\n",
              "            color:  #000000;\n",
              "        }#T_a1fad9fa_7b8f_11eb_9d6a_0242ac1c0002row2_col4,#T_a1fad9fa_7b8f_11eb_9d6a_0242ac1c0002row8_col6{\n",
              "            font-size:  6pt;\n",
              "            background-color:  #6b6b6b;\n",
              "            color:  #000000;\n",
              "        }#T_a1fad9fa_7b8f_11eb_9d6a_0242ac1c0002row2_col8,#T_a1fad9fa_7b8f_11eb_9d6a_0242ac1c0002row2_col14,#T_a1fad9fa_7b8f_11eb_9d6a_0242ac1c0002row3_col14{\n",
              "            font-size:  6pt;\n",
              "            background-color:  #171717;\n",
              "            color:  #f1f1f1;\n",
              "        }#T_a1fad9fa_7b8f_11eb_9d6a_0242ac1c0002row2_col9,#T_a1fad9fa_7b8f_11eb_9d6a_0242ac1c0002row3_col11{\n",
              "            font-size:  6pt;\n",
              "            background-color:  #4b4b4b;\n",
              "            color:  #f1f1f1;\n",
              "        }#T_a1fad9fa_7b8f_11eb_9d6a_0242ac1c0002row2_col10,#T_a1fad9fa_7b8f_11eb_9d6a_0242ac1c0002row7_col10,#T_a1fad9fa_7b8f_11eb_9d6a_0242ac1c0002row8_col8,#T_a1fad9fa_7b8f_11eb_9d6a_0242ac1c0002row8_col10,#T_a1fad9fa_7b8f_11eb_9d6a_0242ac1c0002row9_col8,#T_a1fad9fa_7b8f_11eb_9d6a_0242ac1c0002row9_col10{\n",
              "            font-size:  6pt;\n",
              "            background-color:  #010101;\n",
              "            color:  #f1f1f1;\n",
              "        }#T_a1fad9fa_7b8f_11eb_9d6a_0242ac1c0002row3_col1{\n",
              "            font-size:  6pt;\n",
              "            background-color:  #272727;\n",
              "            color:  #f1f1f1;\n",
              "        }#T_a1fad9fa_7b8f_11eb_9d6a_0242ac1c0002row3_col2{\n",
              "            font-size:  6pt;\n",
              "            background-color:  #0a0a0a;\n",
              "            color:  #f1f1f1;\n",
              "        }#T_a1fad9fa_7b8f_11eb_9d6a_0242ac1c0002row3_col3{\n",
              "            font-size:  6pt;\n",
              "            background-color:  #050505;\n",
              "            color:  #f1f1f1;\n",
              "        }#T_a1fad9fa_7b8f_11eb_9d6a_0242ac1c0002row3_col5{\n",
              "            font-size:  6pt;\n",
              "            background-color:  #333333;\n",
              "            color:  #f1f1f1;\n",
              "        }#T_a1fad9fa_7b8f_11eb_9d6a_0242ac1c0002row3_col6{\n",
              "            font-size:  6pt;\n",
              "            background-color:  #e6e6e6;\n",
              "            color:  #000000;\n",
              "        }#T_a1fad9fa_7b8f_11eb_9d6a_0242ac1c0002row3_col7,#T_a1fad9fa_7b8f_11eb_9d6a_0242ac1c0002row3_col10{\n",
              "            font-size:  6pt;\n",
              "            background-color:  #fafafa;\n",
              "            color:  #000000;\n",
              "        }#T_a1fad9fa_7b8f_11eb_9d6a_0242ac1c0002row3_col8{\n",
              "            font-size:  6pt;\n",
              "            background-color:  #fbfbfb;\n",
              "            color:  #000000;\n",
              "        }#T_a1fad9fa_7b8f_11eb_9d6a_0242ac1c0002row3_col9{\n",
              "            font-size:  6pt;\n",
              "            background-color:  #fdfdfd;\n",
              "            color:  #000000;\n",
              "        }#T_a1fad9fa_7b8f_11eb_9d6a_0242ac1c0002row4_col4{\n",
              "            font-size:  6pt;\n",
              "            background-color:  #1b1b1b;\n",
              "            color:  #f1f1f1;\n",
              "        }#T_a1fad9fa_7b8f_11eb_9d6a_0242ac1c0002row4_col5{\n",
              "            font-size:  6pt;\n",
              "            background-color:  #e0e0e0;\n",
              "            color:  #000000;\n",
              "        }#T_a1fad9fa_7b8f_11eb_9d6a_0242ac1c0002row4_col11{\n",
              "            font-size:  6pt;\n",
              "            background-color:  #4e4e4e;\n",
              "            color:  #f1f1f1;\n",
              "        }#T_a1fad9fa_7b8f_11eb_9d6a_0242ac1c0002row4_col14{\n",
              "            font-size:  6pt;\n",
              "            background-color:  #767676;\n",
              "            color:  #000000;\n",
              "        }#T_a1fad9fa_7b8f_11eb_9d6a_0242ac1c0002row5_col1{\n",
              "            font-size:  6pt;\n",
              "            background-color:  #fcfcfc;\n",
              "            color:  #000000;\n",
              "        }#T_a1fad9fa_7b8f_11eb_9d6a_0242ac1c0002row5_col2,#T_a1fad9fa_7b8f_11eb_9d6a_0242ac1c0002row5_col3{\n",
              "            font-size:  6pt;\n",
              "            background-color:  #f6f6f6;\n",
              "            color:  #000000;\n",
              "        }#T_a1fad9fa_7b8f_11eb_9d6a_0242ac1c0002row5_col4,#T_a1fad9fa_7b8f_11eb_9d6a_0242ac1c0002row7_col7{\n",
              "            font-size:  6pt;\n",
              "            background-color:  #f8f8f8;\n",
              "            color:  #000000;\n",
              "        }#T_a1fad9fa_7b8f_11eb_9d6a_0242ac1c0002row5_col10,#T_a1fad9fa_7b8f_11eb_9d6a_0242ac1c0002row10_col7{\n",
              "            font-size:  6pt;\n",
              "            background-color:  #e8e8e8;\n",
              "            color:  #000000;\n",
              "        }#T_a1fad9fa_7b8f_11eb_9d6a_0242ac1c0002row5_col11{\n",
              "            font-size:  6pt;\n",
              "            background-color:  #222222;\n",
              "            color:  #f1f1f1;\n",
              "        }#T_a1fad9fa_7b8f_11eb_9d6a_0242ac1c0002row5_col13,#T_a1fad9fa_7b8f_11eb_9d6a_0242ac1c0002row6_col12{\n",
              "            font-size:  6pt;\n",
              "            background-color:  #090909;\n",
              "            color:  #f1f1f1;\n",
              "        }#T_a1fad9fa_7b8f_11eb_9d6a_0242ac1c0002row5_col14{\n",
              "            font-size:  6pt;\n",
              "            background-color:  #d0d0d0;\n",
              "            color:  #000000;\n",
              "        }#T_a1fad9fa_7b8f_11eb_9d6a_0242ac1c0002row6_col10,#T_a1fad9fa_7b8f_11eb_9d6a_0242ac1c0002row7_col11,#T_a1fad9fa_7b8f_11eb_9d6a_0242ac1c0002row9_col6{\n",
              "            font-size:  6pt;\n",
              "            background-color:  #060606;\n",
              "            color:  #f1f1f1;\n",
              "        }#T_a1fad9fa_7b8f_11eb_9d6a_0242ac1c0002row6_col13{\n",
              "            font-size:  6pt;\n",
              "            background-color:  #979797;\n",
              "            color:  #000000;\n",
              "        }#T_a1fad9fa_7b8f_11eb_9d6a_0242ac1c0002row7_col8{\n",
              "            font-size:  6pt;\n",
              "            background-color:  #b6b6b6;\n",
              "            color:  #000000;\n",
              "        }#T_a1fad9fa_7b8f_11eb_9d6a_0242ac1c0002row7_col9{\n",
              "            font-size:  6pt;\n",
              "            background-color:  #252525;\n",
              "            color:  #f1f1f1;\n",
              "        }#T_a1fad9fa_7b8f_11eb_9d6a_0242ac1c0002row7_col12{\n",
              "            font-size:  6pt;\n",
              "            background-color:  #999999;\n",
              "            color:  #000000;\n",
              "        }#T_a1fad9fa_7b8f_11eb_9d6a_0242ac1c0002row8_col5{\n",
              "            font-size:  6pt;\n",
              "            background-color:  #f9f9f9;\n",
              "            color:  #000000;\n",
              "        }#T_a1fad9fa_7b8f_11eb_9d6a_0242ac1c0002row8_col7{\n",
              "            font-size:  6pt;\n",
              "            background-color:  #101010;\n",
              "            color:  #f1f1f1;\n",
              "        }#T_a1fad9fa_7b8f_11eb_9d6a_0242ac1c0002row8_col9,#T_a1fad9fa_7b8f_11eb_9d6a_0242ac1c0002row9_col9{\n",
              "            font-size:  6pt;\n",
              "            background-color:  #020202;\n",
              "            color:  #f1f1f1;\n",
              "        }#T_a1fad9fa_7b8f_11eb_9d6a_0242ac1c0002row8_col11{\n",
              "            font-size:  6pt;\n",
              "            background-color:  #545454;\n",
              "            color:  #f1f1f1;\n",
              "        }#T_a1fad9fa_7b8f_11eb_9d6a_0242ac1c0002row8_col12{\n",
              "            font-size:  6pt;\n",
              "            background-color:  #f1f1f1;\n",
              "            color:  #000000;\n",
              "        }#T_a1fad9fa_7b8f_11eb_9d6a_0242ac1c0002row9_col5{\n",
              "            font-size:  6pt;\n",
              "            background-color:  #f7f7f7;\n",
              "            color:  #000000;\n",
              "        }#T_a1fad9fa_7b8f_11eb_9d6a_0242ac1c0002row9_col7{\n",
              "            font-size:  6pt;\n",
              "            background-color:  #030303;\n",
              "            color:  #f1f1f1;\n",
              "        }#T_a1fad9fa_7b8f_11eb_9d6a_0242ac1c0002row9_col12{\n",
              "            font-size:  6pt;\n",
              "            background-color:  #181818;\n",
              "            color:  #f1f1f1;\n",
              "        }#T_a1fad9fa_7b8f_11eb_9d6a_0242ac1c0002row9_col13{\n",
              "            font-size:  6pt;\n",
              "            background-color:  #303030;\n",
              "            color:  #f1f1f1;\n",
              "        }#T_a1fad9fa_7b8f_11eb_9d6a_0242ac1c0002row9_col14{\n",
              "            font-size:  6pt;\n",
              "            background-color:  #a9a9a9;\n",
              "            color:  #000000;\n",
              "        }#T_a1fad9fa_7b8f_11eb_9d6a_0242ac1c0002row9_col15{\n",
              "            font-size:  6pt;\n",
              "            background-color:  #fefefe;\n",
              "            color:  #000000;\n",
              "        }#T_a1fad9fa_7b8f_11eb_9d6a_0242ac1c0002row10_col8,#T_a1fad9fa_7b8f_11eb_9d6a_0242ac1c0002row10_col9{\n",
              "            font-size:  6pt;\n",
              "            background-color:  #bababa;\n",
              "            color:  #000000;\n",
              "        }#T_a1fad9fa_7b8f_11eb_9d6a_0242ac1c0002row10_col10{\n",
              "            font-size:  6pt;\n",
              "            background-color:  #393939;\n",
              "            color:  #f1f1f1;\n",
              "        }</style><table id=\"T_a1fad9fa_7b8f_11eb_9d6a_0242ac1c0002\" ><thead>    <tr>        <th class=\"blank level0\" ></th>        <th class=\"col_heading level0 col0\" >0</th>        <th class=\"col_heading level0 col1\" >1</th>        <th class=\"col_heading level0 col2\" >2</th>        <th class=\"col_heading level0 col3\" >3</th>        <th class=\"col_heading level0 col4\" >4</th>        <th class=\"col_heading level0 col5\" >5</th>        <th class=\"col_heading level0 col6\" >6</th>        <th class=\"col_heading level0 col7\" >7</th>        <th class=\"col_heading level0 col8\" >8</th>        <th class=\"col_heading level0 col9\" >9</th>        <th class=\"col_heading level0 col10\" >10</th>        <th class=\"col_heading level0 col11\" >11</th>        <th class=\"col_heading level0 col12\" >12</th>        <th class=\"col_heading level0 col13\" >13</th>        <th class=\"col_heading level0 col14\" >14</th>        <th class=\"col_heading level0 col15\" >15</th>        <th class=\"col_heading level0 col16\" >16</th>        <th class=\"col_heading level0 col17\" >17</th>    </tr></thead><tbody>\n",
              "                <tr>\n",
              "                        <th id=\"T_a1fad9fa_7b8f_11eb_9d6a_0242ac1c0002level0_row0\" class=\"row_heading level0 row0\" >0</th>\n",
              "                        <td id=\"T_a1fad9fa_7b8f_11eb_9d6a_0242ac1c0002row0_col0\" class=\"data row0 col0\" >0</td>\n",
              "                        <td id=\"T_a1fad9fa_7b8f_11eb_9d6a_0242ac1c0002row0_col1\" class=\"data row0 col1\" >0</td>\n",
              "                        <td id=\"T_a1fad9fa_7b8f_11eb_9d6a_0242ac1c0002row0_col2\" class=\"data row0 col2\" >0</td>\n",
              "                        <td id=\"T_a1fad9fa_7b8f_11eb_9d6a_0242ac1c0002row0_col3\" class=\"data row0 col3\" >0</td>\n",
              "                        <td id=\"T_a1fad9fa_7b8f_11eb_9d6a_0242ac1c0002row0_col4\" class=\"data row0 col4\" >0</td>\n",
              "                        <td id=\"T_a1fad9fa_7b8f_11eb_9d6a_0242ac1c0002row0_col5\" class=\"data row0 col5\" >0</td>\n",
              "                        <td id=\"T_a1fad9fa_7b8f_11eb_9d6a_0242ac1c0002row0_col6\" class=\"data row0 col6\" >0</td>\n",
              "                        <td id=\"T_a1fad9fa_7b8f_11eb_9d6a_0242ac1c0002row0_col7\" class=\"data row0 col7\" >0</td>\n",
              "                        <td id=\"T_a1fad9fa_7b8f_11eb_9d6a_0242ac1c0002row0_col8\" class=\"data row0 col8\" >0</td>\n",
              "                        <td id=\"T_a1fad9fa_7b8f_11eb_9d6a_0242ac1c0002row0_col9\" class=\"data row0 col9\" >0</td>\n",
              "                        <td id=\"T_a1fad9fa_7b8f_11eb_9d6a_0242ac1c0002row0_col10\" class=\"data row0 col10\" >0</td>\n",
              "                        <td id=\"T_a1fad9fa_7b8f_11eb_9d6a_0242ac1c0002row0_col11\" class=\"data row0 col11\" >0</td>\n",
              "                        <td id=\"T_a1fad9fa_7b8f_11eb_9d6a_0242ac1c0002row0_col12\" class=\"data row0 col12\" >0</td>\n",
              "                        <td id=\"T_a1fad9fa_7b8f_11eb_9d6a_0242ac1c0002row0_col13\" class=\"data row0 col13\" >0</td>\n",
              "                        <td id=\"T_a1fad9fa_7b8f_11eb_9d6a_0242ac1c0002row0_col14\" class=\"data row0 col14\" >0</td>\n",
              "                        <td id=\"T_a1fad9fa_7b8f_11eb_9d6a_0242ac1c0002row0_col15\" class=\"data row0 col15\" >0</td>\n",
              "                        <td id=\"T_a1fad9fa_7b8f_11eb_9d6a_0242ac1c0002row0_col16\" class=\"data row0 col16\" >0</td>\n",
              "                        <td id=\"T_a1fad9fa_7b8f_11eb_9d6a_0242ac1c0002row0_col17\" class=\"data row0 col17\" >0</td>\n",
              "            </tr>\n",
              "            <tr>\n",
              "                        <th id=\"T_a1fad9fa_7b8f_11eb_9d6a_0242ac1c0002level0_row1\" class=\"row_heading level0 row1\" >1</th>\n",
              "                        <td id=\"T_a1fad9fa_7b8f_11eb_9d6a_0242ac1c0002row1_col0\" class=\"data row1 col0\" >0</td>\n",
              "                        <td id=\"T_a1fad9fa_7b8f_11eb_9d6a_0242ac1c0002row1_col1\" class=\"data row1 col1\" >0</td>\n",
              "                        <td id=\"T_a1fad9fa_7b8f_11eb_9d6a_0242ac1c0002row1_col2\" class=\"data row1 col2\" >0</td>\n",
              "                        <td id=\"T_a1fad9fa_7b8f_11eb_9d6a_0242ac1c0002row1_col3\" class=\"data row1 col3\" >0</td>\n",
              "                        <td id=\"T_a1fad9fa_7b8f_11eb_9d6a_0242ac1c0002row1_col4\" class=\"data row1 col4\" >0</td>\n",
              "                        <td id=\"T_a1fad9fa_7b8f_11eb_9d6a_0242ac1c0002row1_col5\" class=\"data row1 col5\" >29</td>\n",
              "                        <td id=\"T_a1fad9fa_7b8f_11eb_9d6a_0242ac1c0002row1_col6\" class=\"data row1 col6\" >150</td>\n",
              "                        <td id=\"T_a1fad9fa_7b8f_11eb_9d6a_0242ac1c0002row1_col7\" class=\"data row1 col7\" >195</td>\n",
              "                        <td id=\"T_a1fad9fa_7b8f_11eb_9d6a_0242ac1c0002row1_col8\" class=\"data row1 col8\" >254</td>\n",
              "                        <td id=\"T_a1fad9fa_7b8f_11eb_9d6a_0242ac1c0002row1_col9\" class=\"data row1 col9\" >255</td>\n",
              "                        <td id=\"T_a1fad9fa_7b8f_11eb_9d6a_0242ac1c0002row1_col10\" class=\"data row1 col10\" >254</td>\n",
              "                        <td id=\"T_a1fad9fa_7b8f_11eb_9d6a_0242ac1c0002row1_col11\" class=\"data row1 col11\" >176</td>\n",
              "                        <td id=\"T_a1fad9fa_7b8f_11eb_9d6a_0242ac1c0002row1_col12\" class=\"data row1 col12\" >193</td>\n",
              "                        <td id=\"T_a1fad9fa_7b8f_11eb_9d6a_0242ac1c0002row1_col13\" class=\"data row1 col13\" >150</td>\n",
              "                        <td id=\"T_a1fad9fa_7b8f_11eb_9d6a_0242ac1c0002row1_col14\" class=\"data row1 col14\" >96</td>\n",
              "                        <td id=\"T_a1fad9fa_7b8f_11eb_9d6a_0242ac1c0002row1_col15\" class=\"data row1 col15\" >0</td>\n",
              "                        <td id=\"T_a1fad9fa_7b8f_11eb_9d6a_0242ac1c0002row1_col16\" class=\"data row1 col16\" >0</td>\n",
              "                        <td id=\"T_a1fad9fa_7b8f_11eb_9d6a_0242ac1c0002row1_col17\" class=\"data row1 col17\" >0</td>\n",
              "            </tr>\n",
              "            <tr>\n",
              "                        <th id=\"T_a1fad9fa_7b8f_11eb_9d6a_0242ac1c0002level0_row2\" class=\"row_heading level0 row2\" >2</th>\n",
              "                        <td id=\"T_a1fad9fa_7b8f_11eb_9d6a_0242ac1c0002row2_col0\" class=\"data row2 col0\" >0</td>\n",
              "                        <td id=\"T_a1fad9fa_7b8f_11eb_9d6a_0242ac1c0002row2_col1\" class=\"data row2 col1\" >0</td>\n",
              "                        <td id=\"T_a1fad9fa_7b8f_11eb_9d6a_0242ac1c0002row2_col2\" class=\"data row2 col2\" >0</td>\n",
              "                        <td id=\"T_a1fad9fa_7b8f_11eb_9d6a_0242ac1c0002row2_col3\" class=\"data row2 col3\" >48</td>\n",
              "                        <td id=\"T_a1fad9fa_7b8f_11eb_9d6a_0242ac1c0002row2_col4\" class=\"data row2 col4\" >166</td>\n",
              "                        <td id=\"T_a1fad9fa_7b8f_11eb_9d6a_0242ac1c0002row2_col5\" class=\"data row2 col5\" >224</td>\n",
              "                        <td id=\"T_a1fad9fa_7b8f_11eb_9d6a_0242ac1c0002row2_col6\" class=\"data row2 col6\" >253</td>\n",
              "                        <td id=\"T_a1fad9fa_7b8f_11eb_9d6a_0242ac1c0002row2_col7\" class=\"data row2 col7\" >253</td>\n",
              "                        <td id=\"T_a1fad9fa_7b8f_11eb_9d6a_0242ac1c0002row2_col8\" class=\"data row2 col8\" >234</td>\n",
              "                        <td id=\"T_a1fad9fa_7b8f_11eb_9d6a_0242ac1c0002row2_col9\" class=\"data row2 col9\" >196</td>\n",
              "                        <td id=\"T_a1fad9fa_7b8f_11eb_9d6a_0242ac1c0002row2_col10\" class=\"data row2 col10\" >253</td>\n",
              "                        <td id=\"T_a1fad9fa_7b8f_11eb_9d6a_0242ac1c0002row2_col11\" class=\"data row2 col11\" >253</td>\n",
              "                        <td id=\"T_a1fad9fa_7b8f_11eb_9d6a_0242ac1c0002row2_col12\" class=\"data row2 col12\" >253</td>\n",
              "                        <td id=\"T_a1fad9fa_7b8f_11eb_9d6a_0242ac1c0002row2_col13\" class=\"data row2 col13\" >253</td>\n",
              "                        <td id=\"T_a1fad9fa_7b8f_11eb_9d6a_0242ac1c0002row2_col14\" class=\"data row2 col14\" >233</td>\n",
              "                        <td id=\"T_a1fad9fa_7b8f_11eb_9d6a_0242ac1c0002row2_col15\" class=\"data row2 col15\" >0</td>\n",
              "                        <td id=\"T_a1fad9fa_7b8f_11eb_9d6a_0242ac1c0002row2_col16\" class=\"data row2 col16\" >0</td>\n",
              "                        <td id=\"T_a1fad9fa_7b8f_11eb_9d6a_0242ac1c0002row2_col17\" class=\"data row2 col17\" >0</td>\n",
              "            </tr>\n",
              "            <tr>\n",
              "                        <th id=\"T_a1fad9fa_7b8f_11eb_9d6a_0242ac1c0002level0_row3\" class=\"row_heading level0 row3\" >3</th>\n",
              "                        <td id=\"T_a1fad9fa_7b8f_11eb_9d6a_0242ac1c0002row3_col0\" class=\"data row3 col0\" >0</td>\n",
              "                        <td id=\"T_a1fad9fa_7b8f_11eb_9d6a_0242ac1c0002row3_col1\" class=\"data row3 col1\" >93</td>\n",
              "                        <td id=\"T_a1fad9fa_7b8f_11eb_9d6a_0242ac1c0002row3_col2\" class=\"data row3 col2\" >244</td>\n",
              "                        <td id=\"T_a1fad9fa_7b8f_11eb_9d6a_0242ac1c0002row3_col3\" class=\"data row3 col3\" >249</td>\n",
              "                        <td id=\"T_a1fad9fa_7b8f_11eb_9d6a_0242ac1c0002row3_col4\" class=\"data row3 col4\" >253</td>\n",
              "                        <td id=\"T_a1fad9fa_7b8f_11eb_9d6a_0242ac1c0002row3_col5\" class=\"data row3 col5\" >187</td>\n",
              "                        <td id=\"T_a1fad9fa_7b8f_11eb_9d6a_0242ac1c0002row3_col6\" class=\"data row3 col6\" >46</td>\n",
              "                        <td id=\"T_a1fad9fa_7b8f_11eb_9d6a_0242ac1c0002row3_col7\" class=\"data row3 col7\" >10</td>\n",
              "                        <td id=\"T_a1fad9fa_7b8f_11eb_9d6a_0242ac1c0002row3_col8\" class=\"data row3 col8\" >8</td>\n",
              "                        <td id=\"T_a1fad9fa_7b8f_11eb_9d6a_0242ac1c0002row3_col9\" class=\"data row3 col9\" >4</td>\n",
              "                        <td id=\"T_a1fad9fa_7b8f_11eb_9d6a_0242ac1c0002row3_col10\" class=\"data row3 col10\" >10</td>\n",
              "                        <td id=\"T_a1fad9fa_7b8f_11eb_9d6a_0242ac1c0002row3_col11\" class=\"data row3 col11\" >194</td>\n",
              "                        <td id=\"T_a1fad9fa_7b8f_11eb_9d6a_0242ac1c0002row3_col12\" class=\"data row3 col12\" >253</td>\n",
              "                        <td id=\"T_a1fad9fa_7b8f_11eb_9d6a_0242ac1c0002row3_col13\" class=\"data row3 col13\" >253</td>\n",
              "                        <td id=\"T_a1fad9fa_7b8f_11eb_9d6a_0242ac1c0002row3_col14\" class=\"data row3 col14\" >233</td>\n",
              "                        <td id=\"T_a1fad9fa_7b8f_11eb_9d6a_0242ac1c0002row3_col15\" class=\"data row3 col15\" >0</td>\n",
              "                        <td id=\"T_a1fad9fa_7b8f_11eb_9d6a_0242ac1c0002row3_col16\" class=\"data row3 col16\" >0</td>\n",
              "                        <td id=\"T_a1fad9fa_7b8f_11eb_9d6a_0242ac1c0002row3_col17\" class=\"data row3 col17\" >0</td>\n",
              "            </tr>\n",
              "            <tr>\n",
              "                        <th id=\"T_a1fad9fa_7b8f_11eb_9d6a_0242ac1c0002level0_row4\" class=\"row_heading level0 row4\" >4</th>\n",
              "                        <td id=\"T_a1fad9fa_7b8f_11eb_9d6a_0242ac1c0002row4_col0\" class=\"data row4 col0\" >0</td>\n",
              "                        <td id=\"T_a1fad9fa_7b8f_11eb_9d6a_0242ac1c0002row4_col1\" class=\"data row4 col1\" >107</td>\n",
              "                        <td id=\"T_a1fad9fa_7b8f_11eb_9d6a_0242ac1c0002row4_col2\" class=\"data row4 col2\" >253</td>\n",
              "                        <td id=\"T_a1fad9fa_7b8f_11eb_9d6a_0242ac1c0002row4_col3\" class=\"data row4 col3\" >253</td>\n",
              "                        <td id=\"T_a1fad9fa_7b8f_11eb_9d6a_0242ac1c0002row4_col4\" class=\"data row4 col4\" >230</td>\n",
              "                        <td id=\"T_a1fad9fa_7b8f_11eb_9d6a_0242ac1c0002row4_col5\" class=\"data row4 col5\" >48</td>\n",
              "                        <td id=\"T_a1fad9fa_7b8f_11eb_9d6a_0242ac1c0002row4_col6\" class=\"data row4 col6\" >0</td>\n",
              "                        <td id=\"T_a1fad9fa_7b8f_11eb_9d6a_0242ac1c0002row4_col7\" class=\"data row4 col7\" >0</td>\n",
              "                        <td id=\"T_a1fad9fa_7b8f_11eb_9d6a_0242ac1c0002row4_col8\" class=\"data row4 col8\" >0</td>\n",
              "                        <td id=\"T_a1fad9fa_7b8f_11eb_9d6a_0242ac1c0002row4_col9\" class=\"data row4 col9\" >0</td>\n",
              "                        <td id=\"T_a1fad9fa_7b8f_11eb_9d6a_0242ac1c0002row4_col10\" class=\"data row4 col10\" >0</td>\n",
              "                        <td id=\"T_a1fad9fa_7b8f_11eb_9d6a_0242ac1c0002row4_col11\" class=\"data row4 col11\" >192</td>\n",
              "                        <td id=\"T_a1fad9fa_7b8f_11eb_9d6a_0242ac1c0002row4_col12\" class=\"data row4 col12\" >253</td>\n",
              "                        <td id=\"T_a1fad9fa_7b8f_11eb_9d6a_0242ac1c0002row4_col13\" class=\"data row4 col13\" >253</td>\n",
              "                        <td id=\"T_a1fad9fa_7b8f_11eb_9d6a_0242ac1c0002row4_col14\" class=\"data row4 col14\" >156</td>\n",
              "                        <td id=\"T_a1fad9fa_7b8f_11eb_9d6a_0242ac1c0002row4_col15\" class=\"data row4 col15\" >0</td>\n",
              "                        <td id=\"T_a1fad9fa_7b8f_11eb_9d6a_0242ac1c0002row4_col16\" class=\"data row4 col16\" >0</td>\n",
              "                        <td id=\"T_a1fad9fa_7b8f_11eb_9d6a_0242ac1c0002row4_col17\" class=\"data row4 col17\" >0</td>\n",
              "            </tr>\n",
              "            <tr>\n",
              "                        <th id=\"T_a1fad9fa_7b8f_11eb_9d6a_0242ac1c0002level0_row5\" class=\"row_heading level0 row5\" >5</th>\n",
              "                        <td id=\"T_a1fad9fa_7b8f_11eb_9d6a_0242ac1c0002row5_col0\" class=\"data row5 col0\" >0</td>\n",
              "                        <td id=\"T_a1fad9fa_7b8f_11eb_9d6a_0242ac1c0002row5_col1\" class=\"data row5 col1\" >3</td>\n",
              "                        <td id=\"T_a1fad9fa_7b8f_11eb_9d6a_0242ac1c0002row5_col2\" class=\"data row5 col2\" >20</td>\n",
              "                        <td id=\"T_a1fad9fa_7b8f_11eb_9d6a_0242ac1c0002row5_col3\" class=\"data row5 col3\" >20</td>\n",
              "                        <td id=\"T_a1fad9fa_7b8f_11eb_9d6a_0242ac1c0002row5_col4\" class=\"data row5 col4\" >15</td>\n",
              "                        <td id=\"T_a1fad9fa_7b8f_11eb_9d6a_0242ac1c0002row5_col5\" class=\"data row5 col5\" >0</td>\n",
              "                        <td id=\"T_a1fad9fa_7b8f_11eb_9d6a_0242ac1c0002row5_col6\" class=\"data row5 col6\" >0</td>\n",
              "                        <td id=\"T_a1fad9fa_7b8f_11eb_9d6a_0242ac1c0002row5_col7\" class=\"data row5 col7\" >0</td>\n",
              "                        <td id=\"T_a1fad9fa_7b8f_11eb_9d6a_0242ac1c0002row5_col8\" class=\"data row5 col8\" >0</td>\n",
              "                        <td id=\"T_a1fad9fa_7b8f_11eb_9d6a_0242ac1c0002row5_col9\" class=\"data row5 col9\" >0</td>\n",
              "                        <td id=\"T_a1fad9fa_7b8f_11eb_9d6a_0242ac1c0002row5_col10\" class=\"data row5 col10\" >43</td>\n",
              "                        <td id=\"T_a1fad9fa_7b8f_11eb_9d6a_0242ac1c0002row5_col11\" class=\"data row5 col11\" >224</td>\n",
              "                        <td id=\"T_a1fad9fa_7b8f_11eb_9d6a_0242ac1c0002row5_col12\" class=\"data row5 col12\" >253</td>\n",
              "                        <td id=\"T_a1fad9fa_7b8f_11eb_9d6a_0242ac1c0002row5_col13\" class=\"data row5 col13\" >245</td>\n",
              "                        <td id=\"T_a1fad9fa_7b8f_11eb_9d6a_0242ac1c0002row5_col14\" class=\"data row5 col14\" >74</td>\n",
              "                        <td id=\"T_a1fad9fa_7b8f_11eb_9d6a_0242ac1c0002row5_col15\" class=\"data row5 col15\" >0</td>\n",
              "                        <td id=\"T_a1fad9fa_7b8f_11eb_9d6a_0242ac1c0002row5_col16\" class=\"data row5 col16\" >0</td>\n",
              "                        <td id=\"T_a1fad9fa_7b8f_11eb_9d6a_0242ac1c0002row5_col17\" class=\"data row5 col17\" >0</td>\n",
              "            </tr>\n",
              "            <tr>\n",
              "                        <th id=\"T_a1fad9fa_7b8f_11eb_9d6a_0242ac1c0002level0_row6\" class=\"row_heading level0 row6\" >6</th>\n",
              "                        <td id=\"T_a1fad9fa_7b8f_11eb_9d6a_0242ac1c0002row6_col0\" class=\"data row6 col0\" >0</td>\n",
              "                        <td id=\"T_a1fad9fa_7b8f_11eb_9d6a_0242ac1c0002row6_col1\" class=\"data row6 col1\" >0</td>\n",
              "                        <td id=\"T_a1fad9fa_7b8f_11eb_9d6a_0242ac1c0002row6_col2\" class=\"data row6 col2\" >0</td>\n",
              "                        <td id=\"T_a1fad9fa_7b8f_11eb_9d6a_0242ac1c0002row6_col3\" class=\"data row6 col3\" >0</td>\n",
              "                        <td id=\"T_a1fad9fa_7b8f_11eb_9d6a_0242ac1c0002row6_col4\" class=\"data row6 col4\" >0</td>\n",
              "                        <td id=\"T_a1fad9fa_7b8f_11eb_9d6a_0242ac1c0002row6_col5\" class=\"data row6 col5\" >0</td>\n",
              "                        <td id=\"T_a1fad9fa_7b8f_11eb_9d6a_0242ac1c0002row6_col6\" class=\"data row6 col6\" >0</td>\n",
              "                        <td id=\"T_a1fad9fa_7b8f_11eb_9d6a_0242ac1c0002row6_col7\" class=\"data row6 col7\" >0</td>\n",
              "                        <td id=\"T_a1fad9fa_7b8f_11eb_9d6a_0242ac1c0002row6_col8\" class=\"data row6 col8\" >0</td>\n",
              "                        <td id=\"T_a1fad9fa_7b8f_11eb_9d6a_0242ac1c0002row6_col9\" class=\"data row6 col9\" >0</td>\n",
              "                        <td id=\"T_a1fad9fa_7b8f_11eb_9d6a_0242ac1c0002row6_col10\" class=\"data row6 col10\" >249</td>\n",
              "                        <td id=\"T_a1fad9fa_7b8f_11eb_9d6a_0242ac1c0002row6_col11\" class=\"data row6 col11\" >253</td>\n",
              "                        <td id=\"T_a1fad9fa_7b8f_11eb_9d6a_0242ac1c0002row6_col12\" class=\"data row6 col12\" >245</td>\n",
              "                        <td id=\"T_a1fad9fa_7b8f_11eb_9d6a_0242ac1c0002row6_col13\" class=\"data row6 col13\" >126</td>\n",
              "                        <td id=\"T_a1fad9fa_7b8f_11eb_9d6a_0242ac1c0002row6_col14\" class=\"data row6 col14\" >0</td>\n",
              "                        <td id=\"T_a1fad9fa_7b8f_11eb_9d6a_0242ac1c0002row6_col15\" class=\"data row6 col15\" >0</td>\n",
              "                        <td id=\"T_a1fad9fa_7b8f_11eb_9d6a_0242ac1c0002row6_col16\" class=\"data row6 col16\" >0</td>\n",
              "                        <td id=\"T_a1fad9fa_7b8f_11eb_9d6a_0242ac1c0002row6_col17\" class=\"data row6 col17\" >0</td>\n",
              "            </tr>\n",
              "            <tr>\n",
              "                        <th id=\"T_a1fad9fa_7b8f_11eb_9d6a_0242ac1c0002level0_row7\" class=\"row_heading level0 row7\" >7</th>\n",
              "                        <td id=\"T_a1fad9fa_7b8f_11eb_9d6a_0242ac1c0002row7_col0\" class=\"data row7 col0\" >0</td>\n",
              "                        <td id=\"T_a1fad9fa_7b8f_11eb_9d6a_0242ac1c0002row7_col1\" class=\"data row7 col1\" >0</td>\n",
              "                        <td id=\"T_a1fad9fa_7b8f_11eb_9d6a_0242ac1c0002row7_col2\" class=\"data row7 col2\" >0</td>\n",
              "                        <td id=\"T_a1fad9fa_7b8f_11eb_9d6a_0242ac1c0002row7_col3\" class=\"data row7 col3\" >0</td>\n",
              "                        <td id=\"T_a1fad9fa_7b8f_11eb_9d6a_0242ac1c0002row7_col4\" class=\"data row7 col4\" >0</td>\n",
              "                        <td id=\"T_a1fad9fa_7b8f_11eb_9d6a_0242ac1c0002row7_col5\" class=\"data row7 col5\" >0</td>\n",
              "                        <td id=\"T_a1fad9fa_7b8f_11eb_9d6a_0242ac1c0002row7_col6\" class=\"data row7 col6\" >0</td>\n",
              "                        <td id=\"T_a1fad9fa_7b8f_11eb_9d6a_0242ac1c0002row7_col7\" class=\"data row7 col7\" >14</td>\n",
              "                        <td id=\"T_a1fad9fa_7b8f_11eb_9d6a_0242ac1c0002row7_col8\" class=\"data row7 col8\" >101</td>\n",
              "                        <td id=\"T_a1fad9fa_7b8f_11eb_9d6a_0242ac1c0002row7_col9\" class=\"data row7 col9\" >223</td>\n",
              "                        <td id=\"T_a1fad9fa_7b8f_11eb_9d6a_0242ac1c0002row7_col10\" class=\"data row7 col10\" >253</td>\n",
              "                        <td id=\"T_a1fad9fa_7b8f_11eb_9d6a_0242ac1c0002row7_col11\" class=\"data row7 col11\" >248</td>\n",
              "                        <td id=\"T_a1fad9fa_7b8f_11eb_9d6a_0242ac1c0002row7_col12\" class=\"data row7 col12\" >124</td>\n",
              "                        <td id=\"T_a1fad9fa_7b8f_11eb_9d6a_0242ac1c0002row7_col13\" class=\"data row7 col13\" >0</td>\n",
              "                        <td id=\"T_a1fad9fa_7b8f_11eb_9d6a_0242ac1c0002row7_col14\" class=\"data row7 col14\" >0</td>\n",
              "                        <td id=\"T_a1fad9fa_7b8f_11eb_9d6a_0242ac1c0002row7_col15\" class=\"data row7 col15\" >0</td>\n",
              "                        <td id=\"T_a1fad9fa_7b8f_11eb_9d6a_0242ac1c0002row7_col16\" class=\"data row7 col16\" >0</td>\n",
              "                        <td id=\"T_a1fad9fa_7b8f_11eb_9d6a_0242ac1c0002row7_col17\" class=\"data row7 col17\" >0</td>\n",
              "            </tr>\n",
              "            <tr>\n",
              "                        <th id=\"T_a1fad9fa_7b8f_11eb_9d6a_0242ac1c0002level0_row8\" class=\"row_heading level0 row8\" >8</th>\n",
              "                        <td id=\"T_a1fad9fa_7b8f_11eb_9d6a_0242ac1c0002row8_col0\" class=\"data row8 col0\" >0</td>\n",
              "                        <td id=\"T_a1fad9fa_7b8f_11eb_9d6a_0242ac1c0002row8_col1\" class=\"data row8 col1\" >0</td>\n",
              "                        <td id=\"T_a1fad9fa_7b8f_11eb_9d6a_0242ac1c0002row8_col2\" class=\"data row8 col2\" >0</td>\n",
              "                        <td id=\"T_a1fad9fa_7b8f_11eb_9d6a_0242ac1c0002row8_col3\" class=\"data row8 col3\" >0</td>\n",
              "                        <td id=\"T_a1fad9fa_7b8f_11eb_9d6a_0242ac1c0002row8_col4\" class=\"data row8 col4\" >0</td>\n",
              "                        <td id=\"T_a1fad9fa_7b8f_11eb_9d6a_0242ac1c0002row8_col5\" class=\"data row8 col5\" >11</td>\n",
              "                        <td id=\"T_a1fad9fa_7b8f_11eb_9d6a_0242ac1c0002row8_col6\" class=\"data row8 col6\" >166</td>\n",
              "                        <td id=\"T_a1fad9fa_7b8f_11eb_9d6a_0242ac1c0002row8_col7\" class=\"data row8 col7\" >239</td>\n",
              "                        <td id=\"T_a1fad9fa_7b8f_11eb_9d6a_0242ac1c0002row8_col8\" class=\"data row8 col8\" >253</td>\n",
              "                        <td id=\"T_a1fad9fa_7b8f_11eb_9d6a_0242ac1c0002row8_col9\" class=\"data row8 col9\" >253</td>\n",
              "                        <td id=\"T_a1fad9fa_7b8f_11eb_9d6a_0242ac1c0002row8_col10\" class=\"data row8 col10\" >253</td>\n",
              "                        <td id=\"T_a1fad9fa_7b8f_11eb_9d6a_0242ac1c0002row8_col11\" class=\"data row8 col11\" >187</td>\n",
              "                        <td id=\"T_a1fad9fa_7b8f_11eb_9d6a_0242ac1c0002row8_col12\" class=\"data row8 col12\" >30</td>\n",
              "                        <td id=\"T_a1fad9fa_7b8f_11eb_9d6a_0242ac1c0002row8_col13\" class=\"data row8 col13\" >0</td>\n",
              "                        <td id=\"T_a1fad9fa_7b8f_11eb_9d6a_0242ac1c0002row8_col14\" class=\"data row8 col14\" >0</td>\n",
              "                        <td id=\"T_a1fad9fa_7b8f_11eb_9d6a_0242ac1c0002row8_col15\" class=\"data row8 col15\" >0</td>\n",
              "                        <td id=\"T_a1fad9fa_7b8f_11eb_9d6a_0242ac1c0002row8_col16\" class=\"data row8 col16\" >0</td>\n",
              "                        <td id=\"T_a1fad9fa_7b8f_11eb_9d6a_0242ac1c0002row8_col17\" class=\"data row8 col17\" >0</td>\n",
              "            </tr>\n",
              "            <tr>\n",
              "                        <th id=\"T_a1fad9fa_7b8f_11eb_9d6a_0242ac1c0002level0_row9\" class=\"row_heading level0 row9\" >9</th>\n",
              "                        <td id=\"T_a1fad9fa_7b8f_11eb_9d6a_0242ac1c0002row9_col0\" class=\"data row9 col0\" >0</td>\n",
              "                        <td id=\"T_a1fad9fa_7b8f_11eb_9d6a_0242ac1c0002row9_col1\" class=\"data row9 col1\" >0</td>\n",
              "                        <td id=\"T_a1fad9fa_7b8f_11eb_9d6a_0242ac1c0002row9_col2\" class=\"data row9 col2\" >0</td>\n",
              "                        <td id=\"T_a1fad9fa_7b8f_11eb_9d6a_0242ac1c0002row9_col3\" class=\"data row9 col3\" >0</td>\n",
              "                        <td id=\"T_a1fad9fa_7b8f_11eb_9d6a_0242ac1c0002row9_col4\" class=\"data row9 col4\" >0</td>\n",
              "                        <td id=\"T_a1fad9fa_7b8f_11eb_9d6a_0242ac1c0002row9_col5\" class=\"data row9 col5\" >16</td>\n",
              "                        <td id=\"T_a1fad9fa_7b8f_11eb_9d6a_0242ac1c0002row9_col6\" class=\"data row9 col6\" >248</td>\n",
              "                        <td id=\"T_a1fad9fa_7b8f_11eb_9d6a_0242ac1c0002row9_col7\" class=\"data row9 col7\" >250</td>\n",
              "                        <td id=\"T_a1fad9fa_7b8f_11eb_9d6a_0242ac1c0002row9_col8\" class=\"data row9 col8\" >253</td>\n",
              "                        <td id=\"T_a1fad9fa_7b8f_11eb_9d6a_0242ac1c0002row9_col9\" class=\"data row9 col9\" >253</td>\n",
              "                        <td id=\"T_a1fad9fa_7b8f_11eb_9d6a_0242ac1c0002row9_col10\" class=\"data row9 col10\" >253</td>\n",
              "                        <td id=\"T_a1fad9fa_7b8f_11eb_9d6a_0242ac1c0002row9_col11\" class=\"data row9 col11\" >253</td>\n",
              "                        <td id=\"T_a1fad9fa_7b8f_11eb_9d6a_0242ac1c0002row9_col12\" class=\"data row9 col12\" >232</td>\n",
              "                        <td id=\"T_a1fad9fa_7b8f_11eb_9d6a_0242ac1c0002row9_col13\" class=\"data row9 col13\" >213</td>\n",
              "                        <td id=\"T_a1fad9fa_7b8f_11eb_9d6a_0242ac1c0002row9_col14\" class=\"data row9 col14\" >111</td>\n",
              "                        <td id=\"T_a1fad9fa_7b8f_11eb_9d6a_0242ac1c0002row9_col15\" class=\"data row9 col15\" >2</td>\n",
              "                        <td id=\"T_a1fad9fa_7b8f_11eb_9d6a_0242ac1c0002row9_col16\" class=\"data row9 col16\" >0</td>\n",
              "                        <td id=\"T_a1fad9fa_7b8f_11eb_9d6a_0242ac1c0002row9_col17\" class=\"data row9 col17\" >0</td>\n",
              "            </tr>\n",
              "            <tr>\n",
              "                        <th id=\"T_a1fad9fa_7b8f_11eb_9d6a_0242ac1c0002level0_row10\" class=\"row_heading level0 row10\" >10</th>\n",
              "                        <td id=\"T_a1fad9fa_7b8f_11eb_9d6a_0242ac1c0002row10_col0\" class=\"data row10 col0\" >0</td>\n",
              "                        <td id=\"T_a1fad9fa_7b8f_11eb_9d6a_0242ac1c0002row10_col1\" class=\"data row10 col1\" >0</td>\n",
              "                        <td id=\"T_a1fad9fa_7b8f_11eb_9d6a_0242ac1c0002row10_col2\" class=\"data row10 col2\" >0</td>\n",
              "                        <td id=\"T_a1fad9fa_7b8f_11eb_9d6a_0242ac1c0002row10_col3\" class=\"data row10 col3\" >0</td>\n",
              "                        <td id=\"T_a1fad9fa_7b8f_11eb_9d6a_0242ac1c0002row10_col4\" class=\"data row10 col4\" >0</td>\n",
              "                        <td id=\"T_a1fad9fa_7b8f_11eb_9d6a_0242ac1c0002row10_col5\" class=\"data row10 col5\" >0</td>\n",
              "                        <td id=\"T_a1fad9fa_7b8f_11eb_9d6a_0242ac1c0002row10_col6\" class=\"data row10 col6\" >0</td>\n",
              "                        <td id=\"T_a1fad9fa_7b8f_11eb_9d6a_0242ac1c0002row10_col7\" class=\"data row10 col7\" >43</td>\n",
              "                        <td id=\"T_a1fad9fa_7b8f_11eb_9d6a_0242ac1c0002row10_col8\" class=\"data row10 col8\" >98</td>\n",
              "                        <td id=\"T_a1fad9fa_7b8f_11eb_9d6a_0242ac1c0002row10_col9\" class=\"data row10 col9\" >98</td>\n",
              "                        <td id=\"T_a1fad9fa_7b8f_11eb_9d6a_0242ac1c0002row10_col10\" class=\"data row10 col10\" >208</td>\n",
              "                        <td id=\"T_a1fad9fa_7b8f_11eb_9d6a_0242ac1c0002row10_col11\" class=\"data row10 col11\" >253</td>\n",
              "                        <td id=\"T_a1fad9fa_7b8f_11eb_9d6a_0242ac1c0002row10_col12\" class=\"data row10 col12\" >253</td>\n",
              "                        <td id=\"T_a1fad9fa_7b8f_11eb_9d6a_0242ac1c0002row10_col13\" class=\"data row10 col13\" >253</td>\n",
              "                        <td id=\"T_a1fad9fa_7b8f_11eb_9d6a_0242ac1c0002row10_col14\" class=\"data row10 col14\" >253</td>\n",
              "                        <td id=\"T_a1fad9fa_7b8f_11eb_9d6a_0242ac1c0002row10_col15\" class=\"data row10 col15\" >187</td>\n",
              "                        <td id=\"T_a1fad9fa_7b8f_11eb_9d6a_0242ac1c0002row10_col16\" class=\"data row10 col16\" >22</td>\n",
              "                        <td id=\"T_a1fad9fa_7b8f_11eb_9d6a_0242ac1c0002row10_col17\" class=\"data row10 col17\" >0</td>\n",
              "            </tr>\n",
              "    </tbody></table>"
            ],
            "text/plain": [
              "<pandas.io.formats.style.Styler at 0x7f77ce676e10>"
            ]
          },
          "metadata": {
            "tags": []
          },
          "execution_count": 13
        }
      ]
    },
    {
      "cell_type": "code",
      "metadata": {
        "colab": {
          "base_uri": "https://localhost:8080/"
        },
        "id": "uH1nEdcRt107",
        "outputId": "b9feadef-3d38-49f1-8a90-960494ae2000"
      },
      "source": [
        "seven_tensors = [tensor(Image.open(o)) for o in sevens] #convert all sevens to tensors\n",
        "three_tensors = [tensor(Image.open(o)) for o in threes] #convert all threes to tensors\n",
        "len(three_tensors),len(seven_tensors)"
      ],
      "execution_count": 14,
      "outputs": [
        {
          "output_type": "execute_result",
          "data": {
            "text/plain": [
              "(6131, 6265)"
            ]
          },
          "metadata": {
            "tags": []
          },
          "execution_count": 14
        }
      ]
    },
    {
      "cell_type": "code",
      "metadata": {
        "colab": {
          "base_uri": "https://localhost:8080/",
          "height": 102
        },
        "id": "ZBJXCvQZuSPW",
        "outputId": "a2ce23d3-6766-415c-d099-749f78a4f6d9"
      },
      "source": [
        "show_image(three_tensors[1]) #fast.ai command to display a tensor\n",
        "three_tensors[1].shape"
      ],
      "execution_count": 15,
      "outputs": [
        {
          "output_type": "execute_result",
          "data": {
            "text/plain": [
              "torch.Size([28, 28])"
            ]
          },
          "metadata": {
            "tags": []
          },
          "execution_count": 15
        },
        {
          "output_type": "display_data",
          "data": {
            "image/png": "[encoded data removed]",
            "text/plain": [
              "<Figure size 72x72 with 1 Axes>"
            ]
          },
          "metadata": {
            "tags": [],
            "needs_background": "light"
          }
        }
      ]
    },
    {
      "cell_type": "code",
      "metadata": {
        "colab": {
          "base_uri": "https://localhost:8080/"
        },
        "id": "_GT9509NybB9",
        "outputId": "d1c682ab-04a6-46fa-b64b-e33237e9cdb5"
      },
      "source": [
        "# funny note\n",
        "print(type(three_tensors[1])) # python type says its a pytorch library tensor\n",
        "print(three_tensors[1].type()) # type method shows the type of tensor"
      ],
      "execution_count": 16,
      "outputs": [
        {
          "output_type": "stream",
          "text": [
            "<class 'torch.Tensor'>\n",
            "torch.ByteTensor\n"
          ],
          "name": "stdout"
        }
      ]
    },
    {
      "cell_type": "code",
      "metadata": {
        "colab": {
          "base_uri": "https://localhost:8080/"
        },
        "id": "91M8yrXbvAiU",
        "outputId": "79902481-2180-4bd9-dc79-ced5df30a6ef"
      },
      "source": [
        "stacked_sevens = torch.stack(seven_tensors).float()/255\n",
        "stacked_threes = torch.stack(three_tensors).float()/255\n",
        "stacked_threes.shape"
      ],
      "execution_count": 17,
      "outputs": [
        {
          "output_type": "execute_result",
          "data": {
            "text/plain": [
              "torch.Size([6131, 28, 28])"
            ]
          },
          "metadata": {
            "tags": []
          },
          "execution_count": 17
        }
      ]
    },
    {
      "cell_type": "code",
      "metadata": {
        "colab": {
          "base_uri": "https://localhost:8080/"
        },
        "id": "7xo9Cbu2vGUb",
        "outputId": "0402168f-390d-4fcb-fa78-01a0ffed6973"
      },
      "source": [
        "rank = len(stacked_threes.shape)\n",
        "rank"
      ],
      "execution_count": 18,
      "outputs": [
        {
          "output_type": "execute_result",
          "data": {
            "text/plain": [
              "3"
            ]
          },
          "metadata": {
            "tags": []
          },
          "execution_count": 18
        }
      ]
    },
    {
      "cell_type": "code",
      "metadata": {
        "colab": {
          "base_uri": "https://localhost:8080/",
          "height": 85
        },
        "id": "niDfWB9-ve_u",
        "outputId": "f8ed6188-fb41-4730-dce8-ad533d149653"
      },
      "source": [
        "mean3 = stacked_threes.mean(0) # take the mean from the first axis\n",
        "show_image(mean3);"
      ],
      "execution_count": 19,
      "outputs": [
        {
          "output_type": "display_data",
          "data": {
            "image/png": "[encoded data removed]",
            "text/plain": [
              "<Figure size 72x72 with 1 Axes>"
            ]
          },
          "metadata": {
            "tags": [],
            "needs_background": "light"
          }
        }
      ]
    },
    {
      "cell_type": "code",
      "metadata": {
        "colab": {
          "base_uri": "https://localhost:8080/",
          "height": 85
        },
        "id": "_yTARix9w4aV",
        "outputId": "f640b5c7-e1b0-4713-b4e7-01ddc5a06428"
      },
      "source": [
        "mean7 = stacked_sevens.mean(0)\n",
        "show_image(mean7);"
      ],
      "execution_count": 20,
      "outputs": [
        {
          "output_type": "display_data",
          "data": {
            "image/png": "[encoded data removed]",
            "text/plain": [
              "<Figure size 72x72 with 1 Axes>"
            ]
          },
          "metadata": {
            "tags": [],
            "needs_background": "light"
          }
        }
      ]
    },
    {
      "cell_type": "code",
      "metadata": {
        "colab": {
          "base_uri": "https://localhost:8080/",
          "height": 102
        },
        "id": "o8ADKrv8wajm",
        "outputId": "df40777e-91cd-4241-eb67-9d02a278023e"
      },
      "source": [
        "a_3 = stacked_threes[1]\n",
        "show_image(a_3)"
      ],
      "execution_count": 21,
      "outputs": [
        {
          "output_type": "execute_result",
          "data": {
            "text/plain": [
              "<matplotlib.axes._subplots.AxesSubplot at 0x7f77cdf02b90>"
            ]
          },
          "metadata": {
            "tags": []
          },
          "execution_count": 21
        },
        {
          "output_type": "display_data",
          "data": {
            "image/png": "[encoded data removed]",
            "text/plain": [
              "<Figure size 72x72 with 1 Axes>"
            ]
          },
          "metadata": {
            "tags": [],
            "needs_background": "light"
          }
        }
      ]
    },
    {
      "cell_type": "code",
      "metadata": {
        "colab": {
          "base_uri": "https://localhost:8080/"
        },
        "id": "TiuwNASNw6v1",
        "outputId": "d6ca1532-0dc1-4249-afdc-b9a3ab1162f3"
      },
      "source": [
        "dist_3_abs = (a_3 - mean3).abs().mean() # L1 norm\n",
        "dist_3_sqr = ((a_3 - mean3)**2).mean().sqrt() # L2 norm\n",
        "dist_3_abs,dist_3_sqr"
      ],
      "execution_count": 22,
      "outputs": [
        {
          "output_type": "execute_result",
          "data": {
            "text/plain": [
              "(tensor(0.1114), tensor(0.2021))"
            ]
          },
          "metadata": {
            "tags": []
          },
          "execution_count": 22
        }
      ]
    },
    {
      "cell_type": "code",
      "metadata": {
        "colab": {
          "base_uri": "https://localhost:8080/"
        },
        "id": "2s8m_qdzxMYR",
        "outputId": "3d81e373-b1f1-4283-8e8e-2ea665646104"
      },
      "source": [
        "dist_7_abs = (a_3 - mean7).abs().mean()\n",
        "dist_7_sqr = ((a_3 - mean7)**2).mean().sqrt()\n",
        "dist_7_abs,dist_7_sqr"
      ],
      "execution_count": 23,
      "outputs": [
        {
          "output_type": "execute_result",
          "data": {
            "text/plain": [
              "(tensor(0.1586), tensor(0.3021))"
            ]
          },
          "metadata": {
            "tags": []
          },
          "execution_count": 23
        }
      ]
    },
    {
      "cell_type": "markdown",
      "metadata": {
        "id": "lHeK_zbuzXU8"
      },
      "source": [
        "## Computing Metrics Using Broadcasting"
      ]
    },
    {
      "cell_type": "code",
      "metadata": {
        "colab": {
          "base_uri": "https://localhost:8080/"
        },
        "id": "cr3xULC-zwZ0",
        "outputId": "c3cd0e8c-c92e-4a8b-81f9-f01168e939a5"
      },
      "source": [
        "# doing the same before for the validation sets\n",
        "valid_3_tens = torch.stack([tensor(Image.open(o)) \n",
        "                            for o in (path/'valid'/'3').ls()])\n",
        "valid_3_tens = valid_3_tens.float()/255\n",
        "valid_7_tens = torch.stack([tensor(Image.open(o)) \n",
        "                            for o in (path/'valid'/'7').ls()])\n",
        "valid_7_tens = valid_7_tens.float()/255\n",
        "valid_3_tens.shape,valid_7_tens.shape"
      ],
      "execution_count": 24,
      "outputs": [
        {
          "output_type": "execute_result",
          "data": {
            "text/plain": [
              "(torch.Size([1010, 28, 28]), torch.Size([1028, 28, 28]))"
            ]
          },
          "metadata": {
            "tags": []
          },
          "execution_count": 24
        }
      ]
    },
    {
      "cell_type": "code",
      "metadata": {
        "colab": {
          "base_uri": "https://localhost:8080/"
        },
        "id": "nT0vDi3x0bdH",
        "outputId": "c7f16184-9287-4e2c-9220-2d8e1611023c"
      },
      "source": [
        "def mnist_distance(a,b): return (a-b).abs().mean((-1,-2))\n",
        "mnist_distance(a_3, mean3) #process run once"
      ],
      "execution_count": 25,
      "outputs": [
        {
          "output_type": "execute_result",
          "data": {
            "text/plain": [
              "tensor(0.1114)"
            ]
          },
          "metadata": {
            "tags": []
          },
          "execution_count": 25
        }
      ]
    },
    {
      "cell_type": "code",
      "metadata": {
        "colab": {
          "base_uri": "https://localhost:8080/"
        },
        "id": "TGuTaVkv0q9J",
        "outputId": "6bb8056e-a7ca-4f72-d057-9f17335d75e7"
      },
      "source": [
        "# but we have to do the process for the entire valiation set\n",
        "valid_3_dist = mnist_distance(valid_3_tens, mean3)\n",
        "print('valid_3_tens shape:', valid_3_tens.shape)\n",
        "print('mean3 shape:', mean3.shape)\n",
        "valid_3_dist, valid_3_dist.shape\n",
        "# it returned an array of 1010 values due to Broadcasting: when it finds different shapes it acts as if mean3 was copied 1010 times"
      ],
      "execution_count": 26,
      "outputs": [
        {
          "output_type": "stream",
          "text": [
            "valid_3_tens shape: torch.Size([1010, 28, 28])\n",
            "mean3 shape: torch.Size([28, 28])\n"
          ],
          "name": "stdout"
        },
        {
          "output_type": "execute_result",
          "data": {
            "text/plain": [
              "(tensor([0.1163, 0.1378, 0.1467,  ..., 0.1474, 0.1259, 0.1078]),\n",
              " torch.Size([1010]))"
            ]
          },
          "metadata": {
            "tags": []
          },
          "execution_count": 26
        }
      ]
    },
    {
      "cell_type": "code",
      "metadata": {
        "id": "uITXfHMf2vi4"
      },
      "source": [
        "def is_3(x): return mnist_distance(x,mean3) < mnist_distance(x,mean7)"
      ],
      "execution_count": 27,
      "outputs": []
    },
    {
      "cell_type": "code",
      "metadata": {
        "colab": {
          "base_uri": "https://localhost:8080/"
        },
        "id": "px91jMQU22zh",
        "outputId": "ab08ec7b-18a3-41ac-ea60-d53c820908f0"
      },
      "source": [
        "is_3(a_3), is_3(a_3).float()"
      ],
      "execution_count": 28,
      "outputs": [
        {
          "output_type": "execute_result",
          "data": {
            "text/plain": [
              "(tensor(True), tensor(1.))"
            ]
          },
          "metadata": {
            "tags": []
          },
          "execution_count": 28
        }
      ]
    },
    {
      "cell_type": "code",
      "metadata": {
        "colab": {
          "base_uri": "https://localhost:8080/"
        },
        "id": "vJYbf_Ny26HU",
        "outputId": "8d20b7b9-3311-4746-cc78-be6daa66fdd1"
      },
      "source": [
        "# we can broadcast the process into the entire set\n",
        "is_3(valid_3_tens)"
      ],
      "execution_count": 29,
      "outputs": [
        {
          "output_type": "execute_result",
          "data": {
            "text/plain": [
              "tensor([ True,  True, False,  ...,  True,  True,  True])"
            ]
          },
          "metadata": {
            "tags": []
          },
          "execution_count": 29
        }
      ]
    },
    {
      "cell_type": "code",
      "metadata": {
        "colab": {
          "base_uri": "https://localhost:8080/"
        },
        "id": "ubneysKQ3CRo",
        "outputId": "b1254808-8060-4a62-9781-eabde2e459ed"
      },
      "source": [
        "accuracy_3s =      is_3(valid_3_tens).float() .mean()\n",
        "accuracy_7s = (1 - is_3(valid_7_tens).float()).mean()\n",
        "\n",
        "accuracy_3s,accuracy_7s,(accuracy_3s+accuracy_7s)/2"
      ],
      "execution_count": 30,
      "outputs": [
        {
          "output_type": "execute_result",
          "data": {
            "text/plain": [
              "(tensor(0.9168), tensor(0.9854), tensor(0.9511))"
            ]
          },
          "metadata": {
            "tags": []
          },
          "execution_count": 30
        }
      ]
    },
    {
      "cell_type": "markdown",
      "metadata": {
        "id": "LMWIbDBxpX1x"
      },
      "source": [
        "## Stochastic Gradient Descent SGD"
      ]
    },
    {
      "cell_type": "code",
      "metadata": {
        "id": "t-yfv0j7pdeX",
        "colab": {
          "base_uri": "https://localhost:8080/"
        },
        "outputId": "18387292-ac0a-4584-926a-7ea3e4bf0f40"
      },
      "source": [
        "time = torch.arange(0,20).float(); time"
      ],
      "execution_count": 31,
      "outputs": [
        {
          "output_type": "execute_result",
          "data": {
            "text/plain": [
              "tensor([ 0.,  1.,  2.,  3.,  4.,  5.,  6.,  7.,  8.,  9., 10., 11., 12., 13., 14., 15., 16., 17., 18., 19.])"
            ]
          },
          "metadata": {
            "tags": []
          },
          "execution_count": 31
        }
      ]
    },
    {
      "cell_type": "code",
      "metadata": {
        "colab": {
          "base_uri": "https://localhost:8080/",
          "height": 268
        },
        "id": "LnZbJvg8e8Zv",
        "outputId": "07e7429f-f88b-4904-c6d5-0a991a5b460c"
      },
      "source": [
        "speed = torch.randn(20)*3 + 0.75*(time-9.5)**2 + 1\n",
        "plt.scatter(time,speed);"
      ],
      "execution_count": 32,
      "outputs": [
        {
          "output_type": "display_data",
          "data": {
            "image/png": "[encoded data removed]",
            "text/plain": [
              "<Figure size 432x288 with 1 Axes>"
            ]
          },
          "metadata": {
            "tags": [],
            "needs_background": "light"
          }
        }
      ]
    },
    {
      "cell_type": "code",
      "metadata": {
        "id": "qZkzzvTYfLyF"
      },
      "source": [
        "def f(t, params):\n",
        "    a,b,c = params\n",
        "    return a*(t**2) + (b*t) + c"
      ],
      "execution_count": 33,
      "outputs": []
    },
    {
      "cell_type": "code",
      "metadata": {
        "id": "pg2m8TC0fQ7t"
      },
      "source": [
        "def mse(preds, targets): return ((preds-targets)**2).mean().sqrt() # mean squared error"
      ],
      "execution_count": 37,
      "outputs": []
    },
    {
      "cell_type": "markdown",
      "metadata": {
        "id": "f8uvRXN7fy8J"
      },
      "source": [
        "### 7 steps process"
      ]
    },
    {
      "cell_type": "markdown",
      "metadata": {
        "id": "zHn-Q8-sgO9s"
      },
      "source": [
        "1. Initialize the parameters"
      ]
    },
    {
      "cell_type": "code",
      "metadata": {
        "id": "1hdE0yE2fXyQ"
      },
      "source": [
        "params = torch.randn(3).requires_grad_() # initialize the parameters to random values, and tell PyTorch that we want to track their gradients"
      ],
      "execution_count": 38,
      "outputs": []
    }
  ]
}