{
  "nbformat": 4,
  "nbformat_minor": 0,
  "metadata": {
    "colab": {
      "name": "04_mnist_basics.ipynb",
      "provenance": [],
      "collapsed_sections": [],
      "authorship_tag": "ABX9TyNXI14BPMUuH3120N25Tmq5",
      "include_colab_link": true
    },
    "kernelspec": {
      "name": "python3",
      "display_name": "Python 3"
    }
  },
  "cells": [
    {
      "cell_type": "markdown",
      "metadata": {
        "id": "view-in-github",
        "colab_type": "text"
      },
      "source": [
        "<a href=\"https://colab.research.google.com/github/eloigil/fast.ai_playground/blob/main/04_mnist_basics.ipynb\" target=\"_parent\"><img src=\"https://colab.research.google.com/assets/colab-badge.svg\" alt=\"Open In Colab\"/></a>"
      ]
    },
    {
      "cell_type": "code",
      "metadata": {
        "id": "1NYyslslmasF",
        "colab": {
          "base_uri": "https://localhost:8080/"
        },
        "outputId": "d8d8eb96-ddba-4091-a1ed-fd036740dc87"
      },
      "source": [
        "!pip install -Uqq fastbook\n",
        "import fastbook\n",
        "fastbook.setup_book()"
      ],
      "execution_count": 1,
      "outputs": [
        {
          "output_type": "stream",
          "text": [
            "\u001b[K     |████████████████████████████████| 727kB 7.7MB/s \n",
            "\u001b[K     |████████████████████████████████| 194kB 14.0MB/s \n",
            "\u001b[K     |████████████████████████████████| 1.2MB 15.6MB/s \n",
            "\u001b[K     |████████████████████████████████| 51kB 5.9MB/s \n",
            "\u001b[K     |████████████████████████████████| 61kB 5.8MB/s \n",
            "\u001b[K     |████████████████████████████████| 51kB 5.6MB/s \n",
            "\u001b[?25hMounted at /content/gdrive\n"
          ],
          "name": "stdout"
        }
      ]
    },
    {
      "cell_type": "code",
      "metadata": {
        "id": "UkZWlyipobf7"
      },
      "source": [
        "from fastai.vision.all import *\n",
        "from fastbook import *\n",
        "\n",
        "matplotlib.rc('image', cmap='Greys')"
      ],
      "execution_count": 2,
      "outputs": []
    },
    {
      "cell_type": "code",
      "metadata": {
        "colab": {
          "base_uri": "https://localhost:8080/",
          "height": 34
        },
        "id": "rVJM2av6od41",
        "outputId": "865ed820-2d58-481a-9f41-ad4731059da8"
      },
      "source": [
        "path = untar_data(URLs.MNIST_SAMPLE)\n",
        "path"
      ],
      "execution_count": 3,
      "outputs": [
        {
          "output_type": "display_data",
          "data": {
            "text/html": [
              ""
            ],
            "text/plain": [
              "<IPython.core.display.HTML object>"
            ]
          },
          "metadata": {
            "tags": []
          }
        },
        {
          "output_type": "execute_result",
          "data": {
            "text/plain": [
              "Path('/root/.fastai/data/mnist_sample')"
            ]
          },
          "metadata": {
            "tags": []
          },
          "execution_count": 3
        }
      ]
    },
    {
      "cell_type": "code",
      "metadata": {
        "id": "PZvuQVqApKXF"
      },
      "source": [
        "Path.BASE_PATH = path"
      ],
      "execution_count": 4,
      "outputs": []
    },
    {
      "cell_type": "code",
      "metadata": {
        "colab": {
          "base_uri": "https://localhost:8080/"
        },
        "id": "-Xs7JCBapAvi",
        "outputId": "7921791a-735c-451f-af31-a92f52fd11b1"
      },
      "source": [
        "path.ls()"
      ],
      "execution_count": 5,
      "outputs": [
        {
          "output_type": "execute_result",
          "data": {
            "text/plain": [
              "(#3) [Path('train'),Path('valid'),Path('labels.csv')]"
            ]
          },
          "metadata": {
            "tags": []
          },
          "execution_count": 5
        }
      ]
    },
    {
      "cell_type": "code",
      "metadata": {
        "colab": {
          "base_uri": "https://localhost:8080/"
        },
        "id": "26R_RsARpE30",
        "outputId": "63cf4285-2d51-467c-d6cc-95380cbd47a5"
      },
      "source": [
        "(path/'train').ls()"
      ],
      "execution_count": 6,
      "outputs": [
        {
          "output_type": "execute_result",
          "data": {
            "text/plain": [
              "(#2) [Path('train/3'),Path('train/7')]"
            ]
          },
          "metadata": {
            "tags": []
          },
          "execution_count": 6
        }
      ]
    },
    {
      "cell_type": "code",
      "metadata": {
        "id": "FlCGHSUEppQa"
      },
      "source": [
        "threes = (path/'train'/'3').ls().sorted()\n",
        "sevens = (path/'train'/'7').ls().sorted()\n",
        "# print(threes)\n",
        "# print(sevens)"
      ],
      "execution_count": 7,
      "outputs": []
    },
    {
      "cell_type": "code",
      "metadata": {
        "colab": {
          "base_uri": "https://localhost:8080/",
          "height": 45
        },
        "id": "m7JzcZVgp1wZ",
        "outputId": "6835458a-19d8-4058-905f-b43f48b64f0b"
      },
      "source": [
        "im3_path = threes[1]\n",
        "im3 = Image.open(im3_path)\n",
        "im3"
      ],
      "execution_count": 8,
      "outputs": [
        {
          "output_type": "execute_result",
          "data": {
            "image/png": "[encoded data removed]",
            "text/plain": [
              "<PIL.PngImagePlugin.PngImageFile image mode=L size=28x28 at 0x7FDA4B906110>"
            ]
          },
          "metadata": {
            "tags": []
          },
          "execution_count": 8
        }
      ]
    },
    {
      "cell_type": "code",
      "metadata": {
        "colab": {
          "base_uri": "https://localhost:8080/"
        },
        "id": "9UJv1u61qCBy",
        "outputId": "80195d87-5885-4b59-e282-dfbb7988b3b8"
      },
      "source": [
        "type(im3) #PIL is Pynthon Imaging Library"
      ],
      "execution_count": 9,
      "outputs": [
        {
          "output_type": "execute_result",
          "data": {
            "text/plain": [
              "PIL.PngImagePlugin.PngImageFile"
            ]
          },
          "metadata": {
            "tags": []
          },
          "execution_count": 9
        }
      ]
    },
    {
      "cell_type": "code",
      "metadata": {
        "colab": {
          "base_uri": "https://localhost:8080/"
        },
        "id": "uTW8gO15qfmJ",
        "outputId": "78b7cedd-8ef8-4bd4-d837-bb659a5143b9"
      },
      "source": [
        "# Converting it to NumPy array\n",
        "array(im3)[4:10,4:10] # the 4:10 is just selecting a part of the total array"
      ],
      "execution_count": 10,
      "outputs": [
        {
          "output_type": "execute_result",
          "data": {
            "text/plain": [
              "array([[  0,   0,   0,   0,   0,   0],\n",
              "       [  0,   0,   0,   0,   0,  29],\n",
              "       [  0,   0,   0,  48, 166, 224],\n",
              "       [  0,  93, 244, 249, 253, 187],\n",
              "       [  0, 107, 253, 253, 230,  48],\n",
              "       [  0,   3,  20,  20,  15,   0]], dtype=uint8)"
            ]
          },
          "metadata": {
            "tags": []
          },
          "execution_count": 10
        }
      ]
    },
    {
      "cell_type": "code",
      "metadata": {
        "colab": {
          "base_uri": "https://localhost:8080/"
        },
        "id": "apV_n3r0rA6s",
        "outputId": "c9206e5a-e804-45a8-c94d-a263c503fa0c"
      },
      "source": [
        "# Converting it to PyTorch tensor\n",
        "tensor(im3)[4:10,4:10]"
      ],
      "execution_count": 11,
      "outputs": [
        {
          "output_type": "execute_result",
          "data": {
            "text/plain": [
              "tensor([[  0,   0,   0,   0,   0,   0],\n",
              "        [  0,   0,   0,   0,   0,  29],\n",
              "        [  0,   0,   0,  48, 166, 224],\n",
              "        [  0,  93, 244, 249, 253, 187],\n",
              "        [  0, 107, 253, 253, 230,  48],\n",
              "        [  0,   3,  20,  20,  15,   0]], dtype=torch.uint8)"
            ]
          },
          "metadata": {
            "tags": []
          },
          "execution_count": 11
        }
      ]
    },
    {
      "cell_type": "code",
      "metadata": {
        "colab": {
          "base_uri": "https://localhost:8080/",
          "height": 271
        },
        "id": "CRjuOYcqrFxH",
        "outputId": "be998576-93a7-4caa-8c9d-f5b60fcb09f9"
      },
      "source": [
        "im3_t = tensor(im3)\n",
        "df = pd.DataFrame(im3_t[4:15, 4:22]) #pandas dataframe (cause it has background_gradient)\n",
        "df.style.set_properties(**{'font-size': '6pt'}).background_gradient('Greys')"
      ],
      "execution_count": 12,
      "outputs": [
        {
          "output_type": "execute_result",
          "data": {
            "text/html": [
              "<style  type=\"text/css\" >\n",
              "#T_e69b4f80_7d11_11eb_aa3f_0242ac1c0002row0_col0,#T_e69b4f80_7d11_11eb_aa3f_0242ac1c0002row0_col1,#T_e69b4f80_7d11_11eb_aa3f_0242ac1c0002row0_col2,#T_e69b4f80_7d11_11eb_aa3f_0242ac1c0002row0_col3,#T_e69b4f80_7d11_11eb_aa3f_0242ac1c0002row0_col4,#T_e69b4f80_7d11_11eb_aa3f_0242ac1c0002row0_col5,#T_e69b4f80_7d11_11eb_aa3f_0242ac1c0002row0_col6,#T_e69b4f80_7d11_11eb_aa3f_0242ac1c0002row0_col7,#T_e69b4f80_7d11_11eb_aa3f_0242ac1c0002row0_col8,#T_e69b4f80_7d11_11eb_aa3f_0242ac1c0002row0_col9,#T_e69b4f80_7d11_11eb_aa3f_0242ac1c0002row0_col10,#T_e69b4f80_7d11_11eb_aa3f_0242ac1c0002row0_col11,#T_e69b4f80_7d11_11eb_aa3f_0242ac1c0002row0_col12,#T_e69b4f80_7d11_11eb_aa3f_0242ac1c0002row0_col13,#T_e69b4f80_7d11_11eb_aa3f_0242ac1c0002row0_col14,#T_e69b4f80_7d11_11eb_aa3f_0242ac1c0002row0_col15,#T_e69b4f80_7d11_11eb_aa3f_0242ac1c0002row0_col16,#T_e69b4f80_7d11_11eb_aa3f_0242ac1c0002row0_col17,#T_e69b4f80_7d11_11eb_aa3f_0242ac1c0002row1_col0,#T_e69b4f80_7d11_11eb_aa3f_0242ac1c0002row1_col1,#T_e69b4f80_7d11_11eb_aa3f_0242ac1c0002row1_col2,#T_e69b4f80_7d11_11eb_aa3f_0242ac1c0002row1_col3,#T_e69b4f80_7d11_11eb_aa3f_0242ac1c0002row1_col4,#T_e69b4f80_7d11_11eb_aa3f_0242ac1c0002row1_col15,#T_e69b4f80_7d11_11eb_aa3f_0242ac1c0002row1_col16,#T_e69b4f80_7d11_11eb_aa3f_0242ac1c0002row1_col17,#T_e69b4f80_7d11_11eb_aa3f_0242ac1c0002row2_col0,#T_e69b4f80_7d11_11eb_aa3f_0242ac1c0002row2_col1,#T_e69b4f80_7d11_11eb_aa3f_0242ac1c0002row2_col2,#T_e69b4f80_7d11_11eb_aa3f_0242ac1c0002row2_col15,#T_e69b4f80_7d11_11eb_aa3f_0242ac1c0002row2_col16,#T_e69b4f80_7d11_11eb_aa3f_0242ac1c0002row2_col17,#T_e69b4f80_7d11_11eb_aa3f_0242ac1c0002row3_col0,#T_e69b4f80_7d11_11eb_aa3f_0242ac1c0002row3_col15,#T_e69b4f80_7d11_11eb_aa3f_0242ac1c0002row3_col16,#T_e69b4f80_7d11_11eb_aa3f_0242ac1c0002row3_col17,#T_e69b4f80_7d11_11eb_aa3f_0242ac1c0002row4_col0,#T_e69b4f80_7d11_11eb_aa3f_0242ac1c0002row4_col6,#T_e69b4f80_7d11_11eb_aa3f_0242ac1c0002row4_col7,#T_e69b4f80_7d11_11eb_aa3f_0242ac1c0002row4_col8,#T_e69b4f80_7d11_11eb_aa3f_0242ac1c0002row4_col9,#T_e69b4f80_7d11_11eb_aa3f_0242ac1c0002row4_col10,#T_e69b4f80_7d11_11eb_aa3f_0242ac1c0002row4_col15,#T_e69b4f80_7d11_11eb_aa3f_0242ac1c0002row4_col16,#T_e69b4f80_7d11_11eb_aa3f_0242ac1c0002row4_col17,#T_e69b4f80_7d11_11eb_aa3f_0242ac1c0002row5_col0,#T_e69b4f80_7d11_11eb_aa3f_0242ac1c0002row5_col5,#T_e69b4f80_7d11_11eb_aa3f_0242ac1c0002row5_col6,#T_e69b4f80_7d11_11eb_aa3f_0242ac1c0002row5_col7,#T_e69b4f80_7d11_11eb_aa3f_0242ac1c0002row5_col8,#T_e69b4f80_7d11_11eb_aa3f_0242ac1c0002row5_col9,#T_e69b4f80_7d11_11eb_aa3f_0242ac1c0002row5_col15,#T_e69b4f80_7d11_11eb_aa3f_0242ac1c0002row5_col16,#T_e69b4f80_7d11_11eb_aa3f_0242ac1c0002row5_col17,#T_e69b4f80_7d11_11eb_aa3f_0242ac1c0002row6_col0,#T_e69b4f80_7d11_11eb_aa3f_0242ac1c0002row6_col1,#T_e69b4f80_7d11_11eb_aa3f_0242ac1c0002row6_col2,#T_e69b4f80_7d11_11eb_aa3f_0242ac1c0002row6_col3,#T_e69b4f80_7d11_11eb_aa3f_0242ac1c0002row6_col4,#T_e69b4f80_7d11_11eb_aa3f_0242ac1c0002row6_col5,#T_e69b4f80_7d11_11eb_aa3f_0242ac1c0002row6_col6,#T_e69b4f80_7d11_11eb_aa3f_0242ac1c0002row6_col7,#T_e69b4f80_7d11_11eb_aa3f_0242ac1c0002row6_col8,#T_e69b4f80_7d11_11eb_aa3f_0242ac1c0002row6_col9,#T_e69b4f80_7d11_11eb_aa3f_0242ac1c0002row6_col14,#T_e69b4f80_7d11_11eb_aa3f_0242ac1c0002row6_col15,#T_e69b4f80_7d11_11eb_aa3f_0242ac1c0002row6_col16,#T_e69b4f80_7d11_11eb_aa3f_0242ac1c0002row6_col17,#T_e69b4f80_7d11_11eb_aa3f_0242ac1c0002row7_col0,#T_e69b4f80_7d11_11eb_aa3f_0242ac1c0002row7_col1,#T_e69b4f80_7d11_11eb_aa3f_0242ac1c0002row7_col2,#T_e69b4f80_7d11_11eb_aa3f_0242ac1c0002row7_col3,#T_e69b4f80_7d11_11eb_aa3f_0242ac1c0002row7_col4,#T_e69b4f80_7d11_11eb_aa3f_0242ac1c0002row7_col5,#T_e69b4f80_7d11_11eb_aa3f_0242ac1c0002row7_col6,#T_e69b4f80_7d11_11eb_aa3f_0242ac1c0002row7_col13,#T_e69b4f80_7d11_11eb_aa3f_0242ac1c0002row7_col14,#T_e69b4f80_7d11_11eb_aa3f_0242ac1c0002row7_col15,#T_e69b4f80_7d11_11eb_aa3f_0242ac1c0002row7_col16,#T_e69b4f80_7d11_11eb_aa3f_0242ac1c0002row7_col17,#T_e69b4f80_7d11_11eb_aa3f_0242ac1c0002row8_col0,#T_e69b4f80_7d11_11eb_aa3f_0242ac1c0002row8_col1,#T_e69b4f80_7d11_11eb_aa3f_0242ac1c0002row8_col2,#T_e69b4f80_7d11_11eb_aa3f_0242ac1c0002row8_col3,#T_e69b4f80_7d11_11eb_aa3f_0242ac1c0002row8_col4,#T_e69b4f80_7d11_11eb_aa3f_0242ac1c0002row8_col13,#T_e69b4f80_7d11_11eb_aa3f_0242ac1c0002row8_col14,#T_e69b4f80_7d11_11eb_aa3f_0242ac1c0002row8_col15,#T_e69b4f80_7d11_11eb_aa3f_0242ac1c0002row8_col16,#T_e69b4f80_7d11_11eb_aa3f_0242ac1c0002row8_col17,#T_e69b4f80_7d11_11eb_aa3f_0242ac1c0002row9_col0,#T_e69b4f80_7d11_11eb_aa3f_0242ac1c0002row9_col1,#T_e69b4f80_7d11_11eb_aa3f_0242ac1c0002row9_col2,#T_e69b4f80_7d11_11eb_aa3f_0242ac1c0002row9_col3,#T_e69b4f80_7d11_11eb_aa3f_0242ac1c0002row9_col4,#T_e69b4f80_7d11_11eb_aa3f_0242ac1c0002row9_col16,#T_e69b4f80_7d11_11eb_aa3f_0242ac1c0002row9_col17,#T_e69b4f80_7d11_11eb_aa3f_0242ac1c0002row10_col0,#T_e69b4f80_7d11_11eb_aa3f_0242ac1c0002row10_col1,#T_e69b4f80_7d11_11eb_aa3f_0242ac1c0002row10_col2,#T_e69b4f80_7d11_11eb_aa3f_0242ac1c0002row10_col3,#T_e69b4f80_7d11_11eb_aa3f_0242ac1c0002row10_col4,#T_e69b4f80_7d11_11eb_aa3f_0242ac1c0002row10_col5,#T_e69b4f80_7d11_11eb_aa3f_0242ac1c0002row10_col6,#T_e69b4f80_7d11_11eb_aa3f_0242ac1c0002row10_col17{\n",
              "            font-size:  6pt;\n",
              "            background-color:  #ffffff;\n",
              "            color:  #000000;\n",
              "        }#T_e69b4f80_7d11_11eb_aa3f_0242ac1c0002row1_col5{\n",
              "            font-size:  6pt;\n",
              "            background-color:  #efefef;\n",
              "            color:  #000000;\n",
              "        }#T_e69b4f80_7d11_11eb_aa3f_0242ac1c0002row1_col6,#T_e69b4f80_7d11_11eb_aa3f_0242ac1c0002row1_col13{\n",
              "            font-size:  6pt;\n",
              "            background-color:  #7c7c7c;\n",
              "            color:  #000000;\n",
              "        }#T_e69b4f80_7d11_11eb_aa3f_0242ac1c0002row1_col7{\n",
              "            font-size:  6pt;\n",
              "            background-color:  #4a4a4a;\n",
              "            color:  #f1f1f1;\n",
              "        }#T_e69b4f80_7d11_11eb_aa3f_0242ac1c0002row1_col8,#T_e69b4f80_7d11_11eb_aa3f_0242ac1c0002row1_col9,#T_e69b4f80_7d11_11eb_aa3f_0242ac1c0002row1_col10,#T_e69b4f80_7d11_11eb_aa3f_0242ac1c0002row2_col5,#T_e69b4f80_7d11_11eb_aa3f_0242ac1c0002row2_col6,#T_e69b4f80_7d11_11eb_aa3f_0242ac1c0002row2_col7,#T_e69b4f80_7d11_11eb_aa3f_0242ac1c0002row2_col11,#T_e69b4f80_7d11_11eb_aa3f_0242ac1c0002row2_col12,#T_e69b4f80_7d11_11eb_aa3f_0242ac1c0002row2_col13,#T_e69b4f80_7d11_11eb_aa3f_0242ac1c0002row3_col4,#T_e69b4f80_7d11_11eb_aa3f_0242ac1c0002row3_col12,#T_e69b4f80_7d11_11eb_aa3f_0242ac1c0002row3_col13,#T_e69b4f80_7d11_11eb_aa3f_0242ac1c0002row4_col1,#T_e69b4f80_7d11_11eb_aa3f_0242ac1c0002row4_col2,#T_e69b4f80_7d11_11eb_aa3f_0242ac1c0002row4_col3,#T_e69b4f80_7d11_11eb_aa3f_0242ac1c0002row4_col12,#T_e69b4f80_7d11_11eb_aa3f_0242ac1c0002row4_col13,#T_e69b4f80_7d11_11eb_aa3f_0242ac1c0002row5_col12,#T_e69b4f80_7d11_11eb_aa3f_0242ac1c0002row6_col11,#T_e69b4f80_7d11_11eb_aa3f_0242ac1c0002row9_col11,#T_e69b4f80_7d11_11eb_aa3f_0242ac1c0002row10_col11,#T_e69b4f80_7d11_11eb_aa3f_0242ac1c0002row10_col12,#T_e69b4f80_7d11_11eb_aa3f_0242ac1c0002row10_col13,#T_e69b4f80_7d11_11eb_aa3f_0242ac1c0002row10_col14,#T_e69b4f80_7d11_11eb_aa3f_0242ac1c0002row10_col15,#T_e69b4f80_7d11_11eb_aa3f_0242ac1c0002row10_col16{\n",
              "            font-size:  6pt;\n",
              "            background-color:  #000000;\n",
              "            color:  #f1f1f1;\n",
              "        }#T_e69b4f80_7d11_11eb_aa3f_0242ac1c0002row1_col11{\n",
              "            font-size:  6pt;\n",
              "            background-color:  #606060;\n",
              "            color:  #f1f1f1;\n",
              "        }#T_e69b4f80_7d11_11eb_aa3f_0242ac1c0002row1_col12{\n",
              "            font-size:  6pt;\n",
              "            background-color:  #4d4d4d;\n",
              "            color:  #f1f1f1;\n",
              "        }#T_e69b4f80_7d11_11eb_aa3f_0242ac1c0002row1_col14{\n",
              "            font-size:  6pt;\n",
              "            background-color:  #bbbbbb;\n",
              "            color:  #000000;\n",
              "        }#T_e69b4f80_7d11_11eb_aa3f_0242ac1c0002row2_col3{\n",
              "            font-size:  6pt;\n",
              "            background-color:  #e4e4e4;\n",
              "            color:  #000000;\n",
              "        }#T_e69b4f80_7d11_11eb_aa3f_0242ac1c0002row2_col4,#T_e69b4f80_7d11_11eb_aa3f_0242ac1c0002row8_col6{\n",
              "            font-size:  6pt;\n",
              "            background-color:  #6b6b6b;\n",
              "            color:  #000000;\n",
              "        }#T_e69b4f80_7d11_11eb_aa3f_0242ac1c0002row2_col8,#T_e69b4f80_7d11_11eb_aa3f_0242ac1c0002row2_col14,#T_e69b4f80_7d11_11eb_aa3f_0242ac1c0002row3_col14{\n",
              "            font-size:  6pt;\n",
              "            background-color:  #171717;\n",
              "            color:  #f1f1f1;\n",
              "        }#T_e69b4f80_7d11_11eb_aa3f_0242ac1c0002row2_col9,#T_e69b4f80_7d11_11eb_aa3f_0242ac1c0002row3_col11{\n",
              "            font-size:  6pt;\n",
              "            background-color:  #4b4b4b;\n",
              "            color:  #f1f1f1;\n",
              "        }#T_e69b4f80_7d11_11eb_aa3f_0242ac1c0002row2_col10,#T_e69b4f80_7d11_11eb_aa3f_0242ac1c0002row7_col10,#T_e69b4f80_7d11_11eb_aa3f_0242ac1c0002row8_col8,#T_e69b4f80_7d11_11eb_aa3f_0242ac1c0002row8_col10,#T_e69b4f80_7d11_11eb_aa3f_0242ac1c0002row9_col8,#T_e69b4f80_7d11_11eb_aa3f_0242ac1c0002row9_col10{\n",
              "            font-size:  6pt;\n",
              "            background-color:  #010101;\n",
              "            color:  #f1f1f1;\n",
              "        }#T_e69b4f80_7d11_11eb_aa3f_0242ac1c0002row3_col1{\n",
              "            font-size:  6pt;\n",
              "            background-color:  #272727;\n",
              "            color:  #f1f1f1;\n",
              "        }#T_e69b4f80_7d11_11eb_aa3f_0242ac1c0002row3_col2{\n",
              "            font-size:  6pt;\n",
              "            background-color:  #0a0a0a;\n",
              "            color:  #f1f1f1;\n",
              "        }#T_e69b4f80_7d11_11eb_aa3f_0242ac1c0002row3_col3{\n",
              "            font-size:  6pt;\n",
              "            background-color:  #050505;\n",
              "            color:  #f1f1f1;\n",
              "        }#T_e69b4f80_7d11_11eb_aa3f_0242ac1c0002row3_col5{\n",
              "            font-size:  6pt;\n",
              "            background-color:  #333333;\n",
              "            color:  #f1f1f1;\n",
              "        }#T_e69b4f80_7d11_11eb_aa3f_0242ac1c0002row3_col6{\n",
              "            font-size:  6pt;\n",
              "            background-color:  #e6e6e6;\n",
              "            color:  #000000;\n",
              "        }#T_e69b4f80_7d11_11eb_aa3f_0242ac1c0002row3_col7,#T_e69b4f80_7d11_11eb_aa3f_0242ac1c0002row3_col10{\n",
              "            font-size:  6pt;\n",
              "            background-color:  #fafafa;\n",
              "            color:  #000000;\n",
              "        }#T_e69b4f80_7d11_11eb_aa3f_0242ac1c0002row3_col8{\n",
              "            font-size:  6pt;\n",
              "            background-color:  #fbfbfb;\n",
              "            color:  #000000;\n",
              "        }#T_e69b4f80_7d11_11eb_aa3f_0242ac1c0002row3_col9{\n",
              "            font-size:  6pt;\n",
              "            background-color:  #fdfdfd;\n",
              "            color:  #000000;\n",
              "        }#T_e69b4f80_7d11_11eb_aa3f_0242ac1c0002row4_col4{\n",
              "            font-size:  6pt;\n",
              "            background-color:  #1b1b1b;\n",
              "            color:  #f1f1f1;\n",
              "        }#T_e69b4f80_7d11_11eb_aa3f_0242ac1c0002row4_col5{\n",
              "            font-size:  6pt;\n",
              "            background-color:  #e0e0e0;\n",
              "            color:  #000000;\n",
              "        }#T_e69b4f80_7d11_11eb_aa3f_0242ac1c0002row4_col11{\n",
              "            font-size:  6pt;\n",
              "            background-color:  #4e4e4e;\n",
              "            color:  #f1f1f1;\n",
              "        }#T_e69b4f80_7d11_11eb_aa3f_0242ac1c0002row4_col14{\n",
              "            font-size:  6pt;\n",
              "            background-color:  #767676;\n",
              "            color:  #000000;\n",
              "        }#T_e69b4f80_7d11_11eb_aa3f_0242ac1c0002row5_col1{\n",
              "            font-size:  6pt;\n",
              "            background-color:  #fcfcfc;\n",
              "            color:  #000000;\n",
              "        }#T_e69b4f80_7d11_11eb_aa3f_0242ac1c0002row5_col2,#T_e69b4f80_7d11_11eb_aa3f_0242ac1c0002row5_col3{\n",
              "            font-size:  6pt;\n",
              "            background-color:  #f6f6f6;\n",
              "            color:  #000000;\n",
              "        }#T_e69b4f80_7d11_11eb_aa3f_0242ac1c0002row5_col4,#T_e69b4f80_7d11_11eb_aa3f_0242ac1c0002row7_col7{\n",
              "            font-size:  6pt;\n",
              "            background-color:  #f8f8f8;\n",
              "            color:  #000000;\n",
              "        }#T_e69b4f80_7d11_11eb_aa3f_0242ac1c0002row5_col10,#T_e69b4f80_7d11_11eb_aa3f_0242ac1c0002row10_col7{\n",
              "            font-size:  6pt;\n",
              "            background-color:  #e8e8e8;\n",
              "            color:  #000000;\n",
              "        }#T_e69b4f80_7d11_11eb_aa3f_0242ac1c0002row5_col11{\n",
              "            font-size:  6pt;\n",
              "            background-color:  #222222;\n",
              "            color:  #f1f1f1;\n",
              "        }#T_e69b4f80_7d11_11eb_aa3f_0242ac1c0002row5_col13,#T_e69b4f80_7d11_11eb_aa3f_0242ac1c0002row6_col12{\n",
              "            font-size:  6pt;\n",
              "            background-color:  #090909;\n",
              "            color:  #f1f1f1;\n",
              "        }#T_e69b4f80_7d11_11eb_aa3f_0242ac1c0002row5_col14{\n",
              "            font-size:  6pt;\n",
              "            background-color:  #d0d0d0;\n",
              "            color:  #000000;\n",
              "        }#T_e69b4f80_7d11_11eb_aa3f_0242ac1c0002row6_col10,#T_e69b4f80_7d11_11eb_aa3f_0242ac1c0002row7_col11,#T_e69b4f80_7d11_11eb_aa3f_0242ac1c0002row9_col6{\n",
              "            font-size:  6pt;\n",
              "            background-color:  #060606;\n",
              "            color:  #f1f1f1;\n",
              "        }#T_e69b4f80_7d11_11eb_aa3f_0242ac1c0002row6_col13{\n",
              "            font-size:  6pt;\n",
              "            background-color:  #979797;\n",
              "            color:  #000000;\n",
              "        }#T_e69b4f80_7d11_11eb_aa3f_0242ac1c0002row7_col8{\n",
              "            font-size:  6pt;\n",
              "            background-color:  #b6b6b6;\n",
              "            color:  #000000;\n",
              "        }#T_e69b4f80_7d11_11eb_aa3f_0242ac1c0002row7_col9{\n",
              "            font-size:  6pt;\n",
              "            background-color:  #252525;\n",
              "            color:  #f1f1f1;\n",
              "        }#T_e69b4f80_7d11_11eb_aa3f_0242ac1c0002row7_col12{\n",
              "            font-size:  6pt;\n",
              "            background-color:  #999999;\n",
              "            color:  #000000;\n",
              "        }#T_e69b4f80_7d11_11eb_aa3f_0242ac1c0002row8_col5{\n",
              "            font-size:  6pt;\n",
              "            background-color:  #f9f9f9;\n",
              "            color:  #000000;\n",
              "        }#T_e69b4f80_7d11_11eb_aa3f_0242ac1c0002row8_col7{\n",
              "            font-size:  6pt;\n",
              "            background-color:  #101010;\n",
              "            color:  #f1f1f1;\n",
              "        }#T_e69b4f80_7d11_11eb_aa3f_0242ac1c0002row8_col9,#T_e69b4f80_7d11_11eb_aa3f_0242ac1c0002row9_col9{\n",
              "            font-size:  6pt;\n",
              "            background-color:  #020202;\n",
              "            color:  #f1f1f1;\n",
              "        }#T_e69b4f80_7d11_11eb_aa3f_0242ac1c0002row8_col11{\n",
              "            font-size:  6pt;\n",
              "            background-color:  #545454;\n",
              "            color:  #f1f1f1;\n",
              "        }#T_e69b4f80_7d11_11eb_aa3f_0242ac1c0002row8_col12{\n",
              "            font-size:  6pt;\n",
              "            background-color:  #f1f1f1;\n",
              "            color:  #000000;\n",
              "        }#T_e69b4f80_7d11_11eb_aa3f_0242ac1c0002row9_col5{\n",
              "            font-size:  6pt;\n",
              "            background-color:  #f7f7f7;\n",
              "            color:  #000000;\n",
              "        }#T_e69b4f80_7d11_11eb_aa3f_0242ac1c0002row9_col7{\n",
              "            font-size:  6pt;\n",
              "            background-color:  #030303;\n",
              "            color:  #f1f1f1;\n",
              "        }#T_e69b4f80_7d11_11eb_aa3f_0242ac1c0002row9_col12{\n",
              "            font-size:  6pt;\n",
              "            background-color:  #181818;\n",
              "            color:  #f1f1f1;\n",
              "        }#T_e69b4f80_7d11_11eb_aa3f_0242ac1c0002row9_col13{\n",
              "            font-size:  6pt;\n",
              "            background-color:  #303030;\n",
              "            color:  #f1f1f1;\n",
              "        }#T_e69b4f80_7d11_11eb_aa3f_0242ac1c0002row9_col14{\n",
              "            font-size:  6pt;\n",
              "            background-color:  #a9a9a9;\n",
              "            color:  #000000;\n",
              "        }#T_e69b4f80_7d11_11eb_aa3f_0242ac1c0002row9_col15{\n",
              "            font-size:  6pt;\n",
              "            background-color:  #fefefe;\n",
              "            color:  #000000;\n",
              "        }#T_e69b4f80_7d11_11eb_aa3f_0242ac1c0002row10_col8,#T_e69b4f80_7d11_11eb_aa3f_0242ac1c0002row10_col9{\n",
              "            font-size:  6pt;\n",
              "            background-color:  #bababa;\n",
              "            color:  #000000;\n",
              "        }#T_e69b4f80_7d11_11eb_aa3f_0242ac1c0002row10_col10{\n",
              "            font-size:  6pt;\n",
              "            background-color:  #393939;\n",
              "            color:  #f1f1f1;\n",
              "        }</style><table id=\"T_e69b4f80_7d11_11eb_aa3f_0242ac1c0002\" ><thead>    <tr>        <th class=\"blank level0\" ></th>        <th class=\"col_heading level0 col0\" >0</th>        <th class=\"col_heading level0 col1\" >1</th>        <th class=\"col_heading level0 col2\" >2</th>        <th class=\"col_heading level0 col3\" >3</th>        <th class=\"col_heading level0 col4\" >4</th>        <th class=\"col_heading level0 col5\" >5</th>        <th class=\"col_heading level0 col6\" >6</th>        <th class=\"col_heading level0 col7\" >7</th>        <th class=\"col_heading level0 col8\" >8</th>        <th class=\"col_heading level0 col9\" >9</th>        <th class=\"col_heading level0 col10\" >10</th>        <th class=\"col_heading level0 col11\" >11</th>        <th class=\"col_heading level0 col12\" >12</th>        <th class=\"col_heading level0 col13\" >13</th>        <th class=\"col_heading level0 col14\" >14</th>        <th class=\"col_heading level0 col15\" >15</th>        <th class=\"col_heading level0 col16\" >16</th>        <th class=\"col_heading level0 col17\" >17</th>    </tr></thead><tbody>\n",
              "                <tr>\n",
              "                        <th id=\"T_e69b4f80_7d11_11eb_aa3f_0242ac1c0002level0_row0\" class=\"row_heading level0 row0\" >0</th>\n",
              "                        <td id=\"T_e69b4f80_7d11_11eb_aa3f_0242ac1c0002row0_col0\" class=\"data row0 col0\" >0</td>\n",
              "                        <td id=\"T_e69b4f80_7d11_11eb_aa3f_0242ac1c0002row0_col1\" class=\"data row0 col1\" >0</td>\n",
              "                        <td id=\"T_e69b4f80_7d11_11eb_aa3f_0242ac1c0002row0_col2\" class=\"data row0 col2\" >0</td>\n",
              "                        <td id=\"T_e69b4f80_7d11_11eb_aa3f_0242ac1c0002row0_col3\" class=\"data row0 col3\" >0</td>\n",
              "                        <td id=\"T_e69b4f80_7d11_11eb_aa3f_0242ac1c0002row0_col4\" class=\"data row0 col4\" >0</td>\n",
              "                        <td id=\"T_e69b4f80_7d11_11eb_aa3f_0242ac1c0002row0_col5\" class=\"data row0 col5\" >0</td>\n",
              "                        <td id=\"T_e69b4f80_7d11_11eb_aa3f_0242ac1c0002row0_col6\" class=\"data row0 col6\" >0</td>\n",
              "                        <td id=\"T_e69b4f80_7d11_11eb_aa3f_0242ac1c0002row0_col7\" class=\"data row0 col7\" >0</td>\n",
              "                        <td id=\"T_e69b4f80_7d11_11eb_aa3f_0242ac1c0002row0_col8\" class=\"data row0 col8\" >0</td>\n",
              "                        <td id=\"T_e69b4f80_7d11_11eb_aa3f_0242ac1c0002row0_col9\" class=\"data row0 col9\" >0</td>\n",
              "                        <td id=\"T_e69b4f80_7d11_11eb_aa3f_0242ac1c0002row0_col10\" class=\"data row0 col10\" >0</td>\n",
              "                        <td id=\"T_e69b4f80_7d11_11eb_aa3f_0242ac1c0002row0_col11\" class=\"data row0 col11\" >0</td>\n",
              "                        <td id=\"T_e69b4f80_7d11_11eb_aa3f_0242ac1c0002row0_col12\" class=\"data row0 col12\" >0</td>\n",
              "                        <td id=\"T_e69b4f80_7d11_11eb_aa3f_0242ac1c0002row0_col13\" class=\"data row0 col13\" >0</td>\n",
              "                        <td id=\"T_e69b4f80_7d11_11eb_aa3f_0242ac1c0002row0_col14\" class=\"data row0 col14\" >0</td>\n",
              "                        <td id=\"T_e69b4f80_7d11_11eb_aa3f_0242ac1c0002row0_col15\" class=\"data row0 col15\" >0</td>\n",
              "                        <td id=\"T_e69b4f80_7d11_11eb_aa3f_0242ac1c0002row0_col16\" class=\"data row0 col16\" >0</td>\n",
              "                        <td id=\"T_e69b4f80_7d11_11eb_aa3f_0242ac1c0002row0_col17\" class=\"data row0 col17\" >0</td>\n",
              "            </tr>\n",
              "            <tr>\n",
              "                        <th id=\"T_e69b4f80_7d11_11eb_aa3f_0242ac1c0002level0_row1\" class=\"row_heading level0 row1\" >1</th>\n",
              "                        <td id=\"T_e69b4f80_7d11_11eb_aa3f_0242ac1c0002row1_col0\" class=\"data row1 col0\" >0</td>\n",
              "                        <td id=\"T_e69b4f80_7d11_11eb_aa3f_0242ac1c0002row1_col1\" class=\"data row1 col1\" >0</td>\n",
              "                        <td id=\"T_e69b4f80_7d11_11eb_aa3f_0242ac1c0002row1_col2\" class=\"data row1 col2\" >0</td>\n",
              "                        <td id=\"T_e69b4f80_7d11_11eb_aa3f_0242ac1c0002row1_col3\" class=\"data row1 col3\" >0</td>\n",
              "                        <td id=\"T_e69b4f80_7d11_11eb_aa3f_0242ac1c0002row1_col4\" class=\"data row1 col4\" >0</td>\n",
              "                        <td id=\"T_e69b4f80_7d11_11eb_aa3f_0242ac1c0002row1_col5\" class=\"data row1 col5\" >29</td>\n",
              "                        <td id=\"T_e69b4f80_7d11_11eb_aa3f_0242ac1c0002row1_col6\" class=\"data row1 col6\" >150</td>\n",
              "                        <td id=\"T_e69b4f80_7d11_11eb_aa3f_0242ac1c0002row1_col7\" class=\"data row1 col7\" >195</td>\n",
              "                        <td id=\"T_e69b4f80_7d11_11eb_aa3f_0242ac1c0002row1_col8\" class=\"data row1 col8\" >254</td>\n",
              "                        <td id=\"T_e69b4f80_7d11_11eb_aa3f_0242ac1c0002row1_col9\" class=\"data row1 col9\" >255</td>\n",
              "                        <td id=\"T_e69b4f80_7d11_11eb_aa3f_0242ac1c0002row1_col10\" class=\"data row1 col10\" >254</td>\n",
              "                        <td id=\"T_e69b4f80_7d11_11eb_aa3f_0242ac1c0002row1_col11\" class=\"data row1 col11\" >176</td>\n",
              "                        <td id=\"T_e69b4f80_7d11_11eb_aa3f_0242ac1c0002row1_col12\" class=\"data row1 col12\" >193</td>\n",
              "                        <td id=\"T_e69b4f80_7d11_11eb_aa3f_0242ac1c0002row1_col13\" class=\"data row1 col13\" >150</td>\n",
              "                        <td id=\"T_e69b4f80_7d11_11eb_aa3f_0242ac1c0002row1_col14\" class=\"data row1 col14\" >96</td>\n",
              "                        <td id=\"T_e69b4f80_7d11_11eb_aa3f_0242ac1c0002row1_col15\" class=\"data row1 col15\" >0</td>\n",
              "                        <td id=\"T_e69b4f80_7d11_11eb_aa3f_0242ac1c0002row1_col16\" class=\"data row1 col16\" >0</td>\n",
              "                        <td id=\"T_e69b4f80_7d11_11eb_aa3f_0242ac1c0002row1_col17\" class=\"data row1 col17\" >0</td>\n",
              "            </tr>\n",
              "            <tr>\n",
              "                        <th id=\"T_e69b4f80_7d11_11eb_aa3f_0242ac1c0002level0_row2\" class=\"row_heading level0 row2\" >2</th>\n",
              "                        <td id=\"T_e69b4f80_7d11_11eb_aa3f_0242ac1c0002row2_col0\" class=\"data row2 col0\" >0</td>\n",
              "                        <td id=\"T_e69b4f80_7d11_11eb_aa3f_0242ac1c0002row2_col1\" class=\"data row2 col1\" >0</td>\n",
              "                        <td id=\"T_e69b4f80_7d11_11eb_aa3f_0242ac1c0002row2_col2\" class=\"data row2 col2\" >0</td>\n",
              "                        <td id=\"T_e69b4f80_7d11_11eb_aa3f_0242ac1c0002row2_col3\" class=\"data row2 col3\" >48</td>\n",
              "                        <td id=\"T_e69b4f80_7d11_11eb_aa3f_0242ac1c0002row2_col4\" class=\"data row2 col4\" >166</td>\n",
              "                        <td id=\"T_e69b4f80_7d11_11eb_aa3f_0242ac1c0002row2_col5\" class=\"data row2 col5\" >224</td>\n",
              "                        <td id=\"T_e69b4f80_7d11_11eb_aa3f_0242ac1c0002row2_col6\" class=\"data row2 col6\" >253</td>\n",
              "                        <td id=\"T_e69b4f80_7d11_11eb_aa3f_0242ac1c0002row2_col7\" class=\"data row2 col7\" >253</td>\n",
              "                        <td id=\"T_e69b4f80_7d11_11eb_aa3f_0242ac1c0002row2_col8\" class=\"data row2 col8\" >234</td>\n",
              "                        <td id=\"T_e69b4f80_7d11_11eb_aa3f_0242ac1c0002row2_col9\" class=\"data row2 col9\" >196</td>\n",
              "                        <td id=\"T_e69b4f80_7d11_11eb_aa3f_0242ac1c0002row2_col10\" class=\"data row2 col10\" >253</td>\n",
              "                        <td id=\"T_e69b4f80_7d11_11eb_aa3f_0242ac1c0002row2_col11\" class=\"data row2 col11\" >253</td>\n",
              "                        <td id=\"T_e69b4f80_7d11_11eb_aa3f_0242ac1c0002row2_col12\" class=\"data row2 col12\" >253</td>\n",
              "                        <td id=\"T_e69b4f80_7d11_11eb_aa3f_0242ac1c0002row2_col13\" class=\"data row2 col13\" >253</td>\n",
              "                        <td id=\"T_e69b4f80_7d11_11eb_aa3f_0242ac1c0002row2_col14\" class=\"data row2 col14\" >233</td>\n",
              "                        <td id=\"T_e69b4f80_7d11_11eb_aa3f_0242ac1c0002row2_col15\" class=\"data row2 col15\" >0</td>\n",
              "                        <td id=\"T_e69b4f80_7d11_11eb_aa3f_0242ac1c0002row2_col16\" class=\"data row2 col16\" >0</td>\n",
              "                        <td id=\"T_e69b4f80_7d11_11eb_aa3f_0242ac1c0002row2_col17\" class=\"data row2 col17\" >0</td>\n",
              "            </tr>\n",
              "            <tr>\n",
              "                        <th id=\"T_e69b4f80_7d11_11eb_aa3f_0242ac1c0002level0_row3\" class=\"row_heading level0 row3\" >3</th>\n",
              "                        <td id=\"T_e69b4f80_7d11_11eb_aa3f_0242ac1c0002row3_col0\" class=\"data row3 col0\" >0</td>\n",
              "                        <td id=\"T_e69b4f80_7d11_11eb_aa3f_0242ac1c0002row3_col1\" class=\"data row3 col1\" >93</td>\n",
              "                        <td id=\"T_e69b4f80_7d11_11eb_aa3f_0242ac1c0002row3_col2\" class=\"data row3 col2\" >244</td>\n",
              "                        <td id=\"T_e69b4f80_7d11_11eb_aa3f_0242ac1c0002row3_col3\" class=\"data row3 col3\" >249</td>\n",
              "                        <td id=\"T_e69b4f80_7d11_11eb_aa3f_0242ac1c0002row3_col4\" class=\"data row3 col4\" >253</td>\n",
              "                        <td id=\"T_e69b4f80_7d11_11eb_aa3f_0242ac1c0002row3_col5\" class=\"data row3 col5\" >187</td>\n",
              "                        <td id=\"T_e69b4f80_7d11_11eb_aa3f_0242ac1c0002row3_col6\" class=\"data row3 col6\" >46</td>\n",
              "                        <td id=\"T_e69b4f80_7d11_11eb_aa3f_0242ac1c0002row3_col7\" class=\"data row3 col7\" >10</td>\n",
              "                        <td id=\"T_e69b4f80_7d11_11eb_aa3f_0242ac1c0002row3_col8\" class=\"data row3 col8\" >8</td>\n",
              "                        <td id=\"T_e69b4f80_7d11_11eb_aa3f_0242ac1c0002row3_col9\" class=\"data row3 col9\" >4</td>\n",
              "                        <td id=\"T_e69b4f80_7d11_11eb_aa3f_0242ac1c0002row3_col10\" class=\"data row3 col10\" >10</td>\n",
              "                        <td id=\"T_e69b4f80_7d11_11eb_aa3f_0242ac1c0002row3_col11\" class=\"data row3 col11\" >194</td>\n",
              "                        <td id=\"T_e69b4f80_7d11_11eb_aa3f_0242ac1c0002row3_col12\" class=\"data row3 col12\" >253</td>\n",
              "                        <td id=\"T_e69b4f80_7d11_11eb_aa3f_0242ac1c0002row3_col13\" class=\"data row3 col13\" >253</td>\n",
              "                        <td id=\"T_e69b4f80_7d11_11eb_aa3f_0242ac1c0002row3_col14\" class=\"data row3 col14\" >233</td>\n",
              "                        <td id=\"T_e69b4f80_7d11_11eb_aa3f_0242ac1c0002row3_col15\" class=\"data row3 col15\" >0</td>\n",
              "                        <td id=\"T_e69b4f80_7d11_11eb_aa3f_0242ac1c0002row3_col16\" class=\"data row3 col16\" >0</td>\n",
              "                        <td id=\"T_e69b4f80_7d11_11eb_aa3f_0242ac1c0002row3_col17\" class=\"data row3 col17\" >0</td>\n",
              "            </tr>\n",
              "            <tr>\n",
              "                        <th id=\"T_e69b4f80_7d11_11eb_aa3f_0242ac1c0002level0_row4\" class=\"row_heading level0 row4\" >4</th>\n",
              "                        <td id=\"T_e69b4f80_7d11_11eb_aa3f_0242ac1c0002row4_col0\" class=\"data row4 col0\" >0</td>\n",
              "                        <td id=\"T_e69b4f80_7d11_11eb_aa3f_0242ac1c0002row4_col1\" class=\"data row4 col1\" >107</td>\n",
              "                        <td id=\"T_e69b4f80_7d11_11eb_aa3f_0242ac1c0002row4_col2\" class=\"data row4 col2\" >253</td>\n",
              "                        <td id=\"T_e69b4f80_7d11_11eb_aa3f_0242ac1c0002row4_col3\" class=\"data row4 col3\" >253</td>\n",
              "                        <td id=\"T_e69b4f80_7d11_11eb_aa3f_0242ac1c0002row4_col4\" class=\"data row4 col4\" >230</td>\n",
              "                        <td id=\"T_e69b4f80_7d11_11eb_aa3f_0242ac1c0002row4_col5\" class=\"data row4 col5\" >48</td>\n",
              "                        <td id=\"T_e69b4f80_7d11_11eb_aa3f_0242ac1c0002row4_col6\" class=\"data row4 col6\" >0</td>\n",
              "                        <td id=\"T_e69b4f80_7d11_11eb_aa3f_0242ac1c0002row4_col7\" class=\"data row4 col7\" >0</td>\n",
              "                        <td id=\"T_e69b4f80_7d11_11eb_aa3f_0242ac1c0002row4_col8\" class=\"data row4 col8\" >0</td>\n",
              "                        <td id=\"T_e69b4f80_7d11_11eb_aa3f_0242ac1c0002row4_col9\" class=\"data row4 col9\" >0</td>\n",
              "                        <td id=\"T_e69b4f80_7d11_11eb_aa3f_0242ac1c0002row4_col10\" class=\"data row4 col10\" >0</td>\n",
              "                        <td id=\"T_e69b4f80_7d11_11eb_aa3f_0242ac1c0002row4_col11\" class=\"data row4 col11\" >192</td>\n",
              "                        <td id=\"T_e69b4f80_7d11_11eb_aa3f_0242ac1c0002row4_col12\" class=\"data row4 col12\" >253</td>\n",
              "                        <td id=\"T_e69b4f80_7d11_11eb_aa3f_0242ac1c0002row4_col13\" class=\"data row4 col13\" >253</td>\n",
              "                        <td id=\"T_e69b4f80_7d11_11eb_aa3f_0242ac1c0002row4_col14\" class=\"data row4 col14\" >156</td>\n",
              "                        <td id=\"T_e69b4f80_7d11_11eb_aa3f_0242ac1c0002row4_col15\" class=\"data row4 col15\" >0</td>\n",
              "                        <td id=\"T_e69b4f80_7d11_11eb_aa3f_0242ac1c0002row4_col16\" class=\"data row4 col16\" >0</td>\n",
              "                        <td id=\"T_e69b4f80_7d11_11eb_aa3f_0242ac1c0002row4_col17\" class=\"data row4 col17\" >0</td>\n",
              "            </tr>\n",
              "            <tr>\n",
              "                        <th id=\"T_e69b4f80_7d11_11eb_aa3f_0242ac1c0002level0_row5\" class=\"row_heading level0 row5\" >5</th>\n",
              "                        <td id=\"T_e69b4f80_7d11_11eb_aa3f_0242ac1c0002row5_col0\" class=\"data row5 col0\" >0</td>\n",
              "                        <td id=\"T_e69b4f80_7d11_11eb_aa3f_0242ac1c0002row5_col1\" class=\"data row5 col1\" >3</td>\n",
              "                        <td id=\"T_e69b4f80_7d11_11eb_aa3f_0242ac1c0002row5_col2\" class=\"data row5 col2\" >20</td>\n",
              "                        <td id=\"T_e69b4f80_7d11_11eb_aa3f_0242ac1c0002row5_col3\" class=\"data row5 col3\" >20</td>\n",
              "                        <td id=\"T_e69b4f80_7d11_11eb_aa3f_0242ac1c0002row5_col4\" class=\"data row5 col4\" >15</td>\n",
              "                        <td id=\"T_e69b4f80_7d11_11eb_aa3f_0242ac1c0002row5_col5\" class=\"data row5 col5\" >0</td>\n",
              "                        <td id=\"T_e69b4f80_7d11_11eb_aa3f_0242ac1c0002row5_col6\" class=\"data row5 col6\" >0</td>\n",
              "                        <td id=\"T_e69b4f80_7d11_11eb_aa3f_0242ac1c0002row5_col7\" class=\"data row5 col7\" >0</td>\n",
              "                        <td id=\"T_e69b4f80_7d11_11eb_aa3f_0242ac1c0002row5_col8\" class=\"data row5 col8\" >0</td>\n",
              "                        <td id=\"T_e69b4f80_7d11_11eb_aa3f_0242ac1c0002row5_col9\" class=\"data row5 col9\" >0</td>\n",
              "                        <td id=\"T_e69b4f80_7d11_11eb_aa3f_0242ac1c0002row5_col10\" class=\"data row5 col10\" >43</td>\n",
              "                        <td id=\"T_e69b4f80_7d11_11eb_aa3f_0242ac1c0002row5_col11\" class=\"data row5 col11\" >224</td>\n",
              "                        <td id=\"T_e69b4f80_7d11_11eb_aa3f_0242ac1c0002row5_col12\" class=\"data row5 col12\" >253</td>\n",
              "                        <td id=\"T_e69b4f80_7d11_11eb_aa3f_0242ac1c0002row5_col13\" class=\"data row5 col13\" >245</td>\n",
              "                        <td id=\"T_e69b4f80_7d11_11eb_aa3f_0242ac1c0002row5_col14\" class=\"data row5 col14\" >74</td>\n",
              "                        <td id=\"T_e69b4f80_7d11_11eb_aa3f_0242ac1c0002row5_col15\" class=\"data row5 col15\" >0</td>\n",
              "                        <td id=\"T_e69b4f80_7d11_11eb_aa3f_0242ac1c0002row5_col16\" class=\"data row5 col16\" >0</td>\n",
              "                        <td id=\"T_e69b4f80_7d11_11eb_aa3f_0242ac1c0002row5_col17\" class=\"data row5 col17\" >0</td>\n",
              "            </tr>\n",
              "            <tr>\n",
              "                        <th id=\"T_e69b4f80_7d11_11eb_aa3f_0242ac1c0002level0_row6\" class=\"row_heading level0 row6\" >6</th>\n",
              "                        <td id=\"T_e69b4f80_7d11_11eb_aa3f_0242ac1c0002row6_col0\" class=\"data row6 col0\" >0</td>\n",
              "                        <td id=\"T_e69b4f80_7d11_11eb_aa3f_0242ac1c0002row6_col1\" class=\"data row6 col1\" >0</td>\n",
              "                        <td id=\"T_e69b4f80_7d11_11eb_aa3f_0242ac1c0002row6_col2\" class=\"data row6 col2\" >0</td>\n",
              "                        <td id=\"T_e69b4f80_7d11_11eb_aa3f_0242ac1c0002row6_col3\" class=\"data row6 col3\" >0</td>\n",
              "                        <td id=\"T_e69b4f80_7d11_11eb_aa3f_0242ac1c0002row6_col4\" class=\"data row6 col4\" >0</td>\n",
              "                        <td id=\"T_e69b4f80_7d11_11eb_aa3f_0242ac1c0002row6_col5\" class=\"data row6 col5\" >0</td>\n",
              "                        <td id=\"T_e69b4f80_7d11_11eb_aa3f_0242ac1c0002row6_col6\" class=\"data row6 col6\" >0</td>\n",
              "                        <td id=\"T_e69b4f80_7d11_11eb_aa3f_0242ac1c0002row6_col7\" class=\"data row6 col7\" >0</td>\n",
              "                        <td id=\"T_e69b4f80_7d11_11eb_aa3f_0242ac1c0002row6_col8\" class=\"data row6 col8\" >0</td>\n",
              "                        <td id=\"T_e69b4f80_7d11_11eb_aa3f_0242ac1c0002row6_col9\" class=\"data row6 col9\" >0</td>\n",
              "                        <td id=\"T_e69b4f80_7d11_11eb_aa3f_0242ac1c0002row6_col10\" class=\"data row6 col10\" >249</td>\n",
              "                        <td id=\"T_e69b4f80_7d11_11eb_aa3f_0242ac1c0002row6_col11\" class=\"data row6 col11\" >253</td>\n",
              "                        <td id=\"T_e69b4f80_7d11_11eb_aa3f_0242ac1c0002row6_col12\" class=\"data row6 col12\" >245</td>\n",
              "                        <td id=\"T_e69b4f80_7d11_11eb_aa3f_0242ac1c0002row6_col13\" class=\"data row6 col13\" >126</td>\n",
              "                        <td id=\"T_e69b4f80_7d11_11eb_aa3f_0242ac1c0002row6_col14\" class=\"data row6 col14\" >0</td>\n",
              "                        <td id=\"T_e69b4f80_7d11_11eb_aa3f_0242ac1c0002row6_col15\" class=\"data row6 col15\" >0</td>\n",
              "                        <td id=\"T_e69b4f80_7d11_11eb_aa3f_0242ac1c0002row6_col16\" class=\"data row6 col16\" >0</td>\n",
              "                        <td id=\"T_e69b4f80_7d11_11eb_aa3f_0242ac1c0002row6_col17\" class=\"data row6 col17\" >0</td>\n",
              "            </tr>\n",
              "            <tr>\n",
              "                        <th id=\"T_e69b4f80_7d11_11eb_aa3f_0242ac1c0002level0_row7\" class=\"row_heading level0 row7\" >7</th>\n",
              "                        <td id=\"T_e69b4f80_7d11_11eb_aa3f_0242ac1c0002row7_col0\" class=\"data row7 col0\" >0</td>\n",
              "                        <td id=\"T_e69b4f80_7d11_11eb_aa3f_0242ac1c0002row7_col1\" class=\"data row7 col1\" >0</td>\n",
              "                        <td id=\"T_e69b4f80_7d11_11eb_aa3f_0242ac1c0002row7_col2\" class=\"data row7 col2\" >0</td>\n",
              "                        <td id=\"T_e69b4f80_7d11_11eb_aa3f_0242ac1c0002row7_col3\" class=\"data row7 col3\" >0</td>\n",
              "                        <td id=\"T_e69b4f80_7d11_11eb_aa3f_0242ac1c0002row7_col4\" class=\"data row7 col4\" >0</td>\n",
              "                        <td id=\"T_e69b4f80_7d11_11eb_aa3f_0242ac1c0002row7_col5\" class=\"data row7 col5\" >0</td>\n",
              "                        <td id=\"T_e69b4f80_7d11_11eb_aa3f_0242ac1c0002row7_col6\" class=\"data row7 col6\" >0</td>\n",
              "                        <td id=\"T_e69b4f80_7d11_11eb_aa3f_0242ac1c0002row7_col7\" class=\"data row7 col7\" >14</td>\n",
              "                        <td id=\"T_e69b4f80_7d11_11eb_aa3f_0242ac1c0002row7_col8\" class=\"data row7 col8\" >101</td>\n",
              "                        <td id=\"T_e69b4f80_7d11_11eb_aa3f_0242ac1c0002row7_col9\" class=\"data row7 col9\" >223</td>\n",
              "                        <td id=\"T_e69b4f80_7d11_11eb_aa3f_0242ac1c0002row7_col10\" class=\"data row7 col10\" >253</td>\n",
              "                        <td id=\"T_e69b4f80_7d11_11eb_aa3f_0242ac1c0002row7_col11\" class=\"data row7 col11\" >248</td>\n",
              "                        <td id=\"T_e69b4f80_7d11_11eb_aa3f_0242ac1c0002row7_col12\" class=\"data row7 col12\" >124</td>\n",
              "                        <td id=\"T_e69b4f80_7d11_11eb_aa3f_0242ac1c0002row7_col13\" class=\"data row7 col13\" >0</td>\n",
              "                        <td id=\"T_e69b4f80_7d11_11eb_aa3f_0242ac1c0002row7_col14\" class=\"data row7 col14\" >0</td>\n",
              "                        <td id=\"T_e69b4f80_7d11_11eb_aa3f_0242ac1c0002row7_col15\" class=\"data row7 col15\" >0</td>\n",
              "                        <td id=\"T_e69b4f80_7d11_11eb_aa3f_0242ac1c0002row7_col16\" class=\"data row7 col16\" >0</td>\n",
              "                        <td id=\"T_e69b4f80_7d11_11eb_aa3f_0242ac1c0002row7_col17\" class=\"data row7 col17\" >0</td>\n",
              "            </tr>\n",
              "            <tr>\n",
              "                        <th id=\"T_e69b4f80_7d11_11eb_aa3f_0242ac1c0002level0_row8\" class=\"row_heading level0 row8\" >8</th>\n",
              "                        <td id=\"T_e69b4f80_7d11_11eb_aa3f_0242ac1c0002row8_col0\" class=\"data row8 col0\" >0</td>\n",
              "                        <td id=\"T_e69b4f80_7d11_11eb_aa3f_0242ac1c0002row8_col1\" class=\"data row8 col1\" >0</td>\n",
              "                        <td id=\"T_e69b4f80_7d11_11eb_aa3f_0242ac1c0002row8_col2\" class=\"data row8 col2\" >0</td>\n",
              "                        <td id=\"T_e69b4f80_7d11_11eb_aa3f_0242ac1c0002row8_col3\" class=\"data row8 col3\" >0</td>\n",
              "                        <td id=\"T_e69b4f80_7d11_11eb_aa3f_0242ac1c0002row8_col4\" class=\"data row8 col4\" >0</td>\n",
              "                        <td id=\"T_e69b4f80_7d11_11eb_aa3f_0242ac1c0002row8_col5\" class=\"data row8 col5\" >11</td>\n",
              "                        <td id=\"T_e69b4f80_7d11_11eb_aa3f_0242ac1c0002row8_col6\" class=\"data row8 col6\" >166</td>\n",
              "                        <td id=\"T_e69b4f80_7d11_11eb_aa3f_0242ac1c0002row8_col7\" class=\"data row8 col7\" >239</td>\n",
              "                        <td id=\"T_e69b4f80_7d11_11eb_aa3f_0242ac1c0002row8_col8\" class=\"data row8 col8\" >253</td>\n",
              "                        <td id=\"T_e69b4f80_7d11_11eb_aa3f_0242ac1c0002row8_col9\" class=\"data row8 col9\" >253</td>\n",
              "                        <td id=\"T_e69b4f80_7d11_11eb_aa3f_0242ac1c0002row8_col10\" class=\"data row8 col10\" >253</td>\n",
              "                        <td id=\"T_e69b4f80_7d11_11eb_aa3f_0242ac1c0002row8_col11\" class=\"data row8 col11\" >187</td>\n",
              "                        <td id=\"T_e69b4f80_7d11_11eb_aa3f_0242ac1c0002row8_col12\" class=\"data row8 col12\" >30</td>\n",
              "                        <td id=\"T_e69b4f80_7d11_11eb_aa3f_0242ac1c0002row8_col13\" class=\"data row8 col13\" >0</td>\n",
              "                        <td id=\"T_e69b4f80_7d11_11eb_aa3f_0242ac1c0002row8_col14\" class=\"data row8 col14\" >0</td>\n",
              "                        <td id=\"T_e69b4f80_7d11_11eb_aa3f_0242ac1c0002row8_col15\" class=\"data row8 col15\" >0</td>\n",
              "                        <td id=\"T_e69b4f80_7d11_11eb_aa3f_0242ac1c0002row8_col16\" class=\"data row8 col16\" >0</td>\n",
              "                        <td id=\"T_e69b4f80_7d11_11eb_aa3f_0242ac1c0002row8_col17\" class=\"data row8 col17\" >0</td>\n",
              "            </tr>\n",
              "            <tr>\n",
              "                        <th id=\"T_e69b4f80_7d11_11eb_aa3f_0242ac1c0002level0_row9\" class=\"row_heading level0 row9\" >9</th>\n",
              "                        <td id=\"T_e69b4f80_7d11_11eb_aa3f_0242ac1c0002row9_col0\" class=\"data row9 col0\" >0</td>\n",
              "                        <td id=\"T_e69b4f80_7d11_11eb_aa3f_0242ac1c0002row9_col1\" class=\"data row9 col1\" >0</td>\n",
              "                        <td id=\"T_e69b4f80_7d11_11eb_aa3f_0242ac1c0002row9_col2\" class=\"data row9 col2\" >0</td>\n",
              "                        <td id=\"T_e69b4f80_7d11_11eb_aa3f_0242ac1c0002row9_col3\" class=\"data row9 col3\" >0</td>\n",
              "                        <td id=\"T_e69b4f80_7d11_11eb_aa3f_0242ac1c0002row9_col4\" class=\"data row9 col4\" >0</td>\n",
              "                        <td id=\"T_e69b4f80_7d11_11eb_aa3f_0242ac1c0002row9_col5\" class=\"data row9 col5\" >16</td>\n",
              "                        <td id=\"T_e69b4f80_7d11_11eb_aa3f_0242ac1c0002row9_col6\" class=\"data row9 col6\" >248</td>\n",
              "                        <td id=\"T_e69b4f80_7d11_11eb_aa3f_0242ac1c0002row9_col7\" class=\"data row9 col7\" >250</td>\n",
              "                        <td id=\"T_e69b4f80_7d11_11eb_aa3f_0242ac1c0002row9_col8\" class=\"data row9 col8\" >253</td>\n",
              "                        <td id=\"T_e69b4f80_7d11_11eb_aa3f_0242ac1c0002row9_col9\" class=\"data row9 col9\" >253</td>\n",
              "                        <td id=\"T_e69b4f80_7d11_11eb_aa3f_0242ac1c0002row9_col10\" class=\"data row9 col10\" >253</td>\n",
              "                        <td id=\"T_e69b4f80_7d11_11eb_aa3f_0242ac1c0002row9_col11\" class=\"data row9 col11\" >253</td>\n",
              "                        <td id=\"T_e69b4f80_7d11_11eb_aa3f_0242ac1c0002row9_col12\" class=\"data row9 col12\" >232</td>\n",
              "                        <td id=\"T_e69b4f80_7d11_11eb_aa3f_0242ac1c0002row9_col13\" class=\"data row9 col13\" >213</td>\n",
              "                        <td id=\"T_e69b4f80_7d11_11eb_aa3f_0242ac1c0002row9_col14\" class=\"data row9 col14\" >111</td>\n",
              "                        <td id=\"T_e69b4f80_7d11_11eb_aa3f_0242ac1c0002row9_col15\" class=\"data row9 col15\" >2</td>\n",
              "                        <td id=\"T_e69b4f80_7d11_11eb_aa3f_0242ac1c0002row9_col16\" class=\"data row9 col16\" >0</td>\n",
              "                        <td id=\"T_e69b4f80_7d11_11eb_aa3f_0242ac1c0002row9_col17\" class=\"data row9 col17\" >0</td>\n",
              "            </tr>\n",
              "            <tr>\n",
              "                        <th id=\"T_e69b4f80_7d11_11eb_aa3f_0242ac1c0002level0_row10\" class=\"row_heading level0 row10\" >10</th>\n",
              "                        <td id=\"T_e69b4f80_7d11_11eb_aa3f_0242ac1c0002row10_col0\" class=\"data row10 col0\" >0</td>\n",
              "                        <td id=\"T_e69b4f80_7d11_11eb_aa3f_0242ac1c0002row10_col1\" class=\"data row10 col1\" >0</td>\n",
              "                        <td id=\"T_e69b4f80_7d11_11eb_aa3f_0242ac1c0002row10_col2\" class=\"data row10 col2\" >0</td>\n",
              "                        <td id=\"T_e69b4f80_7d11_11eb_aa3f_0242ac1c0002row10_col3\" class=\"data row10 col3\" >0</td>\n",
              "                        <td id=\"T_e69b4f80_7d11_11eb_aa3f_0242ac1c0002row10_col4\" class=\"data row10 col4\" >0</td>\n",
              "                        <td id=\"T_e69b4f80_7d11_11eb_aa3f_0242ac1c0002row10_col5\" class=\"data row10 col5\" >0</td>\n",
              "                        <td id=\"T_e69b4f80_7d11_11eb_aa3f_0242ac1c0002row10_col6\" class=\"data row10 col6\" >0</td>\n",
              "                        <td id=\"T_e69b4f80_7d11_11eb_aa3f_0242ac1c0002row10_col7\" class=\"data row10 col7\" >43</td>\n",
              "                        <td id=\"T_e69b4f80_7d11_11eb_aa3f_0242ac1c0002row10_col8\" class=\"data row10 col8\" >98</td>\n",
              "                        <td id=\"T_e69b4f80_7d11_11eb_aa3f_0242ac1c0002row10_col9\" class=\"data row10 col9\" >98</td>\n",
              "                        <td id=\"T_e69b4f80_7d11_11eb_aa3f_0242ac1c0002row10_col10\" class=\"data row10 col10\" >208</td>\n",
              "                        <td id=\"T_e69b4f80_7d11_11eb_aa3f_0242ac1c0002row10_col11\" class=\"data row10 col11\" >253</td>\n",
              "                        <td id=\"T_e69b4f80_7d11_11eb_aa3f_0242ac1c0002row10_col12\" class=\"data row10 col12\" >253</td>\n",
              "                        <td id=\"T_e69b4f80_7d11_11eb_aa3f_0242ac1c0002row10_col13\" class=\"data row10 col13\" >253</td>\n",
              "                        <td id=\"T_e69b4f80_7d11_11eb_aa3f_0242ac1c0002row10_col14\" class=\"data row10 col14\" >253</td>\n",
              "                        <td id=\"T_e69b4f80_7d11_11eb_aa3f_0242ac1c0002row10_col15\" class=\"data row10 col15\" >187</td>\n",
              "                        <td id=\"T_e69b4f80_7d11_11eb_aa3f_0242ac1c0002row10_col16\" class=\"data row10 col16\" >22</td>\n",
              "                        <td id=\"T_e69b4f80_7d11_11eb_aa3f_0242ac1c0002row10_col17\" class=\"data row10 col17\" >0</td>\n",
              "            </tr>\n",
              "    </tbody></table>"
            ],
            "text/plain": [
              "<pandas.io.formats.style.Styler at 0x7fda4b887550>"
            ]
          },
          "metadata": {
            "tags": []
          },
          "execution_count": 12
        }
      ]
    },
    {
      "cell_type": "code",
      "metadata": {
        "colab": {
          "base_uri": "https://localhost:8080/"
        },
        "id": "uH1nEdcRt107",
        "outputId": "469e3b50-85be-48b3-831a-ad8fbc5dadf2"
      },
      "source": [
        "seven_tensors = [tensor(Image.open(o)) for o in sevens] #convert all sevens to tensors\n",
        "three_tensors = [tensor(Image.open(o)) for o in threes] #convert all threes to tensors\n",
        "len(three_tensors),len(seven_tensors)"
      ],
      "execution_count": 13,
      "outputs": [
        {
          "output_type": "execute_result",
          "data": {
            "text/plain": [
              "(6131, 6265)"
            ]
          },
          "metadata": {
            "tags": []
          },
          "execution_count": 13
        }
      ]
    },
    {
      "cell_type": "code",
      "metadata": {
        "colab": {
          "base_uri": "https://localhost:8080/",
          "height": 102
        },
        "id": "ZBJXCvQZuSPW",
        "outputId": "8f32ec69-16f8-4320-947f-df780775e831"
      },
      "source": [
        "show_image(three_tensors[1]) #fast.ai command to display a tensor\n",
        "three_tensors[1].shape"
      ],
      "execution_count": 14,
      "outputs": [
        {
          "output_type": "execute_result",
          "data": {
            "text/plain": [
              "torch.Size([28, 28])"
            ]
          },
          "metadata": {
            "tags": []
          },
          "execution_count": 14
        },
        {
          "output_type": "display_data",
          "data": {
            "image/png": "[encoded data removed]",
            "text/plain": [
              "<Figure size 72x72 with 1 Axes>"
            ]
          },
          "metadata": {
            "tags": [],
            "needs_background": "light"
          }
        }
      ]
    },
    {
      "cell_type": "code",
      "metadata": {
        "colab": {
          "base_uri": "https://localhost:8080/"
        },
        "id": "_GT9509NybB9",
        "outputId": "186ce926-d091-4fd8-a455-2bccda0ab614"
      },
      "source": [
        "# funny note\n",
        "print(type(three_tensors[1])) # python type says its a pytorch library tensor\n",
        "print(three_tensors[1].type()) # type method shows the type of tensor"
      ],
      "execution_count": 15,
      "outputs": [
        {
          "output_type": "stream",
          "text": [
            "<class 'torch.Tensor'>\n",
            "torch.ByteTensor\n"
          ],
          "name": "stdout"
        }
      ]
    },
    {
      "cell_type": "code",
      "metadata": {
        "colab": {
          "base_uri": "https://localhost:8080/"
        },
        "id": "91M8yrXbvAiU",
        "outputId": "47df821c-e0ec-4607-9049-cd494a50e24b"
      },
      "source": [
        "stacked_sevens = torch.stack(seven_tensors).float()/255\n",
        "stacked_threes = torch.stack(three_tensors).float()/255\n",
        "stacked_threes.shape"
      ],
      "execution_count": 16,
      "outputs": [
        {
          "output_type": "execute_result",
          "data": {
            "text/plain": [
              "torch.Size([6131, 28, 28])"
            ]
          },
          "metadata": {
            "tags": []
          },
          "execution_count": 16
        }
      ]
    },
    {
      "cell_type": "code",
      "metadata": {
        "colab": {
          "base_uri": "https://localhost:8080/"
        },
        "id": "7xo9Cbu2vGUb",
        "outputId": "9bc0a151-8930-4504-ffdb-ab5571adf8e7"
      },
      "source": [
        "rank = len(stacked_threes.shape)\n",
        "rank"
      ],
      "execution_count": 17,
      "outputs": [
        {
          "output_type": "execute_result",
          "data": {
            "text/plain": [
              "3"
            ]
          },
          "metadata": {
            "tags": []
          },
          "execution_count": 17
        }
      ]
    },
    {
      "cell_type": "code",
      "metadata": {
        "colab": {
          "base_uri": "https://localhost:8080/",
          "height": 85
        },
        "id": "niDfWB9-ve_u",
        "outputId": "0640b875-8a52-4016-92e8-5f3d198d9a45"
      },
      "source": [
        "mean3 = stacked_threes.mean(0) # take the mean from the first axis\n",
        "show_image(mean3);"
      ],
      "execution_count": 18,
      "outputs": [
        {
          "output_type": "display_data",
          "data": {
            "image/png": "[encoded data removed]",
            "text/plain": [
              "<Figure size 72x72 with 1 Axes>"
            ]
          },
          "metadata": {
            "tags": [],
            "needs_background": "light"
          }
        }
      ]
    },
    {
      "cell_type": "code",
      "metadata": {
        "colab": {
          "base_uri": "https://localhost:8080/",
          "height": 85
        },
        "id": "_yTARix9w4aV",
        "outputId": "d8d89894-b347-4cdb-8f72-be953b30a88c"
      },
      "source": [
        "mean7 = stacked_sevens.mean(0)\n",
        "show_image(mean7);"
      ],
      "execution_count": 19,
      "outputs": [
        {
          "output_type": "display_data",
          "data": {
            "image/png": "[encoded data removed]",
            "text/plain": [
              "<Figure size 72x72 with 1 Axes>"
            ]
          },
          "metadata": {
            "tags": [],
            "needs_background": "light"
          }
        }
      ]
    },
    {
      "cell_type": "code",
      "metadata": {
        "colab": {
          "base_uri": "https://localhost:8080/",
          "height": 102
        },
        "id": "o8ADKrv8wajm",
        "outputId": "1eba5c50-3dec-4231-d174-5a0efea6d21b"
      },
      "source": [
        "a_3 = stacked_threes[1]\n",
        "show_image(a_3)"
      ],
      "execution_count": 20,
      "outputs": [
        {
          "output_type": "execute_result",
          "data": {
            "text/plain": [
              "<matplotlib.axes._subplots.AxesSubplot at 0x7fda4b124ad0>"
            ]
          },
          "metadata": {
            "tags": []
          },
          "execution_count": 20
        },
        {
          "output_type": "display_data",
          "data": {
            "image/png": "[encoded data removed]",
            "text/plain": [
              "<Figure size 72x72 with 1 Axes>"
            ]
          },
          "metadata": {
            "tags": [],
            "needs_background": "light"
          }
        }
      ]
    },
    {
      "cell_type": "code",
      "metadata": {
        "colab": {
          "base_uri": "https://localhost:8080/"
        },
        "id": "TiuwNASNw6v1",
        "outputId": "67e64dc8-f7e3-47c6-82a8-f64ba0bb2150"
      },
      "source": [
        "dist_3_abs = (a_3 - mean3).abs().mean() # L1 norm\n",
        "dist_3_sqr = ((a_3 - mean3)**2).mean().sqrt() # L2 norm\n",
        "dist_3_abs,dist_3_sqr"
      ],
      "execution_count": 21,
      "outputs": [
        {
          "output_type": "execute_result",
          "data": {
            "text/plain": [
              "(tensor(0.1114), tensor(0.2021))"
            ]
          },
          "metadata": {
            "tags": []
          },
          "execution_count": 21
        }
      ]
    },
    {
      "cell_type": "code",
      "metadata": {
        "colab": {
          "base_uri": "https://localhost:8080/"
        },
        "id": "2s8m_qdzxMYR",
        "outputId": "869a9f00-b457-403c-c6f3-aa2d34ad6f54"
      },
      "source": [
        "dist_7_abs = (a_3 - mean7).abs().mean()\n",
        "dist_7_sqr = ((a_3 - mean7)**2).mean().sqrt()\n",
        "dist_7_abs,dist_7_sqr"
      ],
      "execution_count": 22,
      "outputs": [
        {
          "output_type": "execute_result",
          "data": {
            "text/plain": [
              "(tensor(0.1586), tensor(0.3021))"
            ]
          },
          "metadata": {
            "tags": []
          },
          "execution_count": 22
        }
      ]
    },
    {
      "cell_type": "markdown",
      "metadata": {
        "id": "lHeK_zbuzXU8"
      },
      "source": [
        "## Computing Metrics Using Broadcasting"
      ]
    },
    {
      "cell_type": "code",
      "metadata": {
        "colab": {
          "base_uri": "https://localhost:8080/"
        },
        "id": "cr3xULC-zwZ0",
        "outputId": "12392d4a-23da-45d3-f302-86c3feb01b2c"
      },
      "source": [
        "# doing the same before for the validation sets\n",
        "valid_3_tens = torch.stack([tensor(Image.open(o)) \n",
        "                            for o in (path/'valid'/'3').ls()])\n",
        "valid_3_tens = valid_3_tens.float()/255\n",
        "valid_7_tens = torch.stack([tensor(Image.open(o)) \n",
        "                            for o in (path/'valid'/'7').ls()])\n",
        "valid_7_tens = valid_7_tens.float()/255\n",
        "valid_3_tens.shape,valid_7_tens.shape"
      ],
      "execution_count": 23,
      "outputs": [
        {
          "output_type": "execute_result",
          "data": {
            "text/plain": [
              "(torch.Size([1010, 28, 28]), torch.Size([1028, 28, 28]))"
            ]
          },
          "metadata": {
            "tags": []
          },
          "execution_count": 23
        }
      ]
    },
    {
      "cell_type": "code",
      "metadata": {
        "colab": {
          "base_uri": "https://localhost:8080/"
        },
        "id": "nT0vDi3x0bdH",
        "outputId": "5c556727-59a4-4efc-9077-bef54fd9da75"
      },
      "source": [
        "def mnist_distance(a,b): return (a-b).abs().mean((-1,-2))\n",
        "mnist_distance(a_3, mean3) #process run once"
      ],
      "execution_count": 24,
      "outputs": [
        {
          "output_type": "execute_result",
          "data": {
            "text/plain": [
              "tensor(0.1114)"
            ]
          },
          "metadata": {
            "tags": []
          },
          "execution_count": 24
        }
      ]
    },
    {
      "cell_type": "code",
      "metadata": {
        "colab": {
          "base_uri": "https://localhost:8080/"
        },
        "id": "TGuTaVkv0q9J",
        "outputId": "a8dcd3e7-04af-4557-aeae-b4eab2481d5b"
      },
      "source": [
        "# but we have to do the process for the entire valiation set\n",
        "valid_3_dist = mnist_distance(valid_3_tens, mean3)\n",
        "print('valid_3_tens shape:', valid_3_tens.shape)\n",
        "print('mean3 shape:', mean3.shape)\n",
        "valid_3_dist, valid_3_dist.shape\n",
        "# it returned an array of 1010 values due to Broadcasting: when it finds different shapes it acts as if mean3 was copied 1010 times"
      ],
      "execution_count": 25,
      "outputs": [
        {
          "output_type": "stream",
          "text": [
            "valid_3_tens shape: torch.Size([1010, 28, 28])\n",
            "mean3 shape: torch.Size([28, 28])\n"
          ],
          "name": "stdout"
        },
        {
          "output_type": "execute_result",
          "data": {
            "text/plain": [
              "(tensor([0.1355, 0.1138, 0.1083,  ..., 0.1103, 0.1530, 0.1169]),\n",
              " torch.Size([1010]))"
            ]
          },
          "metadata": {
            "tags": []
          },
          "execution_count": 25
        }
      ]
    },
    {
      "cell_type": "code",
      "metadata": {
        "id": "uITXfHMf2vi4"
      },
      "source": [
        "def is_3(x): return mnist_distance(x,mean3) < mnist_distance(x,mean7)"
      ],
      "execution_count": 26,
      "outputs": []
    },
    {
      "cell_type": "code",
      "metadata": {
        "colab": {
          "base_uri": "https://localhost:8080/"
        },
        "id": "px91jMQU22zh",
        "outputId": "06a53882-7821-4981-ca46-bfd0935ece5b"
      },
      "source": [
        "is_3(a_3), is_3(a_3).float()"
      ],
      "execution_count": 27,
      "outputs": [
        {
          "output_type": "execute_result",
          "data": {
            "text/plain": [
              "(tensor(True), tensor(1.))"
            ]
          },
          "metadata": {
            "tags": []
          },
          "execution_count": 27
        }
      ]
    },
    {
      "cell_type": "code",
      "metadata": {
        "colab": {
          "base_uri": "https://localhost:8080/"
        },
        "id": "vJYbf_Ny26HU",
        "outputId": "676b2119-3104-44c7-b6ac-0ae5b1d489f6"
      },
      "source": [
        "# we can broadcast the process into the entire set\n",
        "is_3(valid_3_tens)"
      ],
      "execution_count": 28,
      "outputs": [
        {
          "output_type": "execute_result",
          "data": {
            "text/plain": [
              "tensor([True, True, True,  ..., True, True, True])"
            ]
          },
          "metadata": {
            "tags": []
          },
          "execution_count": 28
        }
      ]
    },
    {
      "cell_type": "code",
      "metadata": {
        "colab": {
          "base_uri": "https://localhost:8080/"
        },
        "id": "ubneysKQ3CRo",
        "outputId": "e2222692-1e50-401a-9916-baf79a01f18b"
      },
      "source": [
        "accuracy_3s =      is_3(valid_3_tens).float() .mean()\n",
        "accuracy_7s = (1 - is_3(valid_7_tens).float()).mean()\n",
        "\n",
        "accuracy_3s,accuracy_7s,(accuracy_3s+accuracy_7s)/2"
      ],
      "execution_count": 29,
      "outputs": [
        {
          "output_type": "execute_result",
          "data": {
            "text/plain": [
              "(tensor(0.9168), tensor(0.9854), tensor(0.9511))"
            ]
          },
          "metadata": {
            "tags": []
          },
          "execution_count": 29
        }
      ]
    },
    {
      "cell_type": "markdown",
      "metadata": {
        "id": "LMWIbDBxpX1x"
      },
      "source": [
        "## Stochastic Gradient Descent SGD"
      ]
    },
    {
      "cell_type": "code",
      "metadata": {
        "id": "t-yfv0j7pdeX",
        "colab": {
          "base_uri": "https://localhost:8080/"
        },
        "outputId": "37a88491-873d-4f23-ce3b-913bb49ca744"
      },
      "source": [
        "time = torch.arange(0,20).float(); time"
      ],
      "execution_count": 30,
      "outputs": [
        {
          "output_type": "execute_result",
          "data": {
            "text/plain": [
              "tensor([ 0.,  1.,  2.,  3.,  4.,  5.,  6.,  7.,  8.,  9., 10., 11., 12., 13., 14., 15., 16., 17., 18., 19.])"
            ]
          },
          "metadata": {
            "tags": []
          },
          "execution_count": 30
        }
      ]
    },
    {
      "cell_type": "code",
      "metadata": {
        "colab": {
          "base_uri": "https://localhost:8080/",
          "height": 265
        },
        "id": "LnZbJvg8e8Zv",
        "outputId": "4168519a-57e5-4c32-a48d-49af04f71e7e"
      },
      "source": [
        "speed = torch.randn(20)*3 + 0.75*(time-9.5)**2 + 1\n",
        "plt.scatter(time,speed);"
      ],
      "execution_count": 31,
      "outputs": [
        {
          "output_type": "display_data",
          "data": {
            "image/png": "[encoded data removed]",
            "text/plain": [
              "<Figure size 432x288 with 1 Axes>"
            ]
          },
          "metadata": {
            "tags": [],
            "needs_background": "light"
          }
        }
      ]
    },
    {
      "cell_type": "code",
      "metadata": {
        "id": "qZkzzvTYfLyF"
      },
      "source": [
        "def f(t, params):\n",
        "    a,b,c = params\n",
        "    return a*(t**2) + (b*t) + c"
      ],
      "execution_count": 32,
      "outputs": []
    },
    {
      "cell_type": "code",
      "metadata": {
        "id": "pg2m8TC0fQ7t"
      },
      "source": [
        "def mse(preds, targets): return ((preds-targets)**2).mean().sqrt() # mean squared error"
      ],
      "execution_count": 33,
      "outputs": []
    },
    {
      "cell_type": "markdown",
      "metadata": {
        "id": "f8uvRXN7fy8J"
      },
      "source": [
        "### 7 steps process"
      ]
    },
    {
      "cell_type": "markdown",
      "metadata": {
        "id": "zHn-Q8-sgO9s"
      },
      "source": [
        "1. Initialize the parameters"
      ]
    },
    {
      "cell_type": "code",
      "metadata": {
        "id": "1hdE0yE2fXyQ"
      },
      "source": [
        "params = torch.randn(3).requires_grad_() # initialize the parameters to random values, and tell PyTorch that we want to track their gradients"
      ],
      "execution_count": 34,
      "outputs": []
    },
    {
      "cell_type": "code",
      "metadata": {
        "id": "heOd-mpI-hfU"
      },
      "source": [
        "#hide\n",
        "orig_params = params.clone()"
      ],
      "execution_count": 35,
      "outputs": []
    },
    {
      "cell_type": "markdown",
      "metadata": {
        "id": "P_qTuolsAoVa"
      },
      "source": [
        "2. Calculate the predictions"
      ]
    },
    {
      "cell_type": "code",
      "metadata": {
        "id": "D-zd9WiaBVsK"
      },
      "source": [
        "preds = f(time, params)"
      ],
      "execution_count": 36,
      "outputs": []
    },
    {
      "cell_type": "code",
      "metadata": {
        "colab": {
          "base_uri": "https://localhost:8080/",
          "height": 269
        },
        "id": "4HQoxgewB3rF",
        "outputId": "ece50a40-458d-491b-f0dc-d1b58e3795e2"
      },
      "source": [
        "# how close our predictions are to our targets\n",
        "def show_preds(preds, ax=None):\n",
        "    if ax is None: ax=plt.subplots()[1]\n",
        "    ax.scatter(time, speed)\n",
        "    ax.scatter(time, to_np(preds), color='red')\n",
        "    ax.set_ylim(-300,100)\n",
        "show_preds(preds)"
      ],
      "execution_count": 37,
      "outputs": [
        {
          "output_type": "display_data",
          "data": {
            "image/png": "[encoded data removed]",
            "text/plain": [
              "<Figure size 432x288 with 1 Axes>"
            ]
          },
          "metadata": {
            "tags": [],
            "needs_background": "light"
          }
        }
      ]
    },
    {
      "cell_type": "markdown",
      "metadata": {
        "id": "PvsVUOGPAzAu"
      },
      "source": [
        "3. Calculate the loss"
      ]
    },
    {
      "cell_type": "code",
      "metadata": {
        "colab": {
          "base_uri": "https://localhost:8080/"
        },
        "id": "9XTqVR_LCOTe",
        "outputId": "00bd9c08-59f6-4c36-ccc6-2cf574928ee9"
      },
      "source": [
        "loss = mse(preds, speed)\n",
        "loss"
      ],
      "execution_count": 38,
      "outputs": [
        {
          "output_type": "execute_result",
          "data": {
            "text/plain": [
              "tensor(160.6979, grad_fn=<SqrtBackward>)"
            ]
          },
          "metadata": {
            "tags": []
          },
          "execution_count": 38
        }
      ]
    },
    {
      "cell_type": "markdown",
      "metadata": {
        "id": "mv_6GI8NAzMy"
      },
      "source": [
        "4. Calculate the gradients"
      ]
    },
    {
      "cell_type": "code",
      "metadata": {
        "id": "qRHJTsx4CVeN"
      },
      "source": [
        "loss.backward()"
      ],
      "execution_count": 39,
      "outputs": []
    },
    {
      "cell_type": "code",
      "metadata": {
        "colab": {
          "base_uri": "https://localhost:8080/"
        },
        "id": "2FSwdyX5CarU",
        "outputId": "6788d223-299d-47d5-f157-af6fa10686a5"
      },
      "source": [
        "params.grad * 1e-5 # 1e-5 learning rate"
      ],
      "execution_count": 40,
      "outputs": [
        {
          "output_type": "execute_result",
          "data": {
            "text/plain": [
              "tensor([-1.6552e-03, -1.0640e-04, -7.8996e-06])"
            ]
          },
          "metadata": {
            "tags": []
          },
          "execution_count": 40
        }
      ]
    },
    {
      "cell_type": "code",
      "metadata": {
        "colab": {
          "base_uri": "https://localhost:8080/"
        },
        "id": "vtb_KKzoClgM",
        "outputId": "b44fde72-a02a-42b0-f294-3c460348da41"
      },
      "source": [
        "params"
      ],
      "execution_count": 41,
      "outputs": [
        {
          "output_type": "execute_result",
          "data": {
            "text/plain": [
              "tensor([-0.7658, -0.7506,  1.3525], requires_grad=True)"
            ]
          },
          "metadata": {
            "tags": []
          },
          "execution_count": 41
        }
      ]
    },
    {
      "cell_type": "markdown",
      "metadata": {
        "id": "1axX0nlyAzVa"
      },
      "source": [
        "5. Step the weights"
      ]
    },
    {
      "cell_type": "code",
      "metadata": {
        "id": "5Uh8G8BWCvTm"
      },
      "source": [
        "# update the parameters based on the gradients we just calculated\n",
        "lr = 1e-5\n",
        "params.data -= lr * params.grad.data\n",
        "params.grad = None"
      ],
      "execution_count": 42,
      "outputs": []
    },
    {
      "cell_type": "code",
      "metadata": {
        "colab": {
          "base_uri": "https://localhost:8080/"
        },
        "id": "lnFvbJbuE5Tr",
        "outputId": "3223787f-9078-4759-c5b3-0610e17e669a"
      },
      "source": [
        "preds = f(time,params)\n",
        "mse(preds, speed)"
      ],
      "execution_count": 43,
      "outputs": [
        {
          "output_type": "execute_result",
          "data": {
            "text/plain": [
              "tensor(160.4228, grad_fn=<SqrtBackward>)"
            ]
          },
          "metadata": {
            "tags": []
          },
          "execution_count": 43
        }
      ]
    },
    {
      "cell_type": "code",
      "metadata": {
        "colab": {
          "base_uri": "https://localhost:8080/",
          "height": 269
        },
        "id": "Xdc_9LcDHf4T",
        "outputId": "c8baa411-60a5-4b93-9bd9-e5bfb7f997aa"
      },
      "source": [
        "show_preds(preds)"
      ],
      "execution_count": 44,
      "outputs": [
        {
          "output_type": "display_data",
          "data": {
            "image/png": "[encoded data removed]",
            "text/plain": [
              "<Figure size 432x288 with 1 Axes>"
            ]
          },
          "metadata": {
            "tags": [],
            "needs_background": "light"
          }
        }
      ]
    },
    {
      "cell_type": "markdown",
      "metadata": {
        "id": "VRGsvv7tA0Jf"
      },
      "source": [
        "6. Repeat the process"
      ]
    },
    {
      "cell_type": "code",
      "metadata": {
        "colab": {
          "base_uri": "https://localhost:8080/"
        },
        "id": "_UuzVurVLPxq",
        "outputId": "40af62f5-ab4a-4d10-c0cd-b0c1a1397be0"
      },
      "source": [
        "def apply_step(params, prn=True):\n",
        "    preds = f(time, params)\n",
        "    loss = mse(preds, speed)\n",
        "    loss.backward()\n",
        "    params.data -= lr * params.grad.data\n",
        "    params.grad = None\n",
        "    if prn: print(loss.item())\n",
        "    return preds\n",
        "for i in range(10): apply_step(params)"
      ],
      "execution_count": 45,
      "outputs": [
        {
          "output_type": "stream",
          "text": [
            "160.42279052734375\n",
            "160.14772033691406\n",
            "159.87269592285156\n",
            "159.59768676757812\n",
            "159.3227081298828\n",
            "159.04774475097656\n",
            "158.7728271484375\n",
            "158.4979248046875\n",
            "158.22305297851562\n",
            "157.9481964111328\n"
          ],
          "name": "stdout"
        }
      ]
    },
    {
      "cell_type": "code",
      "metadata": {
        "id": "3aQhDZ6SLqBJ"
      },
      "source": [
        "params = orig_params.detach().requires_grad_()"
      ],
      "execution_count": 46,
      "outputs": []
    },
    {
      "cell_type": "code",
      "metadata": {
        "colab": {
          "base_uri": "https://localhost:8080/",
          "height": 225
        },
        "id": "hqchiL3ALs-F",
        "outputId": "0e0a5f35-d6e0-49b4-924a-79d4e4793971"
      },
      "source": [
        "_,axs = plt.subplots(1,4,figsize=(12,3))\n",
        "for ax in axs: show_preds(apply_step(params, False), ax)\n",
        "plt.tight_layout()"
      ],
      "execution_count": 47,
      "outputs": [
        {
          "output_type": "display_data",
          "data": {
            "image/png": "[encoded data removed]",
            "text/plain": [
              "<Figure size 864x216 with 4 Axes>"
            ]
          },
          "metadata": {
            "tags": [],
            "needs_background": "light"
          }
        }
      ]
    },
    {
      "cell_type": "markdown",
      "metadata": {
        "id": "Fnrsz0ctA0Qd"
      },
      "source": [
        "\n",
        "7. stop\n"
      ]
    },
    {
      "cell_type": "markdown",
      "metadata": {
        "id": "hBfas9YJZq9w"
      },
      "source": [
        "## The MNIST Loss Function"
      ]
    },
    {
      "cell_type": "code",
      "metadata": {
        "id": "CO0mgy8FZr9G"
      },
      "source": [
        "train_x = torch.cat([stacked_threes, stacked_sevens]).view(-1, 28*28) # view method reshapes the tensor (-1 is for all the list items)"
      ],
      "execution_count": 48,
      "outputs": []
    },
    {
      "cell_type": "code",
      "metadata": {
        "id": "5klEy330a7NH",
        "outputId": "10ec523c-0abe-465c-e222-179d7ee63ae8",
        "colab": {
          "base_uri": "https://localhost:8080/"
        }
      },
      "source": [
        "train_y = tensor([1]*len(threes) + [0]*len(sevens)).unsqueeze(1) # label 1 for 3s and 0 for 7s\n",
        "train_x.shape,train_y.shape"
      ],
      "execution_count": 49,
      "outputs": [
        {
          "output_type": "execute_result",
          "data": {
            "text/plain": [
              "(torch.Size([12396, 784]), torch.Size([12396, 1]))"
            ]
          },
          "metadata": {
            "tags": []
          },
          "execution_count": 49
        }
      ]
    },
    {
      "cell_type": "code",
      "metadata": {
        "id": "HIgNAxnDbtL8",
        "outputId": "7b47f696-dff1-4b59-ec09-b6243a92ba0d",
        "colab": {
          "base_uri": "https://localhost:8080/"
        }
      },
      "source": [
        "# create the training dataset\n",
        "dset = list(zip(train_x,train_y))\n",
        "x,y = dset[0] # a dataset is something you can index into and get back a tuple\n",
        "x.shape,y"
      ],
      "execution_count": 50,
      "outputs": [
        {
          "output_type": "execute_result",
          "data": {
            "text/plain": [
              "(torch.Size([784]), tensor([1]))"
            ]
          },
          "metadata": {
            "tags": []
          },
          "execution_count": 50
        }
      ]
    },
    {
      "cell_type": "code",
      "metadata": {
        "id": "sidGNhu5ckv6"
      },
      "source": [
        "# do the same to create the validation dataset\n",
        "valid_x = torch.cat([valid_3_tens, valid_7_tens]).view(-1, 28*28)\n",
        "valid_y = tensor([1]*len(valid_3_tens) + [0]*len(valid_7_tens)).unsqueeze(1)\n",
        "valid_dset = list(zip(valid_x,valid_y))"
      ],
      "execution_count": 52,
      "outputs": []
    },
    {
      "cell_type": "code",
      "metadata": {
        "id": "arHGs_D4iZdi"
      },
      "source": [
        "def init_params(size, std=1.0): return (torch.randn(size)*std).requires_grad_()\n",
        "weights = init_params((28*28, 1))"
      ],
      "execution_count": 57,
      "outputs": []
    },
    {
      "cell_type": "markdown",
      "metadata": {
        "id": "ZkIYIU2qjfBl"
      },
      "source": [
        "The function weights*pixels won't be flexible enough—it is always equal to 0 when the pixels are equal to 0.\n",
        "\n",
        "y=w*x+b; we still need the b"
      ]
    },
    {
      "cell_type": "code",
      "metadata": {
        "id": "-EvICpVwjWa0"
      },
      "source": [
        "bias = init_params(1)"
      ],
      "execution_count": 55,
      "outputs": []
    },
    {
      "cell_type": "markdown",
      "metadata": {
        "id": "QRMuzvP2j_kY"
      },
      "source": [
        "\n",
        "\n",
        "> jargon: **Parameters**: The weights and biases of a model. The weights are the w in the equation w*x+b, and the biases are the b in that equation.\n",
        "\n"
      ]
    },
    {
      "cell_type": "code",
      "metadata": {
        "id": "L8R078zWkFNB",
        "outputId": "8dc0bc9d-025d-4d75-956d-57f891267cd2",
        "colab": {
          "base_uri": "https://localhost:8080/"
        }
      },
      "source": [
        "# calculate a prediction for 1 image\n",
        "(train_x[0]*weights.T).sum() + bias"
      ],
      "execution_count": 58,
      "outputs": [
        {
          "output_type": "execute_result",
          "data": {
            "text/plain": [
              "tensor([20.2336], grad_fn=<AddBackward0>)"
            ]
          },
          "metadata": {
            "tags": []
          },
          "execution_count": 58
        }
      ]
    },
    {
      "cell_type": "code",
      "metadata": {
        "id": "JIZezWMQlKlM",
        "outputId": "de4d90ea-4f2e-45e7-c655-40a4a232a564",
        "colab": {
          "base_uri": "https://localhost:8080/"
        }
      },
      "source": [
        "# calculate predictions for all items with matrix multiplication (@)\n",
        "def linear1(xb): return xb@weights + bias\n",
        "preds = linear1(train_x)\n",
        "preds"
      ],
      "execution_count": 59,
      "outputs": [
        {
          "output_type": "execute_result",
          "data": {
            "text/plain": [
              "tensor([[20.2336],\n",
              "        [17.0644],\n",
              "        [15.2384],\n",
              "        ...,\n",
              "        [18.3804],\n",
              "        [23.8567],\n",
              "        [28.6816]], grad_fn=<AddBackward0>)"
            ]
          },
          "metadata": {
            "tags": []
          },
          "execution_count": 59
        }
      ]
    },
    {
      "cell_type": "code",
      "metadata": {
        "id": "EKg-ZaRVmPdE",
        "outputId": "fc06b016-def5-4e0c-b04e-de88762a802c",
        "colab": {
          "base_uri": "https://localhost:8080/"
        }
      },
      "source": [
        "#  check whether it's greater than 0. accuracy for each item can be calculated using broadcasting (no loops)\n",
        "corrects = (preds>0.0).float() == train_y\n",
        "corrects"
      ],
      "execution_count": 70,
      "outputs": [
        {
          "output_type": "execute_result",
          "data": {
            "text/plain": [
              "tensor([[ True],\n",
              "        [ True],\n",
              "        [ True],\n",
              "        ...,\n",
              "        [False],\n",
              "        [False],\n",
              "        [False]])"
            ]
          },
          "metadata": {
            "tags": []
          },
          "execution_count": 70
        }
      ]
    },
    {
      "cell_type": "code",
      "metadata": {
        "id": "4nNQ2bxJmea6",
        "outputId": "c2647bfa-2afe-4452-e201-1b023666e8e9",
        "colab": {
          "base_uri": "https://localhost:8080/"
        }
      },
      "source": [
        "corrects.float().mean().item()"
      ],
      "execution_count": 67,
      "outputs": [
        {
          "output_type": "execute_result",
          "data": {
            "text/plain": [
              "0.4912068545818329"
            ]
          },
          "metadata": {
            "tags": []
          },
          "execution_count": 67
        }
      ]
    },
    {
      "cell_type": "markdown",
      "metadata": {
        "id": "Hb3Z8Vgqxp1t"
      },
      "source": [
        "##### sigmoid in loss function"
      ]
    },
    {
      "cell_type": "code",
      "metadata": {
        "id": "H4NkXHcEx0Hs"
      },
      "source": [
        "def sigmoid(x): return 1/(1+torch.exp(-x))"
      ],
      "execution_count": 79,
      "outputs": []
    },
    {
      "cell_type": "code",
      "metadata": {
        "id": "bc2zr11Pxuye"
      },
      "source": [
        "def mnist_loss(predictions, targets):\n",
        "    predictions = predictions.sigmoid()\n",
        "    return torch.where(targets==1, 1-predictions, predictions).mean()"
      ],
      "execution_count": 80,
      "outputs": []
    },
    {
      "cell_type": "markdown",
      "metadata": {
        "id": "RP75Liplu-Nw"
      },
      "source": [
        "### Applying loss function"
      ]
    },
    {
      "cell_type": "code",
      "metadata": {
        "id": "_4w9TTuuu9JV"
      },
      "source": [
        "weights = init_params((28*28, 1))\n",
        "bias = init_params(1)"
      ],
      "execution_count": 71,
      "outputs": []
    },
    {
      "cell_type": "code",
      "metadata": {
        "id": "4tA88a93vRu-",
        "outputId": "89999279-5b13-47b7-c088-f4e24ac96761",
        "colab": {
          "base_uri": "https://localhost:8080/"
        }
      },
      "source": [
        "# a dataloader carn be created from a dataset\n",
        "dl = DataLoader(dset, batch_size=256)\n",
        "xb, yb = first(dl)\n",
        "xb.shape, yb.shape"
      ],
      "execution_count": 74,
      "outputs": [
        {
          "output_type": "execute_result",
          "data": {
            "text/plain": [
              "(torch.Size([256, 784]), torch.Size([256, 1]))"
            ]
          },
          "metadata": {
            "tags": []
          },
          "execution_count": 74
        }
      ]
    },
    {
      "cell_type": "code",
      "metadata": {
        "id": "tWKbXasXwqQU"
      },
      "source": [
        "valid_dl = DataLoader(valid_dset, batch_size=256)"
      ],
      "execution_count": 75,
      "outputs": []
    },
    {
      "cell_type": "markdown",
      "metadata": {
        "id": "BYeLIRyyw3qM"
      },
      "source": [
        "##### test with a mini batch"
      ]
    },
    {
      "cell_type": "code",
      "metadata": {
        "id": "Lqj2ZZmEwxW-",
        "outputId": "8571841c-bee2-4c73-a1a0-0da95b5918d7",
        "colab": {
          "base_uri": "https://localhost:8080/"
        }
      },
      "source": [
        "batch = train_x[:4]\n",
        "batch.shape\n"
      ],
      "execution_count": 76,
      "outputs": [
        {
          "output_type": "execute_result",
          "data": {
            "text/plain": [
              "torch.Size([4, 784])"
            ]
          },
          "metadata": {
            "tags": []
          },
          "execution_count": 76
        }
      ]
    },
    {
      "cell_type": "code",
      "metadata": {
        "id": "TcFXJ84BxPcQ",
        "outputId": "6481b875-ed02-4d12-cb3a-0ab2f330ee5a",
        "colab": {
          "base_uri": "https://localhost:8080/"
        }
      },
      "source": [
        "preds = linear1(batch)\n",
        "preds"
      ],
      "execution_count": 77,
      "outputs": [
        {
          "output_type": "execute_result",
          "data": {
            "text/plain": [
              "tensor([[-15.0592],\n",
              "        [ -6.4868],\n",
              "        [-14.2646],\n",
              "        [-11.4282]], grad_fn=<AddBackward0>)"
            ]
          },
          "metadata": {
            "tags": []
          },
          "execution_count": 77
        }
      ]
    },
    {
      "cell_type": "code",
      "metadata": {
        "id": "dnbnkAdvxbLS",
        "outputId": "0ee89c58-8865-4550-97fc-fbb6e15d4f2e",
        "colab": {
          "base_uri": "https://localhost:8080/"
        }
      },
      "source": [
        "loss = mnist_loss(preds, train_y[:4])\n",
        "loss"
      ],
      "execution_count": 81,
      "outputs": [
        {
          "output_type": "execute_result",
          "data": {
            "text/plain": [
              "tensor(0.9996, grad_fn=<MeanBackward0>)"
            ]
          },
          "metadata": {
            "tags": []
          },
          "execution_count": 81
        }
      ]
    },
    {
      "cell_type": "code",
      "metadata": {
        "id": "YKcX6KlKyHEV",
        "outputId": "a3cad647-1249-4c27-b257-62646330e94b",
        "colab": {
          "base_uri": "https://localhost:8080/"
        }
      },
      "source": [
        "loss.backward()\n",
        "weights.grad.shape,weights.grad.mean(),bias.grad"
      ],
      "execution_count": 82,
      "outputs": [
        {
          "output_type": "execute_result",
          "data": {
            "text/plain": [
              "(torch.Size([784, 1]), tensor(-5.4572e-05), tensor([-0.0004]))"
            ]
          },
          "metadata": {
            "tags": []
          },
          "execution_count": 82
        }
      ]
    },
    {
      "cell_type": "code",
      "metadata": {
        "id": "PwPLvv8MyfvR"
      },
      "source": [
        "def calc_grad(xb, yb, model):\n",
        "    preds = model(xb)\n",
        "    loss = mnist_loss(preds, yb)\n",
        "    loss.backward()"
      ],
      "execution_count": 83,
      "outputs": []
    },
    {
      "cell_type": "code",
      "metadata": {
        "id": "d7buqLyiyjiZ",
        "outputId": "d4facb72-7794-40f9-a01d-6120614aacf1",
        "colab": {
          "base_uri": "https://localhost:8080/"
        }
      },
      "source": [
        "calc_grad(batch, train_y[:4], linear1)\n",
        "weights.grad.mean(),bias.grad"
      ],
      "execution_count": 84,
      "outputs": [
        {
          "output_type": "execute_result",
          "data": {
            "text/plain": [
              "(tensor(-0.0001), tensor([-0.0008]))"
            ]
          },
          "metadata": {
            "tags": []
          },
          "execution_count": 84
        }
      ]
    }
  ]
}